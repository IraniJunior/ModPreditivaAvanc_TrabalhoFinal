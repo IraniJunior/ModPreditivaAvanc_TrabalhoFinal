{
  "nbformat": 4,
  "nbformat_minor": 0,
  "metadata": {
    "kernelspec": {
      "display_name": "R",
      "language": "R",
      "name": "ir"
    },
    "language_info": {
      "codemirror_mode": "r",
      "file_extension": ".r",
      "mimetype": "text/x-r-source",
      "name": "R",
      "pygments_lexer": "r",
      "version": "3.5.1"
    },
    "colab": {
      "name": "Case_Waldata",
      "provenance": [],
      "collapsed_sections": [
        "U8xRy8F6_h82"
      ],
      "machine_shape": "hm",
      "include_colab_link": true
    },
    "accelerator": "GPU"
  },
  "cells": [
    {
      "cell_type": "markdown",
      "metadata": {
        "id": "view-in-github",
        "colab_type": "text"
      },
      "source": [
        "<a href=\"https://colab.research.google.com/github/americofreitasjr/ModPreditivaAvanc_TrabalhoFinal/blob/master/Case_Waldata.ipynb\" target=\"_parent\"><img src=\"https://colab.research.google.com/assets/colab-badge.svg\" alt=\"Open In Colab\"/></a>"
      ]
    },
    {
      "cell_type": "markdown",
      "metadata": {
        "id": "AqomaHaG_h7v",
        "colab_type": "text"
      },
      "source": [
        "#**Trabalho de Modelagem Preditiva Avançada - Case WALDATA**\n",
        "---"
      ]
    },
    {
      "cell_type": "markdown",
      "metadata": {
        "id": "MZo9w3OC_h7x",
        "colab_type": "text"
      },
      "source": [
        "## Alunos: **Américo Freitas Junior e Irani Barbosa Junior**"
      ]
    },
    {
      "cell_type": "markdown",
      "metadata": {
        "id": "TThurtuK_h7y",
        "colab_type": "text"
      },
      "source": [
        "A multinacional de varejo Waldata quer expandir a sua presença na América Latina e por isso decide firmar uma parceria com a FGV para desenvolver um modelo preditivo do\n",
        "valor de vendas. Além disso a companhia decide investir em uma solução de “Targeted Advertising” que utilizará um modelo de “Machine Learning” para dizer se um cliente irá\n",
        "aderir ou não ao serviço premium."
      ]
    },
    {
      "cell_type": "markdown",
      "metadata": {
        "id": "oSas0xXRtcvv",
        "colab_type": "text"
      },
      "source": [
        "---"
      ]
    },
    {
      "cell_type": "markdown",
      "metadata": {
        "id": "yRqKIIui_h70",
        "colab_type": "text"
      },
      "source": [
        "## Modelos Preditivos para o Valor de Vendas\n",
        "##### Neste estudo vamos desenvolver e testar modelos de regressão para prever as vendas semanais da Waldata.\n",
        "\n"
      ]
    },
    {
      "cell_type": "markdown",
      "metadata": {
        "id": "SON8DabQ_h70",
        "colab_type": "text"
      },
      "source": [
        "### Carregando as Bibliotecas"
      ]
    },
    {
      "cell_type": "code",
      "metadata": {
        "id": "wO3yRxcQF1Ne",
        "colab_type": "code",
        "colab": {}
      },
      "source": [
        "rm(list = ls())"
      ],
      "execution_count": 0,
      "outputs": []
    },
    {
      "cell_type": "code",
      "metadata": {
        "id": "49j3kVBWAVD1",
        "colab_type": "code",
        "colab": {}
      },
      "source": [
        "install.packages(\"xgboost\")\n",
        "install.packages(\"e1071\")\n",
        "install.packages(\"randomForest\")\n",
        "install.packages(\"mlbench\")\n",
        "install.packages(\"stringr\")\n",
        "install.packages(\"dplyr\")\n",
        "install.packages(\"lubridate\")\n",
        "install.packages(\"ggplot2\")\n",
        "install.packages(\"gridExtra\")\n",
        "install.packages(\"pROC\")\n",
        "install.packages(\"ROCR\")\n",
        "install.packages(\"caret\")\n",
        "install.packages(\"kernlab\")"
      ],
      "execution_count": 0,
      "outputs": []
    },
    {
      "cell_type": "code",
      "metadata": {
        "id": "71mqPcit_h71",
        "colab_type": "code",
        "colab": {}
      },
      "source": [
        "options(warn=-1)\n",
        "library(caret)\n",
        "library(pROC)\n",
        "library(xgboost)\n",
        "library(e1071)\n",
        "library(randomForest)\n",
        "library(mlbench)\n",
        "library(stringr)\n",
        "library(dplyr)\n",
        "library(lubridate)\n",
        "library(ggplot2)\n",
        "library(gridExtra)\n",
        "library(ROCR)\n",
        "library(kernlab)"
      ],
      "execution_count": 0,
      "outputs": []
    },
    {
      "cell_type": "markdown",
      "metadata": {
        "id": "ebPD4wCp_h76",
        "colab_type": "text"
      },
      "source": [
        "### Carregando a base de dados Retail.csv\n",
        "\n"
      ]
    },
    {
      "cell_type": "code",
      "metadata": {
        "id": "rzeX8Q_q_h7-",
        "colab_type": "code",
        "colab": {}
      },
      "source": [
        "df <- read.csv(\"Retail.csv\", header = TRUE, stringsAsFactors = FALSE)"
      ],
      "execution_count": 0,
      "outputs": []
    },
    {
      "cell_type": "markdown",
      "metadata": {
        "id": "m9cg1Oh1zETu",
        "colab_type": "text"
      },
      "source": [
        "### Análise Exploratória"
      ]
    },
    {
      "cell_type": "code",
      "metadata": {
        "id": "SW9gXXRT_h8B",
        "colab_type": "code",
        "outputId": "86769048-d0c4-495d-b5a7-719aa36d4834",
        "colab": {
          "base_uri": "https://localhost:8080/",
          "height": 204
        }
      },
      "source": [
        "head(df)"
      ],
      "execution_count": 0,
      "outputs": [
        {
          "output_type": "display_data",
          "data": {
            "text/plain": [
              "  Store Date       Temperature Fuel_Price MarkDown1 MarkDown2 MarkDown3\n",
              "1 1     05/02/2010 42.31       2.572      NA        NA        NA       \n",
              "2 1     12/02/2010 38.51       2.548      NA        NA        NA       \n",
              "3 1     19/02/2010 39.93       2.514      NA        NA        NA       \n",
              "4 1     26/02/2010 46.63       2.561      NA        NA        NA       \n",
              "5 1     05/03/2010 46.50       2.625      NA        NA        NA       \n",
              "6 1     12/03/2010 57.79       2.667      NA        NA        NA       \n",
              "  MarkDown4 MarkDown5 CPI      Unemployment IsHoliday Weekly_Sales\n",
              "1 NA        NA        211.0964 8.106        FALSE     1643690.9   \n",
              "2 NA        NA        211.2422 8.106         TRUE     1641957.44  \n",
              "3 NA        NA        211.2891 8.106        FALSE     1611968.17  \n",
              "4 NA        NA        211.3196 8.106        FALSE     1409727.59  \n",
              "5 NA        NA        211.3501 8.106        FALSE     1554806.68  \n",
              "6 NA        NA        211.3806 8.106        FALSE     1439541.59  "
            ],
            "text/latex": "A data.frame: 6 × 13\n\\begin{tabular}{r|lllllllllllll}\n  & Store & Date & Temperature & Fuel\\_Price & MarkDown1 & MarkDown2 & MarkDown3 & MarkDown4 & MarkDown5 & CPI & Unemployment & IsHoliday & Weekly\\_Sales\\\\\n  & <int> & <chr> & <dbl> & <dbl> & <dbl> & <dbl> & <dbl> & <dbl> & <dbl> & <dbl> & <dbl> & <lgl> & <chr>\\\\\n\\hline\n\t1 & 1 & 05/02/2010 & 42.31 & 2.572 & NA & NA & NA & NA & NA & 211.0964 & 8.106 & FALSE & 1643690.9 \\\\\n\t2 & 1 & 12/02/2010 & 38.51 & 2.548 & NA & NA & NA & NA & NA & 211.2422 & 8.106 &  TRUE & 1641957.44\\\\\n\t3 & 1 & 19/02/2010 & 39.93 & 2.514 & NA & NA & NA & NA & NA & 211.2891 & 8.106 & FALSE & 1611968.17\\\\\n\t4 & 1 & 26/02/2010 & 46.63 & 2.561 & NA & NA & NA & NA & NA & 211.3196 & 8.106 & FALSE & 1409727.59\\\\\n\t5 & 1 & 05/03/2010 & 46.50 & 2.625 & NA & NA & NA & NA & NA & 211.3501 & 8.106 & FALSE & 1554806.68\\\\\n\t6 & 1 & 12/03/2010 & 57.79 & 2.667 & NA & NA & NA & NA & NA & 211.3806 & 8.106 & FALSE & 1439541.59\\\\\n\\end{tabular}\n",
            "text/markdown": "\nA data.frame: 6 × 13\n\n| <!--/--> | Store &lt;int&gt; | Date &lt;chr&gt; | Temperature &lt;dbl&gt; | Fuel_Price &lt;dbl&gt; | MarkDown1 &lt;dbl&gt; | MarkDown2 &lt;dbl&gt; | MarkDown3 &lt;dbl&gt; | MarkDown4 &lt;dbl&gt; | MarkDown5 &lt;dbl&gt; | CPI &lt;dbl&gt; | Unemployment &lt;dbl&gt; | IsHoliday &lt;lgl&gt; | Weekly_Sales &lt;chr&gt; |\n|---|---|---|---|---|---|---|---|---|---|---|---|---|---|\n| 1 | 1 | 05/02/2010 | 42.31 | 2.572 | NA | NA | NA | NA | NA | 211.0964 | 8.106 | FALSE | 1643690.9  |\n| 2 | 1 | 12/02/2010 | 38.51 | 2.548 | NA | NA | NA | NA | NA | 211.2422 | 8.106 |  TRUE | 1641957.44 |\n| 3 | 1 | 19/02/2010 | 39.93 | 2.514 | NA | NA | NA | NA | NA | 211.2891 | 8.106 | FALSE | 1611968.17 |\n| 4 | 1 | 26/02/2010 | 46.63 | 2.561 | NA | NA | NA | NA | NA | 211.3196 | 8.106 | FALSE | 1409727.59 |\n| 5 | 1 | 05/03/2010 | 46.50 | 2.625 | NA | NA | NA | NA | NA | 211.3501 | 8.106 | FALSE | 1554806.68 |\n| 6 | 1 | 12/03/2010 | 57.79 | 2.667 | NA | NA | NA | NA | NA | 211.3806 | 8.106 | FALSE | 1439541.59 |\n\n",
            "text/html": [
              "<table>\n",
              "<caption>A data.frame: 6 × 13</caption>\n",
              "<thead>\n",
              "\t<tr><th></th><th scope=col>Store</th><th scope=col>Date</th><th scope=col>Temperature</th><th scope=col>Fuel_Price</th><th scope=col>MarkDown1</th><th scope=col>MarkDown2</th><th scope=col>MarkDown3</th><th scope=col>MarkDown4</th><th scope=col>MarkDown5</th><th scope=col>CPI</th><th scope=col>Unemployment</th><th scope=col>IsHoliday</th><th scope=col>Weekly_Sales</th></tr>\n",
              "\t<tr><th></th><th scope=col>&lt;int&gt;</th><th scope=col>&lt;chr&gt;</th><th scope=col>&lt;dbl&gt;</th><th scope=col>&lt;dbl&gt;</th><th scope=col>&lt;dbl&gt;</th><th scope=col>&lt;dbl&gt;</th><th scope=col>&lt;dbl&gt;</th><th scope=col>&lt;dbl&gt;</th><th scope=col>&lt;dbl&gt;</th><th scope=col>&lt;dbl&gt;</th><th scope=col>&lt;dbl&gt;</th><th scope=col>&lt;lgl&gt;</th><th scope=col>&lt;chr&gt;</th></tr>\n",
              "</thead>\n",
              "<tbody>\n",
              "\t<tr><th scope=row>1</th><td>1</td><td>05/02/2010</td><td>42.31</td><td>2.572</td><td>NA</td><td>NA</td><td>NA</td><td>NA</td><td>NA</td><td>211.0964</td><td>8.106</td><td>FALSE</td><td>1643690.9 </td></tr>\n",
              "\t<tr><th scope=row>2</th><td>1</td><td>12/02/2010</td><td>38.51</td><td>2.548</td><td>NA</td><td>NA</td><td>NA</td><td>NA</td><td>NA</td><td>211.2422</td><td>8.106</td><td> TRUE</td><td>1641957.44</td></tr>\n",
              "\t<tr><th scope=row>3</th><td>1</td><td>19/02/2010</td><td>39.93</td><td>2.514</td><td>NA</td><td>NA</td><td>NA</td><td>NA</td><td>NA</td><td>211.2891</td><td>8.106</td><td>FALSE</td><td>1611968.17</td></tr>\n",
              "\t<tr><th scope=row>4</th><td>1</td><td>26/02/2010</td><td>46.63</td><td>2.561</td><td>NA</td><td>NA</td><td>NA</td><td>NA</td><td>NA</td><td>211.3196</td><td>8.106</td><td>FALSE</td><td>1409727.59</td></tr>\n",
              "\t<tr><th scope=row>5</th><td>1</td><td>05/03/2010</td><td>46.50</td><td>2.625</td><td>NA</td><td>NA</td><td>NA</td><td>NA</td><td>NA</td><td>211.3501</td><td>8.106</td><td>FALSE</td><td>1554806.68</td></tr>\n",
              "\t<tr><th scope=row>6</th><td>1</td><td>12/03/2010</td><td>57.79</td><td>2.667</td><td>NA</td><td>NA</td><td>NA</td><td>NA</td><td>NA</td><td>211.3806</td><td>8.106</td><td>FALSE</td><td>1439541.59</td></tr>\n",
              "</tbody>\n",
              "</table>\n"
            ]
          },
          "metadata": {
            "tags": []
          }
        }
      ]
    },
    {
      "cell_type": "code",
      "metadata": {
        "id": "_6lg6vDe_h8E",
        "colab_type": "code",
        "outputId": "1f28663c-5c0d-443a-cae5-debc662e8de5",
        "colab": {
          "base_uri": "https://localhost:8080/",
          "height": 255
        }
      },
      "source": [
        "str(df)"
      ],
      "execution_count": 0,
      "outputs": [
        {
          "output_type": "stream",
          "text": [
            "'data.frame':\t8190 obs. of  13 variables:\n",
            " $ Store       : int  1 1 1 1 1 1 1 1 1 1 ...\n",
            " $ Date        : chr  \"05/02/2010\" \"12/02/2010\" \"19/02/2010\" \"26/02/2010\" ...\n",
            " $ Temperature : num  42.3 38.5 39.9 46.6 46.5 ...\n",
            " $ Fuel_Price  : num  2.57 2.55 2.51 2.56 2.62 ...\n",
            " $ MarkDown1   : num  NA NA NA NA NA NA NA NA NA NA ...\n",
            " $ MarkDown2   : num  NA NA NA NA NA NA NA NA NA NA ...\n",
            " $ MarkDown3   : num  NA NA NA NA NA NA NA NA NA NA ...\n",
            " $ MarkDown4   : num  NA NA NA NA NA NA NA NA NA NA ...\n",
            " $ MarkDown5   : num  NA NA NA NA NA NA NA NA NA NA ...\n",
            " $ CPI         : num  211 211 211 211 211 ...\n",
            " $ Unemployment: num  8.11 8.11 8.11 8.11 8.11 ...\n",
            " $ IsHoliday   : logi  FALSE TRUE FALSE FALSE FALSE FALSE ...\n",
            " $ Weekly_Sales: chr  \"1643690.9\" \"1641957.44\" \"1611968.17\" \"1409727.59\" ...\n"
          ],
          "name": "stdout"
        }
      ]
    },
    {
      "cell_type": "markdown",
      "metadata": {
        "id": "Yur1qmv4_h8I",
        "colab_type": "text"
      },
      "source": [
        "### A base de dados Retail apresenta informações sobre as vendas semanais de 45 lojas com os seguintes campos:\n",
        "\n",
        "**Store** - Identificação da loja <br>\n",
        "**Date** - Dia da apuração dos dados <br>\n",
        "**Temperature** - Temperatura na localidade da loja <br>\n",
        "**Fuel_Price** - Preço do galão de combustível na localidade <br>\n",
        "**MarkDown**(n) - Desconto promocional <br>\n",
        "**Unemployment** - Taxa de desemprego <br>\n",
        "**IsHoliday** - Se na semana houve feriado <br>\n",
        "**Weekly_Sales** - Somatório das vendas semanais na loja <br>\n"
      ]
    },
    {
      "cell_type": "code",
      "metadata": {
        "id": "rNZ2EYpew4ZN",
        "colab_type": "code",
        "outputId": "8028a58e-f614-4656-be36-3dd54abbf28e",
        "colab": {
          "base_uri": "https://localhost:8080/",
          "height": 561
        }
      },
      "source": [
        "summary(df)"
      ],
      "execution_count": 0,
      "outputs": [
        {
          "output_type": "display_data",
          "data": {
            "text/plain": [
              "     Store        Date            Temperature       Fuel_Price   \n",
              " Min.   : 1   Length:8190        Min.   : -7.29   Min.   :2.472  \n",
              " 1st Qu.:12   Class :character   1st Qu.: 45.90   1st Qu.:3.041  \n",
              " Median :23   Mode  :character   Median : 60.71   Median :3.513  \n",
              " Mean   :23                      Mean   : 59.36   Mean   :3.406  \n",
              " 3rd Qu.:34                      3rd Qu.: 73.88   3rd Qu.:3.743  \n",
              " Max.   :45                      Max.   :101.95   Max.   :4.468  \n",
              "                                                                 \n",
              "   MarkDown1        MarkDown2           MarkDown3           MarkDown4       \n",
              " Min.   : -2781   Min.   :  -265.76   Min.   :  -179.26   Min.   :    0.22  \n",
              " 1st Qu.:  1578   1st Qu.:    68.88   1st Qu.:     6.60   1st Qu.:  304.69  \n",
              " Median :  4744   Median :   364.57   Median :    36.26   Median : 1176.42  \n",
              " Mean   :  7032   Mean   :  3384.18   Mean   :  1760.10   Mean   : 3292.94  \n",
              " 3rd Qu.:  8923   3rd Qu.:  2153.35   3rd Qu.:   163.15   3rd Qu.: 3310.01  \n",
              " Max.   :103185   Max.   :104519.54   Max.   :149483.31   Max.   :67474.85  \n",
              " NA's   :4158     NA's   :5269        NA's   :4577        NA's   :4726      \n",
              "   MarkDown5             CPI         Unemployment    IsHoliday      \n",
              " Min.   :  -185.2   Min.   :126.1   Min.   : 3.684   Mode :logical  \n",
              " 1st Qu.:  1440.8   1st Qu.:132.4   1st Qu.: 6.634   FALSE:7605     \n",
              " Median :  2727.1   Median :182.8   Median : 7.806   TRUE :585      \n",
              " Mean   :  4132.2   Mean   :172.5   Mean   : 7.827                  \n",
              " 3rd Qu.:  4832.6   3rd Qu.:213.9   3rd Qu.: 8.567                  \n",
              " Max.   :771448.1   Max.   :229.0   Max.   :14.313                  \n",
              " NA's   :4140       NA's   :585     NA's   :585                     \n",
              " Weekly_Sales      \n",
              " Length:8190       \n",
              " Class :character  \n",
              " Mode  :character  \n",
              "                   \n",
              "                   \n",
              "                   \n",
              "                   "
            ]
          },
          "metadata": {
            "tags": []
          }
        }
      ]
    },
    {
      "cell_type": "markdown",
      "metadata": {
        "id": "uCNhMWFgwpIt",
        "colab_type": "text"
      },
      "source": [
        "### Outliers\n",
        "#####Podemos observar que as variáveis *MarkDown(n)* possuem distribuição assimétrica, *outliers* e valores negativos. Existe um outlier proeminente na variável MarkDown5."
      ]
    },
    {
      "cell_type": "code",
      "metadata": {
        "id": "tlji_w-mHx20",
        "colab_type": "code",
        "outputId": "85ac963e-767a-416f-aff2-0eb3ab0fdbb7",
        "colab": {
          "base_uri": "https://localhost:8080/",
          "height": 917
        }
      },
      "source": [
        "options(repr.plot.width = 10, repr.plot.height = 15)\n",
        "par(mfrow = c(3, 2))\n",
        "boxplot(df$MarkDown1, main = \"MarkDown1\", col = \"blue\")\n",
        "boxplot(df$MarkDown2, main = \"MarkDown2\", col = \"blue\")\n",
        "boxplot(df$MarkDown3, main = \"MarkDown3\", col = \"blue\")\n",
        "boxplot(df$MarkDown4, main = \"MarkDown4\", col = \"blue\")\n",
        "boxplot(df$MarkDown5, main = \"MarkDown5\", col = \"blue\")\n",
        "par(mfrow = c(1, 1))"
      ],
      "execution_count": 0,
      "outputs": [
        {
          "output_type": "display_data",
          "data": {
            "image/png": "[encoded data removed]",
            "text/plain": [
              "Plot with title “MarkDown5”"
            ]
          },
          "metadata": {
            "tags": [],
            "image/png": {
              "width": 600,
              "height": 900
            },
            "text/plain": {
              "width": 600,
              "height": 900
            }
          }
        }
      ]
    },
    {
      "cell_type": "markdown",
      "metadata": {
        "id": "OQ1Nx2VcYxuj",
        "colab_type": "text"
      },
      "source": [
        "### Valores negativos nas Variáveis MarkDown(n)\n",
        "##### Existem 44 observações com valor negativo, numero relativamente pequeno se comparado ao tamanho da amostra."
      ]
    },
    {
      "cell_type": "code",
      "metadata": {
        "id": "cWzFLKvEFmK6",
        "colab_type": "code",
        "outputId": "2a7346ff-a99d-4c08-cb0c-315ed8ee4286",
        "colab": {
          "base_uri": "https://localhost:8080/",
          "height": 119
        }
      },
      "source": [
        "str(df %>% select(MarkDown1, MarkDown2, MarkDown3, MarkDown4, MarkDown5) %>%\n",
        "filter_all (any_vars(. < 0)))"
      ],
      "execution_count": 0,
      "outputs": [
        {
          "output_type": "stream",
          "text": [
            "'data.frame':\t44 obs. of  5 variables:\n",
            " $ MarkDown1: num  8807 1650 1631 9023 5510 ...\n",
            " $ MarkDown2: num  -10.5 -11 -35.7 927.3 33063.6 ...\n",
            " $ MarkDown3: num  5.99 2.31 15.46 170.24 -0.86 ...\n",
            " $ MarkDown4: num  739 1956 327 405 693 ...\n",
            " $ MarkDown5: num  4397 1205 2311 -185 3419 ...\n"
          ],
          "name": "stdout"
        }
      ]
    },
    {
      "cell_type": "markdown",
      "metadata": {
        "id": "lwOatK32ZOBV",
        "colab_type": "text"
      },
      "source": [
        "### Dados faltantes na variável Weekly_Sales\n",
        "##### Existem 1755 observações faltantes, valor expressivo comparado ao tamanho da amostra."
      ]
    },
    {
      "cell_type": "code",
      "metadata": {
        "id": "SmkW0-wpDYf4",
        "colab_type": "code",
        "outputId": "319e0471-1a33-4ae6-88ad-1cb063098c13",
        "colab": {
          "base_uri": "https://localhost:8080/",
          "height": 51
        }
      },
      "source": [
        "str(df %>% select(Weekly_Sales) %>% filter_all(any_vars(. == \"#N/D\")))"
      ],
      "execution_count": 0,
      "outputs": [
        {
          "output_type": "stream",
          "text": [
            "'data.frame':\t1755 obs. of  1 variable:\n",
            " $ Weekly_Sales: chr  \"#N/D\" \"#N/D\" \"#N/D\" \"#N/D\" ...\n"
          ],
          "name": "stdout"
        }
      ]
    },
    {
      "cell_type": "markdown",
      "metadata": {
        "id": "69nFDwfQ_h8J",
        "colab_type": "text"
      },
      "source": [
        "### Tratando os Dados"
      ]
    },
    {
      "cell_type": "markdown",
      "metadata": {
        "id": "m-c9_FovOp1B",
        "colab_type": "text"
      },
      "source": [
        "#####Testamos várias transformações nos dados e simulamos nos modelos buscando a melhor performance geral. O tratamento da base abaixo foi o que apresentou a melhor performance dentro da nossa capacidade computacional. A transformação da variável *Store* em factor, tornou o processamento muito mais pesado mas elevou o R-squared da Regressão Linear de 0.1312 para 0.6678 e afetou positivamente os modelos *Boosting e Rede Neural*, e negativamente o *Bagging e o Random Forest*. Notamos ainda que a escala de importância das variáveis também sofreu grande alteração com a tranformação do *Store* em factor mas apresentou dados coerentes com a realidade conforme veremos a seguir."
      ]
    },
    {
      "cell_type": "markdown",
      "metadata": {
        "id": "05tYl27hvzZ2",
        "colab_type": "text"
      },
      "source": [
        "##### Entendemos que a a variável Store é uma variável qualitativa de escala nominal e convertemos em tipo Factor."
      ]
    },
    {
      "cell_type": "code",
      "metadata": {
        "id": "cuwHd7cvvkc-",
        "colab_type": "code",
        "colab": {}
      },
      "source": [
        "df$Store <- as.factor(df$Store)"
      ],
      "execution_count": 0,
      "outputs": []
    },
    {
      "cell_type": "markdown",
      "metadata": {
        "id": "BA7vQ2nJMyCU",
        "colab_type": "text"
      },
      "source": [
        "##### Aplicaremos o formato numérico à variável alvo da nossa predição (que foi importada como tipo character).\n"
      ]
    },
    {
      "cell_type": "code",
      "metadata": {
        "id": "tbqQMBXpJOKv",
        "colab_type": "code",
        "colab": {}
      },
      "source": [
        "df$Weekly_Sales <- as.double(df$Weekly_Sales)"
      ],
      "execution_count": 0,
      "outputs": []
    },
    {
      "cell_type": "markdown",
      "metadata": {
        "id": "Vt2BCFC7k8wO",
        "colab_type": "text"
      },
      "source": [
        "##### Consideraremos que os NAs em Weekly_Sales significam que não houveram vendas naquela semana e substituiremos por 0(zero)."
      ]
    },
    {
      "cell_type": "code",
      "metadata": {
        "id": "C2ikSD9olWGp",
        "colab_type": "code",
        "colab": {}
      },
      "source": [
        "df$Weekly_Sales[is.na(df$Weekly_Sales)] <- 0"
      ],
      "execution_count": 0,
      "outputs": []
    },
    {
      "cell_type": "markdown",
      "metadata": {
        "id": "Rr3rdiyuqoI7",
        "colab_type": "text"
      },
      "source": [
        "##### Converteremos a variável **Date** para o formato semana. O novo formato transformará o dado em número da semana, começando do \"1\" para a primeira semana do ano até o numero \"53\" que representa a última semana. Optamos por esta transformação para adequar a medida do tempo ao intervalo de apuração das vendas (Weekly_Sales), que é semanal."
      ]
    },
    {
      "cell_type": "code",
      "metadata": {
        "id": "YtpmS-_L_h8N",
        "colab_type": "code",
        "colab": {}
      },
      "source": [
        "df$Date <- as.numeric(str_replace_all(df$Date, fixed(\"/\"), \"\"))\n",
        "df$Date <- dmy(df$Date)\n",
        "df$Date <- week(df$Date)"
      ],
      "execution_count": 0,
      "outputs": []
    },
    {
      "cell_type": "markdown",
      "metadata": {
        "id": "aRfXxXcoLkFi",
        "colab_type": "text"
      },
      "source": [
        "Consideraremos que os NAs das variáveis *MarkDown(n)* significam que não houve promoção e substituiremos todos por 0."
      ]
    },
    {
      "cell_type": "code",
      "metadata": {
        "id": "DHg5-PZe_h8T",
        "colab_type": "code",
        "colab": {}
      },
      "source": [
        "df$MarkDown1[is.na(df$MarkDown1)] <- 0\n",
        "df$MarkDown2[is.na(df$MarkDown2)] <- 0\n",
        "df$MarkDown3[is.na(df$MarkDown3)] <- 0\n",
        "df$MarkDown4[is.na(df$MarkDown4)] <- 0\n",
        "df$MarkDown5[is.na(df$MarkDown5)] <- 0"
      ],
      "execution_count": 0,
      "outputs": []
    },
    {
      "cell_type": "markdown",
      "metadata": {
        "id": "w-a5pWojL8ij",
        "colab_type": "text"
      },
      "source": [
        "##### Consideraremos que não existe promoção com valores negativos. Como existem apenas 44 observações vamos substituir por zero e considerar que não houve promoção."
      ]
    },
    {
      "cell_type": "code",
      "metadata": {
        "id": "ZvC22EPZRH6H",
        "colab_type": "code",
        "colab": {}
      },
      "source": [
        "df$MarkDown1[df$MarkDown1 < 0] <- 0\n",
        "df$MarkDown2[df$MarkDown2 < 0] <- 0\n",
        "df$MarkDown3[df$MarkDown3 < 0] <- 0\n",
        "df$MarkDown4[df$MarkDown4 < 0] <- 0\n",
        "df$MarkDown5[df$MarkDown5 < 0] <- 0"
      ],
      "execution_count": 0,
      "outputs": []
    },
    {
      "cell_type": "markdown",
      "metadata": {
        "id": "cnhTmYM4MYud",
        "colab_type": "text"
      },
      "source": [
        "##### Excluiremos as informações faltantes (NA)das variáveis CPI e Unemployment pois são apuradas por região e não seria prudente utilizarmos a média entre regiões diferentes, uma vez que não temos os dados da localização geográfica de cada Store. Cogitamos apurar a região dos Stores cruzando os dados da base com os do Governo Americano (que inferimos ser a localização dos Stores), mas devido ao curto prazo para a realização do trabalho, optamos por prosseguir sem esta informação."
      ]
    },
    {
      "cell_type": "code",
      "metadata": {
        "id": "jX8Grg9t_h8e",
        "colab_type": "code",
        "colab": {}
      },
      "source": [
        "df<-df[! is.na(df$CPI),]\n",
        "df<-df[! is.na(df$Unemployment ),]"
      ],
      "execution_count": 0,
      "outputs": []
    },
    {
      "cell_type": "markdown",
      "metadata": {
        "id": "_v-gUaLWOziK",
        "colab_type": "text"
      },
      "source": [
        "##### Excluiremos o outlier mais proeminente que ocorre na variável MarkDown5."
      ]
    },
    {
      "cell_type": "code",
      "metadata": {
        "id": "DNwJMCS3N9Di",
        "colab_type": "code",
        "colab": {}
      },
      "source": [
        " df<-df[! df$MarkDown5 == 771448.1,]"
      ],
      "execution_count": 0,
      "outputs": []
    },
    {
      "cell_type": "markdown",
      "metadata": {
        "id": "CTWVxUgMM3OK",
        "colab_type": "text"
      },
      "source": [
        "#### Base Tratada"
      ]
    },
    {
      "cell_type": "code",
      "metadata": {
        "id": "L-mIL4up_h8h",
        "colab_type": "code",
        "outputId": "f58b0a4b-1ecf-449b-bc46-01593b5f116e",
        "colab": {
          "base_uri": "https://localhost:8080/",
          "height": 272
        }
      },
      "source": [
        "glimpse(df)"
      ],
      "execution_count": 0,
      "outputs": [
        {
          "output_type": "stream",
          "text": [
            "Rows: 7,604\n",
            "Columns: 13\n",
            "$ Store        \u001b[3m\u001b[90m<fct>\u001b[39m\u001b[23m 1, 1, 1, 1, 1, 1, 1, 1, 1, 1, 1, 1, 1, 1, 1, 1, 1, 1, 1,…\n",
            "$ Date         \u001b[3m\u001b[90m<dbl>\u001b[39m\u001b[23m 6, 7, 8, 9, 10, 11, 12, 13, 14, 15, 16, 17, 18, 19, 20, …\n",
            "$ Temperature  \u001b[3m\u001b[90m<dbl>\u001b[39m\u001b[23m 42.31, 38.51, 39.93, 46.63, 46.50, 57.79, 54.58, 51.45, …\n",
            "$ Fuel_Price   \u001b[3m\u001b[90m<dbl>\u001b[39m\u001b[23m 2.572, 2.548, 2.514, 2.561, 2.625, 2.667, 2.720, 2.732, …\n",
            "$ MarkDown1    \u001b[3m\u001b[90m<dbl>\u001b[39m\u001b[23m 0, 0, 0, 0, 0, 0, 0, 0, 0, 0, 0, 0, 0, 0, 0, 0, 0, 0, 0,…\n",
            "$ MarkDown2    \u001b[3m\u001b[90m<dbl>\u001b[39m\u001b[23m 0, 0, 0, 0, 0, 0, 0, 0, 0, 0, 0, 0, 0, 0, 0, 0, 0, 0, 0,…\n",
            "$ MarkDown3    \u001b[3m\u001b[90m<dbl>\u001b[39m\u001b[23m 0, 0, 0, 0, 0, 0, 0, 0, 0, 0, 0, 0, 0, 0, 0, 0, 0, 0, 0,…\n",
            "$ MarkDown4    \u001b[3m\u001b[90m<dbl>\u001b[39m\u001b[23m 0, 0, 0, 0, 0, 0, 0, 0, 0, 0, 0, 0, 0, 0, 0, 0, 0, 0, 0,…\n",
            "$ MarkDown5    \u001b[3m\u001b[90m<dbl>\u001b[39m\u001b[23m 0, 0, 0, 0, 0, 0, 0, 0, 0, 0, 0, 0, 0, 0, 0, 0, 0, 0, 0,…\n",
            "$ CPI          \u001b[3m\u001b[90m<dbl>\u001b[39m\u001b[23m 211.0964, 211.2422, 211.2891, 211.3196, 211.3501, 211.38…\n",
            "$ Unemployment \u001b[3m\u001b[90m<dbl>\u001b[39m\u001b[23m 8.106, 8.106, 8.106, 8.106, 8.106, 8.106, 8.106, 8.106, …\n",
            "$ IsHoliday    \u001b[3m\u001b[90m<lgl>\u001b[39m\u001b[23m FALSE, TRUE, FALSE, FALSE, FALSE, FALSE, FALSE, FALSE, F…\n",
            "$ Weekly_Sales \u001b[3m\u001b[90m<dbl>\u001b[39m\u001b[23m 1643691, 1641957, 1611968, 1409728, 1554807, 1439542, 14…\n"
          ],
          "name": "stdout"
        }
      ]
    },
    {
      "cell_type": "code",
      "metadata": {
        "id": "R6XWh1oq_h8k",
        "colab_type": "code",
        "outputId": "a32265db-5a96-4eb3-fd34-3123b6977669",
        "colab": {
          "base_uri": "https://localhost:8080/",
          "height": 561
        }
      },
      "source": [
        "summary(df)"
      ],
      "execution_count": 0,
      "outputs": [
        {
          "output_type": "display_data",
          "data": {
            "text/plain": [
              "     Store           Date        Temperature       Fuel_Price   \n",
              " 1      : 169   Min.   : 1.00   Min.   : -7.29   Min.   :2.472  \n",
              " 2      : 169   1st Qu.:12.00   1st Qu.: 44.72   1st Qu.:3.001  \n",
              " 3      : 169   Median :25.00   Median : 59.25   Median :3.494  \n",
              " 4      : 169   Mean   :25.59   Mean   : 58.30   Mean   :3.390  \n",
              " 5      : 169   3rd Qu.:39.00   3rd Qu.: 72.62   3rd Qu.:3.742  \n",
              " 6      : 169   Max.   :53.00   Max.   :100.14   Max.   :4.468  \n",
              " (Other):6590                                                   \n",
              "   MarkDown1        MarkDown2           MarkDown3           MarkDown4    \n",
              " Min.   :     0   Min.   :     0.00   Min.   :     0.00   Min.   :    0  \n",
              " 1st Qu.:     0   1st Qu.:     0.00   1st Qu.:     0.00   1st Qu.:    0  \n",
              " Median :     0   Median :     0.00   Median :     0.00   Median :    0  \n",
              " Mean   :  3331   Mean   :  1257.86   Mean   :   822.06   Mean   : 1310  \n",
              " 3rd Qu.:  4164   3rd Qu.:    42.08   3rd Qu.:    14.61   3rd Qu.:  562  \n",
              " Max.   :103185   Max.   :104519.54   Max.   :149483.31   Max.   :67475  \n",
              "                                                                         \n",
              "   MarkDown5           CPI         Unemployment    IsHoliday      \n",
              " Min.   :     0   Min.   :126.1   Min.   : 3.684   Mode :logical  \n",
              " 1st Qu.:     0   1st Qu.:132.4   1st Qu.: 6.634   FALSE:7019     \n",
              " Median :     0   Median :182.8   Median : 7.806   TRUE :585      \n",
              " Mean   :  1839   Mean   :172.5   Mean   : 7.827                  \n",
              " 3rd Qu.:  2511   3rd Qu.:213.9   3rd Qu.: 8.567                  \n",
              " Max.   :108519   Max.   :229.0   Max.   :14.313                  \n",
              "                                                                  \n",
              "  Weekly_Sales    \n",
              " Min.   :      0  \n",
              " 1st Qu.: 408878  \n",
              " Median : 822944  \n",
              " Mean   : 886010  \n",
              " 3rd Qu.:1345605  \n",
              " Max.   :3818686  \n",
              "                  "
            ]
          },
          "metadata": {
            "tags": []
          }
        }
      ]
    },
    {
      "cell_type": "markdown",
      "metadata": {
        "id": "xSZGGV8fTZFG",
        "colab_type": "text"
      },
      "source": [
        "##### A análise do BoxPlot ainda aponta para muitos valores anômalos, que também são produto da transformação dos NAs em 0(zero), que modificou a posição da mediana e afetou toda a distribuição da variável *MarkDown(n)* Decidimos prosseguir com o estudo sem remover estes *Outliers* até entendermos melhor o quanto o seu comportamento afeta o resultado dos modelos."
      ]
    },
    {
      "cell_type": "code",
      "metadata": {
        "id": "GvONjEl48xbz",
        "colab_type": "code",
        "outputId": "6ed050de-3a68-466d-b618-d0076e1eebe8",
        "colab": {
          "base_uri": "https://localhost:8080/",
          "height": 917
        }
      },
      "source": [
        "options(repr.plot.width = 10, repr.plot.height = 15)\n",
        "par(mfrow = c(3, 2))\n",
        "boxplot(df$MarkDown1, main = \"MarkDown1\", col = \"blue\")\n",
        "boxplot(df$MarkDown2, main = \"MarkDown2\", col = \"blue\")\n",
        "boxplot(df$MarkDown3, main = \"MarkDown3\", col = \"blue\")\n",
        "boxplot(df$MarkDown4, main = \"MarkDown4\", col = \"blue\")\n",
        "boxplot(df$MarkDown5, main = \"MarkDown5\", col = \"blue\")\n",
        "par(mfrow = c(1, 1))"
      ],
      "execution_count": 0,
      "outputs": [
        {
          "output_type": "display_data",
          "data": {
            "image/png": "[encoded data removed]",
            "text/plain": [
              "Plot with title “MarkDown5”"
            ]
          },
          "metadata": {
            "tags": [],
            "image/png": {
              "width": 600,
              "height": 900
            },
            "text/plain": {
              "width": 600,
              "height": 900
            }
          }
        }
      ]
    },
    {
      "cell_type": "markdown",
      "metadata": {
        "id": "wCoFcZi9_h8m",
        "colab_type": "text"
      },
      "source": [
        "### Modelos para previsão das vendas\n",
        "\n"
      ]
    },
    {
      "cell_type": "markdown",
      "metadata": {
        "id": "1J6BMm5E_h8n",
        "colab_type": "text"
      },
      "source": [
        "### Criando as partições de treino e teste"
      ]
    },
    {
      "cell_type": "code",
      "metadata": {
        "id": "BYRbWvWK_h8n",
        "colab_type": "code",
        "colab": {}
      },
      "source": [
        "set.seed(314)\n",
        "trainIndex <- createDataPartition(df$Weekly_Sales, p = .7, list = FALSE)\n",
        "df_train <- df[trainIndex,]\n",
        "df_test <- df[-trainIndex,]"
      ],
      "execution_count": 0,
      "outputs": []
    },
    {
      "cell_type": "markdown",
      "metadata": {
        "id": "54SV_f4x_h8q",
        "colab_type": "text"
      },
      "source": [
        "### Modelo de Regressão Linear Múltipla"
      ]
    },
    {
      "cell_type": "code",
      "metadata": {
        "id": "xaU_bgh__h8r",
        "colab_type": "code",
        "outputId": "1d38ffc9-0968-4bc0-cbb7-ad7ad2177d34",
        "colab": {
          "base_uri": "https://localhost:8080/",
          "height": 255
        }
      },
      "source": [
        "set.seed(314)\n",
        "lm <- train(Weekly_Sales ~ ., data = df_train, method = \"lm\")\n",
        "lm"
      ],
      "execution_count": 0,
      "outputs": [
        {
          "output_type": "display_data",
          "data": {
            "text/plain": [
              "Linear Regression \n",
              "\n",
              "5324 samples\n",
              "  12 predictor\n",
              "\n",
              "No pre-processing\n",
              "Resampling: Bootstrapped (25 reps) \n",
              "Summary of sample sizes: 5324, 5324, 5324, 5324, 5324, 5324, ... \n",
              "Resampling results:\n",
              "\n",
              "  RMSE      Rsquared   MAE     \n",
              "  368543.8  0.6678091  254486.3\n",
              "\n",
              "Tuning parameter 'intercept' was held constant at a value of TRUE"
            ]
          },
          "metadata": {
            "tags": []
          }
        }
      ]
    },
    {
      "cell_type": "markdown",
      "metadata": {
        "id": "kIuSWT7z_h8x",
        "colab_type": "text"
      },
      "source": [
        "#### Neste modelo de regressão linear, o R-squared apresentou 0.6678086 um resultado razoável. "
      ]
    },
    {
      "cell_type": "code",
      "metadata": {
        "id": "WG3Is6BW_h8y",
        "colab_type": "code",
        "colab": {}
      },
      "source": [
        "# Score do modelo\n",
        "lm_pred <- predict(lm, newdata = df_test)"
      ],
      "execution_count": 0,
      "outputs": []
    },
    {
      "cell_type": "markdown",
      "metadata": {
        "id": "abo-9Lgy_h82",
        "colab_type": "text"
      },
      "source": [
        "### Modelos de Àrvore de Decisão"
      ]
    },
    {
      "cell_type": "markdown",
      "metadata": {
        "id": "U8xRy8F6_h82",
        "colab_type": "text"
      },
      "source": [
        "#### Utilizaremos os modelos de Boosting, Bagging e Random Forest"
      ]
    },
    {
      "cell_type": "markdown",
      "metadata": {
        "id": "Vlxw41q7_h83",
        "colab_type": "text"
      },
      "source": [
        "### Boosting"
      ]
    },
    {
      "cell_type": "code",
      "metadata": {
        "id": "KEqPfi4F_h83",
        "colab_type": "code",
        "colab": {}
      },
      "source": [
        "# Parametrizando o Cross Validation\n",
        "set.seed(314)\n",
        "cv <- trainControl(method = \"repeatedcv\", number = 10, savePredictions = TRUE, classProbs=TRUE)"
      ],
      "execution_count": 0,
      "outputs": []
    },
    {
      "cell_type": "code",
      "metadata": {
        "id": "hYoOvsiy_h86",
        "colab_type": "code",
        "outputId": "ec4f7845-88c4-4c01-d12a-b7040832a197",
        "colab": {
          "base_uri": "https://localhost:8080/",
          "height": 1000
        }
      },
      "source": [
        "# Treinando Modelo\n",
        "set.seed(314)\n",
        "boosting <- train(Weekly_Sales ~ . , data = df_train, method = \"xgbTree\", trControl = cv)\n",
        "boosting"
      ],
      "execution_count": 0,
      "outputs": [
        {
          "output_type": "display_data",
          "data": {
            "text/plain": [
              "eXtreme Gradient Boosting \n",
              "\n",
              "5324 samples\n",
              "  12 predictor\n",
              "\n",
              "No pre-processing\n",
              "Resampling: Cross-Validated (10 fold, repeated 1 times) \n",
              "Summary of sample sizes: 4792, 4792, 4791, 4792, 4792, 4791, ... \n",
              "Resampling results across tuning parameters:\n",
              "\n",
              "  eta  max_depth  colsample_bytree  subsample  nrounds  RMSE      Rsquared \n",
              "  0.3  1          0.6               0.50        50      466537.6  0.5280045\n",
              "  0.3  1          0.6               0.50       100      410157.3  0.6164431\n",
              "  0.3  1          0.6               0.50       150      385774.5  0.6507458\n",
              "  0.3  1          0.6               0.75        50      468672.5  0.5349220\n",
              "  0.3  1          0.6               0.75       100      413367.2  0.6199815\n",
              "  0.3  1          0.6               0.75       150      385895.3  0.6546197\n",
              "  0.3  1          0.6               1.00        50      470575.1  0.5428449\n",
              "  0.3  1          0.6               1.00       100      416403.2  0.6251969\n",
              "  0.3  1          0.6               1.00       150      388294.1  0.6591490\n",
              "  0.3  1          0.8               0.50        50      465371.4  0.5286806\n",
              "  0.3  1          0.8               0.50       100      412233.1  0.6115163\n",
              "  0.3  1          0.8               0.50       150      387095.5  0.6479029\n",
              "  0.3  1          0.8               0.75        50      467369.7  0.5385197\n",
              "  0.3  1          0.8               0.75       100      412384.6  0.6230223\n",
              "  0.3  1          0.8               0.75       150      385722.6  0.6549031\n",
              "  0.3  1          0.8               1.00        50      470486.5  0.5444435\n",
              "  0.3  1          0.8               1.00       100      415664.8  0.6280184\n",
              "  0.3  1          0.8               1.00       150      387693.4  0.6615376\n",
              "  0.3  2          0.6               0.50        50      349765.8  0.7351092\n",
              "  0.3  2          0.6               0.50       100      280538.4  0.8203986\n",
              "  0.3  2          0.6               0.50       150      248626.8  0.8545344\n",
              "  0.3  2          0.6               0.75        50      353423.5  0.7340307\n",
              "  0.3  2          0.6               0.75       100      281657.5  0.8205945\n",
              "  0.3  2          0.6               0.75       150      245988.0  0.8589184\n",
              "  0.3  2          0.6               1.00        50      353986.4  0.7357093\n",
              "  0.3  2          0.6               1.00       100      287463.4  0.8154043\n",
              "  0.3  2          0.6               1.00       150      250589.7  0.8553268\n",
              "  0.3  2          0.8               0.50        50      345200.5  0.7429287\n",
              "  0.3  2          0.8               0.50       100      276971.1  0.8238376\n",
              "  0.3  2          0.8               0.50       150      241963.2  0.8621093\n",
              "  0.3  2          0.8               0.75        50      344113.9  0.7519613\n",
              "  0.3  2          0.8               0.75       100      269618.1  0.8385493\n",
              "  0.3  2          0.8               0.75       150      234986.4  0.8721796\n",
              "  0.3  2          0.8               1.00        50      347964.1  0.7499217\n",
              "  0.3  2          0.8               1.00       100      278954.1  0.8282898\n",
              "  0.3  2          0.8               1.00       150      243499.2  0.8643156\n",
              "  0.3  3          0.6               0.50        50      291174.8  0.8108947\n",
              "  0.3  3          0.6               0.50       100      227457.6  0.8778225\n",
              "  0.3  3          0.6               0.50       150      202429.8  0.9011170\n",
              "  0.3  3          0.6               0.75        50      283696.8  0.8240485\n",
              "  0.3  3          0.6               0.75       100      217721.1  0.8889502\n",
              "  0.3  3          0.6               0.75       150      190763.8  0.9125811\n",
              "  0.3  3          0.6               1.00        50      291812.3  0.8152315\n",
              "  0.3  3          0.6               1.00       100      226666.3  0.8811926\n",
              "  0.3  3          0.6               1.00       150      194078.1  0.9104389\n",
              "  0.3  3          0.8               0.50        50      274597.8  0.8333428\n",
              "  0.3  3          0.8               0.50       100      212516.1  0.8939186\n",
              "  0.3  3          0.8               0.50       150      188135.3  0.9149218\n",
              "  0.3  3          0.8               0.75        50      272730.7  0.8374658\n",
              "  0.3  3          0.8               0.75       100      206834.9  0.9000758\n",
              "  0.3  3          0.8               0.75       150      177270.9  0.9246334\n",
              "  0.3  3          0.8               1.00        50      280993.9  0.8305525\n",
              "  0.3  3          0.8               1.00       100      216484.0  0.8911642\n",
              "  0.3  3          0.8               1.00       150      187673.1  0.9157351\n",
              "  0.4  1          0.6               0.50        50      441555.2  0.5660551\n",
              "  0.4  1          0.6               0.50       100      391609.8  0.6390441\n",
              "  0.4  1          0.6               0.50       150      369012.2  0.6745709\n",
              "  0.4  1          0.6               0.75        50      442032.0  0.5742623\n",
              "  0.4  1          0.6               0.75       100      391128.9  0.6459042\n",
              "  0.4  1          0.6               0.75       150      367637.6  0.6795201\n",
              "  0.4  1          0.6               1.00        50      444919.8  0.5770836\n",
              "  0.4  1          0.6               1.00       100      392024.0  0.6515363\n",
              "  0.4  1          0.6               1.00       150      369042.7  0.6819239\n",
              "  0.4  1          0.8               0.50        50      440259.0  0.5674329\n",
              "  0.4  1          0.8               0.50       100      392385.8  0.6361193\n",
              "  0.4  1          0.8               0.50       150      369265.9  0.6722329\n",
              "  0.4  1          0.8               0.75        50      441930.7  0.5769069\n",
              "  0.4  1          0.8               0.75       100      389997.1  0.6469894\n",
              "  0.4  1          0.8               0.75       150      367231.2  0.6806685\n",
              "  0.4  1          0.8               1.00        50      445864.5  0.5762303\n",
              "  0.4  1          0.8               1.00       100      391792.8  0.6531173\n",
              "  0.4  1          0.8               1.00       150      368855.3  0.6829388\n",
              "  0.4  2          0.6               0.50        50      328111.9  0.7517731\n",
              "  0.4  2          0.6               0.50       100      267418.8  0.8285063\n",
              "  0.4  2          0.6               0.50       150      237264.4  0.8640144\n",
              "  0.4  2          0.6               0.75        50      324368.7  0.7616569\n",
              "  0.4  2          0.6               0.75       100      260651.1  0.8398457\n",
              "  0.4  2          0.6               0.75       150      231359.3  0.8715545\n",
              "  0.4  2          0.6               1.00        50      329888.8  0.7578773\n",
              "  0.4  2          0.6               1.00       100      261948.8  0.8410324\n",
              "  0.4  2          0.6               1.00       150      229268.7  0.8748339\n",
              "  0.4  2          0.8               0.50        50      311309.1  0.7825420\n",
              "  0.4  2          0.8               0.50       100      252414.8  0.8485787\n",
              "  0.4  2          0.8               0.50       150      231143.8  0.8705299\n",
              "  0.4  2          0.8               0.75        50      309679.1  0.7869771\n",
              "  0.4  2          0.8               0.75       100      243263.9  0.8614287\n",
              "  0.4  2          0.8               0.75       150      216851.7  0.8872720\n",
              "  0.4  2          0.8               1.00        50      318960.1  0.7745537\n",
              "  0.4  2          0.8               1.00       100      250578.2  0.8543840\n",
              "  0.4  2          0.8               1.00       150      222013.1  0.8823730\n",
              "  0.4  3          0.6               0.50        50      263541.6  0.8375467\n",
              "  0.4  3          0.6               0.50       100      214898.0  0.8875731\n",
              "  0.4  3          0.6               0.50       150      198814.6  0.9028559\n",
              "  0.4  3          0.6               0.75        50      260006.5  0.8424629\n",
              "  0.4  3          0.6               0.75       100      207253.5  0.8953947\n",
              "  0.4  3          0.6               0.75       150      187544.4  0.9134891\n",
              "  0.4  3          0.6               1.00        50      262357.5  0.8422817\n",
              "  0.4  3          0.6               1.00       100      202654.2  0.9015115\n",
              "  0.4  3          0.6               1.00       150      180802.3  0.9205785\n",
              "  0.4  3          0.8               0.50        50      250295.0  0.8526144\n",
              "  0.4  3          0.8               0.50       100      201435.3  0.9011818\n",
              "  0.4  3          0.8               0.50       150      184238.3  0.9168262\n",
              "  0.4  3          0.8               0.75        50      245390.3  0.8620225\n",
              "  0.4  3          0.8               0.75       100      191060.5  0.9123219\n",
              "  0.4  3          0.8               0.75       150      171116.2  0.9287340\n",
              "  0.4  3          0.8               1.00        50      256901.2  0.8500837\n",
              "  0.4  3          0.8               1.00       100      195216.3  0.9085503\n",
              "  0.4  3          0.8               1.00       150      172086.9  0.9281087\n",
              "  MAE     \n",
              "  381884.0\n",
              "  314340.5\n",
              "  284832.1\n",
              "  385537.3\n",
              "  318816.6\n",
              "  284858.7\n",
              "  387867.7\n",
              "  323101.7\n",
              "  289141.3\n",
              "  381785.2\n",
              "  316266.9\n",
              "  285600.2\n",
              "  384121.0\n",
              "  319068.5\n",
              "  284220.8\n",
              "  387854.8\n",
              "  322851.1\n",
              "  288558.0\n",
              "  268376.3\n",
              "  202377.6\n",
              "  175217.1\n",
              "  269983.9\n",
              "  200592.6\n",
              "  171338.4\n",
              "  271492.8\n",
              "  204453.0\n",
              "  173902.9\n",
              "  261825.2\n",
              "  197502.4\n",
              "  167795.7\n",
              "  264164.9\n",
              "  194045.4\n",
              "  164430.2\n",
              "  266680.9\n",
              "  198643.8\n",
              "  167077.1\n",
              "  211284.8\n",
              "  156272.4\n",
              "  137065.0\n",
              "  206881.2\n",
              "  149489.4\n",
              "  128062.7\n",
              "  210938.5\n",
              "  153621.0\n",
              "  129191.2\n",
              "  201403.9\n",
              "  147733.0\n",
              "  129095.6\n",
              "  198961.6\n",
              "  143228.4\n",
              "  120427.5\n",
              "  203373.6\n",
              "  145841.5\n",
              "  123699.0\n",
              "  352397.5\n",
              "  289842.6\n",
              "  264587.3\n",
              "  353379.7\n",
              "  291312.4\n",
              "  264203.6\n",
              "  356148.9\n",
              "  293327.5\n",
              "  265633.8\n",
              "  351792.2\n",
              "  290528.2\n",
              "  264594.9\n",
              "  353151.0\n",
              "  290133.7\n",
              "  264005.9\n",
              "  356479.5\n",
              "  293359.7\n",
              "  266175.0\n",
              "  241778.6\n",
              "  186986.3\n",
              "  163790.1\n",
              "  238034.9\n",
              "  181692.7\n",
              "  158365.0\n",
              "  242146.6\n",
              "  183565.4\n",
              "  157344.7\n",
              "  230606.9\n",
              "  177645.6\n",
              "  158980.9\n",
              "  226581.7\n",
              "  169795.6\n",
              "  148011.6\n",
              "  233998.4\n",
              "  174726.6\n",
              "  150227.3\n",
              "  184672.7\n",
              "  144413.4\n",
              "  131265.7\n",
              "  181559.4\n",
              "  138339.5\n",
              "  123024.4\n",
              "  182428.5\n",
              "  134066.1\n",
              "  118800.5\n",
              "  178314.8\n",
              "  137648.4\n",
              "  125153.2\n",
              "  173188.8\n",
              "  129712.4\n",
              "  115316.4\n",
              "  177722.2\n",
              "  129803.4\n",
              "  112594.4\n",
              "\n",
              "Tuning parameter 'gamma' was held constant at a value of 0\n",
              "Tuning\n",
              " parameter 'min_child_weight' was held constant at a value of 1\n",
              "RMSE was used to select the optimal model using the smallest value.\n",
              "The final values used for the model were nrounds = 150, max_depth = 3, eta\n",
              " = 0.4, gamma = 0, colsample_bytree = 0.8, min_child_weight = 1 and subsample\n",
              " = 0.75."
            ]
          },
          "metadata": {
            "tags": []
          }
        }
      ]
    },
    {
      "cell_type": "markdown",
      "metadata": {
        "id": "9Mz--Elz_h88",
        "colab_type": "text"
      },
      "source": [
        "#### No modelo Boosting atingimos um R-Squared de 0.9287340."
      ]
    },
    {
      "cell_type": "code",
      "metadata": {
        "id": "4bLZQhzZ_h8-",
        "colab_type": "code",
        "colab": {}
      },
      "source": [
        "# Score do Modelo\n",
        "boosting_pred <- predict(boosting, newdata = df_test)"
      ],
      "execution_count": 0,
      "outputs": []
    },
    {
      "cell_type": "markdown",
      "metadata": {
        "id": "RFe_99M-_h9B",
        "colab_type": "text"
      },
      "source": [
        "### Bagging"
      ]
    },
    {
      "cell_type": "code",
      "metadata": {
        "id": "aXwRpXil_h9C",
        "colab_type": "code",
        "outputId": "cf5b2d98-69c6-4679-9d24-c574ebfe427e",
        "colab": {
          "base_uri": "https://localhost:8080/",
          "height": 221
        }
      },
      "source": [
        "# Treinando o Modelo\n",
        "set.seed(314)\n",
        "bagging <- train(Weekly_Sales ~ . , data = df_train, method = \"treebag\", trControl = cv)\n",
        "bagging"
      ],
      "execution_count": 0,
      "outputs": [
        {
          "output_type": "display_data",
          "data": {
            "text/plain": [
              "Bagged CART \n",
              "\n",
              "5324 samples\n",
              "  12 predictor\n",
              "\n",
              "No pre-processing\n",
              "Resampling: Cross-Validated (10 fold, repeated 1 times) \n",
              "Summary of sample sizes: 4792, 4792, 4791, 4792, 4792, 4791, ... \n",
              "Resampling results:\n",
              "\n",
              "  RMSE      Rsquared   MAE   \n",
              "  405634.6  0.6004185  322954\n"
            ]
          },
          "metadata": {
            "tags": []
          }
        }
      ]
    },
    {
      "cell_type": "code",
      "metadata": {
        "id": "_fSoiAwS_h9F",
        "colab_type": "code",
        "colab": {}
      },
      "source": [
        "# Score do Modelo\n",
        "bagging_pred <- predict(bagging, newdata = df_test)"
      ],
      "execution_count": 0,
      "outputs": []
    },
    {
      "cell_type": "markdown",
      "metadata": {
        "id": "Nfmu9DWI_h9I",
        "colab_type": "text"
      },
      "source": [
        "### Random Forest"
      ]
    },
    {
      "cell_type": "code",
      "metadata": {
        "id": "TdQYKYcG_h9I",
        "colab_type": "code",
        "outputId": "e4a81c86-3fec-4ba1-d8d0-6bc9fcbbbd28",
        "colab": {
          "base_uri": "https://localhost:8080/",
          "height": 306
        }
      },
      "source": [
        "# Treinando Modelo\n",
        "set.seed(314)\n",
        "rf <- train(Weekly_Sales ~ . , data = df_train, method = \"rf\", trControl = cv)\n",
        "rf"
      ],
      "execution_count": 0,
      "outputs": [
        {
          "output_type": "display_data",
          "data": {
            "text/plain": [
              "Random Forest \n",
              "\n",
              "5324 samples\n",
              "  12 predictor\n",
              "\n",
              "No pre-processing\n",
              "Resampling: Cross-Validated (10 fold, repeated 1 times) \n",
              "Summary of sample sizes: 4792, 4792, 4791, 4792, 4792, 4791, ... \n",
              "Resampling results across tuning parameters:\n",
              "\n",
              "  mtry  RMSE      Rsquared   MAE     \n",
              "   2    431904.1  0.7281320  349507.6\n",
              "  28    210793.4  0.8952530  125272.6\n",
              "  55    203951.2  0.8997549  114483.6\n",
              "\n",
              "RMSE was used to select the optimal model using the smallest value.\n",
              "The final value used for the model was mtry = 55."
            ]
          },
          "metadata": {
            "tags": []
          }
        }
      ]
    },
    {
      "cell_type": "markdown",
      "metadata": {
        "id": "swKfWaIA_h9K",
        "colab_type": "text"
      },
      "source": [
        "#### Obtivemos um R-Squared de 0.8997549.\n"
      ]
    },
    {
      "cell_type": "code",
      "metadata": {
        "id": "wiEmx5bO_h9L",
        "colab_type": "code",
        "colab": {}
      },
      "source": [
        "# Score do Modelo\n",
        "rf_pred <- predict(rf, newdata = df_test, type=\"raw\")"
      ],
      "execution_count": 0,
      "outputs": []
    },
    {
      "cell_type": "markdown",
      "metadata": {
        "id": "B1k8bMHi_h9P",
        "colab_type": "text"
      },
      "source": [
        "### Redes Neurais"
      ]
    },
    {
      "cell_type": "code",
      "metadata": {
        "id": "UgWHRXMq_h9P",
        "colab_type": "code",
        "outputId": "1466812c-888d-4f3b-cf47-233bd491ebea",
        "colab": {
          "base_uri": "https://localhost:8080/",
          "height": 357
        }
      },
      "source": [
        "# Treinando o Modelo\n",
        "options(warn=-1)\n",
        "set.seed(314)\n",
        "p.grid <- expand.grid(.decay=c(0.5, 0.1), .size=c(10,11,12))\n",
        "rn <- train(Weekly_Sales ~ ., \n",
        "                 data = df_train, \n",
        "                 method='nnet', \n",
        "                 trace = FALSE,\n",
        "                 maxit = 1000,\n",
        "                 skip = TRUE,\n",
        "                 linout = TRUE,\n",
        "                 tuneGrid = p.grid)\n",
        "rn"
      ],
      "execution_count": 0,
      "outputs": [
        {
          "output_type": "display_data",
          "data": {
            "text/plain": [
              "Neural Network \n",
              "\n",
              "5324 samples\n",
              "  12 predictor\n",
              "\n",
              "No pre-processing\n",
              "Resampling: Bootstrapped (25 reps) \n",
              "Summary of sample sizes: 5324, 5324, 5324, 5324, 5324, 5324, ... \n",
              "Resampling results across tuning parameters:\n",
              "\n",
              "  decay  size  RMSE      Rsquared   MAE     \n",
              "  0.1    10    369101.7  0.6665851  243748.3\n",
              "  0.1    11    365666.6  0.6728030  242409.0\n",
              "  0.1    12    367443.6  0.6697018  242775.0\n",
              "  0.5    10    373379.6  0.6593782  245118.0\n",
              "  0.5    11    375846.8  0.6551118  247748.9\n",
              "  0.5    12    376193.2  0.6548479  248387.0\n",
              "\n",
              "RMSE was used to select the optimal model using the smallest value.\n",
              "The final values used for the model were size = 11 and decay = 0.1."
            ]
          },
          "metadata": {
            "tags": []
          }
        }
      ]
    },
    {
      "cell_type": "markdown",
      "metadata": {
        "id": "RJ5pORPN_h9S",
        "colab_type": "text"
      },
      "source": [
        "#### Melhor R-Squared foi de 0.6728030."
      ]
    },
    {
      "cell_type": "code",
      "metadata": {
        "id": "RO0wz4Pc_h9S",
        "colab_type": "code",
        "colab": {}
      },
      "source": [
        "# Score do Modelo\n",
        "rn_pred <- predict(rn, newdata = df_test, type = \"raw\")"
      ],
      "execution_count": 0,
      "outputs": []
    },
    {
      "cell_type": "markdown",
      "metadata": {
        "id": "tLxOLflB_h9V",
        "colab_type": "text"
      },
      "source": [
        "## Comparando os Modelos"
      ]
    },
    {
      "cell_type": "markdown",
      "metadata": {
        "id": "X_3cn3_pZ07h",
        "colab_type": "text"
      },
      "source": [
        "##### Todos os modelos apresentaram as mesmas variáveis na ordem de importância até o oitavo termo. A ordem de importância se mostrou coerente com a dinâmica do varejo, apresentando variáveis que realmente podem influenciar o volume de vendas e a formação de preços."
      ]
    },
    {
      "cell_type": "code",
      "metadata": {
        "id": "KNz9PA4L_h9Y",
        "colab_type": "code",
        "colab": {}
      },
      "source": [
        "imp_lm <- varImp(lm, useModel = FALSE, scale = FALSE)\n",
        "imp_boosting <- varImp(boosting, useModel = FALSE, scale = FALSE)\n",
        "imp_bagging <- varImp(bagging, useModel = FALSE, scale = FALSE)\n",
        "imp_rf <- varImp(rf, useModel = FALSE, scale = FALSE)\n",
        "imp_rn <- varImp(rn, useModel = FALSE, scale = FALSE)"
      ],
      "execution_count": 0,
      "outputs": []
    },
    {
      "cell_type": "code",
      "metadata": {
        "id": "pw1cDI9W_h9b",
        "colab_type": "code",
        "outputId": "966c7f8e-5312-46c9-ef54-5c9ecfd66841",
        "colab": {
          "base_uri": "https://localhost:8080/",
          "height": 737
        }
      },
      "source": [
        "options(repr.plot.width = 12, repr.plot.height = 12)\n",
        "imp1 <- plot(imp_lm, main = \"LM\")\n",
        "imp2 <- plot(imp_boosting, main = \"Boosting\")\n",
        "imp3 <- plot(imp_bagging, main = \"Bagging\")\n",
        "imp4 <- plot(imp_rf, main = \"Random Forest\")\n",
        "imp5<- plot(imp_rn, main = \"Neural Network\")\n",
        "grid.arrange(imp1, imp2, imp3, imp4,imp5, ncol = 2)"
      ],
      "execution_count": 0,
      "outputs": [
        {
          "output_type": "display_data",
          "data": {
            "image/png": "[encoded data removed]",
            "text/plain": [
              "plot without title"
            ]
          },
          "metadata": {
            "tags": [],
            "image/png": {
              "width": 720,
              "height": 720
            },
            "text/plain": {
              "width": 720,
              "height": 720
            }
          }
        }
      ]
    },
    {
      "cell_type": "markdown",
      "metadata": {
        "id": "EJV-CZoq_h9f",
        "colab_type": "text"
      },
      "source": [
        "### Comparativo R-Squared"
      ]
    },
    {
      "cell_type": "markdown",
      "metadata": {
        "id": "2xzJotEkzzt8",
        "colab_type": "text"
      },
      "source": [
        "#####Obtivemos a melhor performance com o modelo Boosting, apresentando R-squared de 0.928734 com o menor tempo de processamento que o Random Forest e a Rede Neural."
      ]
    },
    {
      "cell_type": "code",
      "metadata": {
        "id": "odUi75_O2O_I",
        "colab_type": "code",
        "outputId": "a02595bf-ca2e-4d1b-eddc-86ea252c5789",
        "colab": {
          "base_uri": "https://localhost:8080/",
          "height": 102
        }
      },
      "source": [
        "r2s <- data.frame(\"LM\" = max(lm$results$Rsquared),\n",
        "                             \"Boosting\" = max(boosting$results$Rsquared),\n",
        "                             \"Bagging\" = max(bagging$results$Rsquared),\n",
        "                             \"Random_Forest\" = max(rf$results$Rsquared),\n",
        "                             \"Rede_Neural\" = max(rn$results$Rsquared))\n",
        "rownames(r2s) <- (\"R-Squared\")\n",
        "r2s %>% head() %>% knitr::kable()"
      ],
      "execution_count": 0,
      "outputs": [
        {
          "output_type": "display_data",
          "data": {
            "text/plain": [
              "\n",
              "\n",
              "|          |        LM| Boosting|   Bagging| Random_Forest| Rede_Neural|\n",
              "|:---------|---------:|--------:|---------:|-------------:|-----------:|\n",
              "|R-Squared | 0.6678091| 0.928734| 0.6004185|     0.8997549|    0.672803|"
            ]
          },
          "metadata": {
            "tags": []
          }
        }
      ]
    },
    {
      "cell_type": "markdown",
      "metadata": {
        "id": "gl1JDrPDX0s8",
        "colab_type": "text"
      },
      "source": [
        "###Considerações sobre os modelos para predição das vendas\n",
        "\n",
        "\n"
      ]
    },
    {
      "cell_type": "markdown",
      "metadata": {
        "id": "Qa5VYAFOjQMb",
        "colab_type": "text"
      },
      "source": [
        "##### Neste projeto o maior desafio foi entender e praticar o tratamento adequado à base de dados, preservando a coerência relativa ao negócio e inferindo acerca de informações não disponibilizadas na base. Ao inferirmos que o mix de marketing (preço, produto, praça e promoção) estava implícitamente contido na variável *Store* e transformando a mesma em Factor, conseguimos gerar bons resultados em todos os modelos, com destaque para as Arvores de Decisão *Boosting* e *Random Forest*. A árvore Boosting leva pequena vantagem no R-squared e também apresentou muito menor custo computacional. O risco de Overfitting devido ao excelente R-squared apresentado pela *boosting* foi minimizado com a utilização do Cross Validation."
      ]
    },
    {
      "cell_type": "markdown",
      "metadata": {
        "id": "Gz8Xmx89tGeM",
        "colab_type": "text"
      },
      "source": [
        "---\n",
        "---"
      ]
    },
    {
      "cell_type": "markdown",
      "metadata": {
        "id": "_wkC2SJtisuR",
        "colab_type": "text"
      },
      "source": [
        "## Modelos Targeted Advertising"
      ]
    },
    {
      "cell_type": "markdown",
      "metadata": {
        "id": "UgAJ1afPeK2H",
        "colab_type": "text"
      },
      "source": [
        "##### Testaremos modelos de Regressão Logística, Árvores de Decisão, SVM e Redes Neurais "
      ]
    },
    {
      "cell_type": "markdown",
      "metadata": {
        "id": "QjolVhfUwTZQ",
        "colab_type": "text"
      },
      "source": [
        "### Análise Exploratória"
      ]
    },
    {
      "cell_type": "markdown",
      "metadata": {
        "id": "O0HFN0bv_h9k",
        "colab_type": "text"
      },
      "source": [
        "### Lendo a Base de Dados"
      ]
    },
    {
      "cell_type": "markdown",
      "metadata": {
        "id": "6YgiuAy_ygch",
        "colab_type": "text"
      },
      "source": [
        "#####Para a aquisição dos dados, utilizaremos o read.csv2 que já considera o separador \";\"."
      ]
    },
    {
      "cell_type": "code",
      "metadata": {
        "id": "5HTSIoMy_h9l",
        "colab_type": "code",
        "colab": {}
      },
      "source": [
        "df2 <- read.csv2(\"Marketing.csv\", header = TRUE)"
      ],
      "execution_count": 0,
      "outputs": []
    },
    {
      "cell_type": "code",
      "metadata": {
        "id": "Gj8ZlLtp_h9o",
        "colab_type": "code",
        "outputId": "20cf1d30-ac2f-4ff1-c891-658dc36da142",
        "colab": {
          "base_uri": "https://localhost:8080/",
          "height": 224
        }
      },
      "source": [
        "head(df2)"
      ],
      "execution_count": 0,
      "outputs": [
        {
          "output_type": "display_data",
          "data": {
            "text/plain": [
              "  AGE JOB       MARITAL_STATUS EDUCATION   DEFAULT HOUSING LOAN CONTACT   MONTH\n",
              "1 56  housemaid married        basic_4y    no      no      no   telephone may  \n",
              "2 57  services  married        high_school unknown no      no   telephone may  \n",
              "3 37  services  married        high_school no      yes     no   telephone may  \n",
              "4 40  admin     married        basic_6y    no      no      no   telephone may  \n",
              "5 56  services  married        high_school no      no      yes  telephone may  \n",
              "6 45  services  married        basic_9y    unknown no      no   telephone may  \n",
              "  DAY_OF_WEEK DURATION CAMPAIGN PDAYS PREVIOUS POUTCOME    EMP_VAR_RATE\n",
              "1 mon         261      1        -1    0        nonexistent 1_1         \n",
              "2 mon         149      1        -1    0        nonexistent 1_1         \n",
              "3 mon         226      1        -1    0        nonexistent 1_1         \n",
              "4 mon         151      1        -1    0        nonexistent 1_1         \n",
              "5 mon         307      1        -1    0        nonexistent 1_1         \n",
              "6 mon         198      1        -1    0        nonexistent 1_1         \n",
              "  CONS_PRICE_IDX CONS_CONF_IDX SUBSCRIBED\n",
              "1 93.994         -36_4         no        \n",
              "2 93.994         -36_4         no        \n",
              "3 93.994         -36_4         no        \n",
              "4 93.994         -36_4         no        \n",
              "5 93.994         -36_4         no        \n",
              "6 93.994         -36_4         no        "
            ],
            "text/latex": "A data.frame: 6 × 19\n\\begin{tabular}{r|lllllllllllllllllll}\n  & AGE & JOB & MARITAL\\_STATUS & EDUCATION & DEFAULT & HOUSING & LOAN & CONTACT & MONTH & DAY\\_OF\\_WEEK & DURATION & CAMPAIGN & PDAYS & PREVIOUS & POUTCOME & EMP\\_VAR\\_RATE & CONS\\_PRICE\\_IDX & CONS\\_CONF\\_IDX & SUBSCRIBED\\\\\n  & <int> & <fct> & <fct> & <fct> & <fct> & <fct> & <fct> & <fct> & <fct> & <fct> & <int> & <int> & <int> & <int> & <fct> & <fct> & <fct> & <fct> & <fct>\\\\\n\\hline\n\t1 & 56 & housemaid & married & basic\\_4y    & no      & no  & no  & telephone & may & mon & 261 & 1 & -1 & 0 & nonexistent & 1\\_1 & 93.994 & -36\\_4 & no\\\\\n\t2 & 57 & services  & married & high\\_school & unknown & no  & no  & telephone & may & mon & 149 & 1 & -1 & 0 & nonexistent & 1\\_1 & 93.994 & -36\\_4 & no\\\\\n\t3 & 37 & services  & married & high\\_school & no      & yes & no  & telephone & may & mon & 226 & 1 & -1 & 0 & nonexistent & 1\\_1 & 93.994 & -36\\_4 & no\\\\\n\t4 & 40 & admin     & married & basic\\_6y    & no      & no  & no  & telephone & may & mon & 151 & 1 & -1 & 0 & nonexistent & 1\\_1 & 93.994 & -36\\_4 & no\\\\\n\t5 & 56 & services  & married & high\\_school & no      & no  & yes & telephone & may & mon & 307 & 1 & -1 & 0 & nonexistent & 1\\_1 & 93.994 & -36\\_4 & no\\\\\n\t6 & 45 & services  & married & basic\\_9y    & unknown & no  & no  & telephone & may & mon & 198 & 1 & -1 & 0 & nonexistent & 1\\_1 & 93.994 & -36\\_4 & no\\\\\n\\end{tabular}\n",
            "text/markdown": "\nA data.frame: 6 × 19\n\n| <!--/--> | AGE &lt;int&gt; | JOB &lt;fct&gt; | MARITAL_STATUS &lt;fct&gt; | EDUCATION &lt;fct&gt; | DEFAULT &lt;fct&gt; | HOUSING &lt;fct&gt; | LOAN &lt;fct&gt; | CONTACT &lt;fct&gt; | MONTH &lt;fct&gt; | DAY_OF_WEEK &lt;fct&gt; | DURATION &lt;int&gt; | CAMPAIGN &lt;int&gt; | PDAYS &lt;int&gt; | PREVIOUS &lt;int&gt; | POUTCOME &lt;fct&gt; | EMP_VAR_RATE &lt;fct&gt; | CONS_PRICE_IDX &lt;fct&gt; | CONS_CONF_IDX &lt;fct&gt; | SUBSCRIBED &lt;fct&gt; |\n|---|---|---|---|---|---|---|---|---|---|---|---|---|---|---|---|---|---|---|---|\n| 1 | 56 | housemaid | married | basic_4y    | no      | no  | no  | telephone | may | mon | 261 | 1 | -1 | 0 | nonexistent | 1_1 | 93.994 | -36_4 | no |\n| 2 | 57 | services  | married | high_school | unknown | no  | no  | telephone | may | mon | 149 | 1 | -1 | 0 | nonexistent | 1_1 | 93.994 | -36_4 | no |\n| 3 | 37 | services  | married | high_school | no      | yes | no  | telephone | may | mon | 226 | 1 | -1 | 0 | nonexistent | 1_1 | 93.994 | -36_4 | no |\n| 4 | 40 | admin     | married | basic_6y    | no      | no  | no  | telephone | may | mon | 151 | 1 | -1 | 0 | nonexistent | 1_1 | 93.994 | -36_4 | no |\n| 5 | 56 | services  | married | high_school | no      | no  | yes | telephone | may | mon | 307 | 1 | -1 | 0 | nonexistent | 1_1 | 93.994 | -36_4 | no |\n| 6 | 45 | services  | married | basic_9y    | unknown | no  | no  | telephone | may | mon | 198 | 1 | -1 | 0 | nonexistent | 1_1 | 93.994 | -36_4 | no |\n\n",
            "text/html": [
              "<table>\n",
              "<caption>A data.frame: 6 × 19</caption>\n",
              "<thead>\n",
              "\t<tr><th></th><th scope=col>AGE</th><th scope=col>JOB</th><th scope=col>MARITAL_STATUS</th><th scope=col>EDUCATION</th><th scope=col>DEFAULT</th><th scope=col>HOUSING</th><th scope=col>LOAN</th><th scope=col>CONTACT</th><th scope=col>MONTH</th><th scope=col>DAY_OF_WEEK</th><th scope=col>DURATION</th><th scope=col>CAMPAIGN</th><th scope=col>PDAYS</th><th scope=col>PREVIOUS</th><th scope=col>POUTCOME</th><th scope=col>EMP_VAR_RATE</th><th scope=col>CONS_PRICE_IDX</th><th scope=col>CONS_CONF_IDX</th><th scope=col>SUBSCRIBED</th></tr>\n",
              "\t<tr><th></th><th scope=col>&lt;int&gt;</th><th scope=col>&lt;fct&gt;</th><th scope=col>&lt;fct&gt;</th><th scope=col>&lt;fct&gt;</th><th scope=col>&lt;fct&gt;</th><th scope=col>&lt;fct&gt;</th><th scope=col>&lt;fct&gt;</th><th scope=col>&lt;fct&gt;</th><th scope=col>&lt;fct&gt;</th><th scope=col>&lt;fct&gt;</th><th scope=col>&lt;int&gt;</th><th scope=col>&lt;int&gt;</th><th scope=col>&lt;int&gt;</th><th scope=col>&lt;int&gt;</th><th scope=col>&lt;fct&gt;</th><th scope=col>&lt;fct&gt;</th><th scope=col>&lt;fct&gt;</th><th scope=col>&lt;fct&gt;</th><th scope=col>&lt;fct&gt;</th></tr>\n",
              "</thead>\n",
              "<tbody>\n",
              "\t<tr><th scope=row>1</th><td>56</td><td>housemaid</td><td>married</td><td>basic_4y   </td><td>no     </td><td>no </td><td>no </td><td>telephone</td><td>may</td><td>mon</td><td>261</td><td>1</td><td>-1</td><td>0</td><td>nonexistent</td><td>1_1</td><td>93.994</td><td>-36_4</td><td>no</td></tr>\n",
              "\t<tr><th scope=row>2</th><td>57</td><td>services </td><td>married</td><td>high_school</td><td>unknown</td><td>no </td><td>no </td><td>telephone</td><td>may</td><td>mon</td><td>149</td><td>1</td><td>-1</td><td>0</td><td>nonexistent</td><td>1_1</td><td>93.994</td><td>-36_4</td><td>no</td></tr>\n",
              "\t<tr><th scope=row>3</th><td>37</td><td>services </td><td>married</td><td>high_school</td><td>no     </td><td>yes</td><td>no </td><td>telephone</td><td>may</td><td>mon</td><td>226</td><td>1</td><td>-1</td><td>0</td><td>nonexistent</td><td>1_1</td><td>93.994</td><td>-36_4</td><td>no</td></tr>\n",
              "\t<tr><th scope=row>4</th><td>40</td><td>admin    </td><td>married</td><td>basic_6y   </td><td>no     </td><td>no </td><td>no </td><td>telephone</td><td>may</td><td>mon</td><td>151</td><td>1</td><td>-1</td><td>0</td><td>nonexistent</td><td>1_1</td><td>93.994</td><td>-36_4</td><td>no</td></tr>\n",
              "\t<tr><th scope=row>5</th><td>56</td><td>services </td><td>married</td><td>high_school</td><td>no     </td><td>no </td><td>yes</td><td>telephone</td><td>may</td><td>mon</td><td>307</td><td>1</td><td>-1</td><td>0</td><td>nonexistent</td><td>1_1</td><td>93.994</td><td>-36_4</td><td>no</td></tr>\n",
              "\t<tr><th scope=row>6</th><td>45</td><td>services </td><td>married</td><td>basic_9y   </td><td>unknown</td><td>no </td><td>no </td><td>telephone</td><td>may</td><td>mon</td><td>198</td><td>1</td><td>-1</td><td>0</td><td>nonexistent</td><td>1_1</td><td>93.994</td><td>-36_4</td><td>no</td></tr>\n",
              "</tbody>\n",
              "</table>\n"
            ]
          },
          "metadata": {
            "tags": []
          }
        }
      ]
    },
    {
      "cell_type": "code",
      "metadata": {
        "id": "1GzVNbQH_h9r",
        "colab_type": "code",
        "outputId": "a6327323-f228-41e5-a4f6-375174cca3ad",
        "colab": {
          "base_uri": "https://localhost:8080/",
          "height": 374
        }
      },
      "source": [
        "glimpse(df2)"
      ],
      "execution_count": 0,
      "outputs": [
        {
          "output_type": "stream",
          "text": [
            "Rows: 41,188\n",
            "Columns: 19\n",
            "$ AGE            \u001b[3m\u001b[90m<int>\u001b[39m\u001b[23m 56, 57, 37, 40, 56, 45, 59, 41, 24, 25, 41, 25, 29, 57…\n",
            "$ JOB            \u001b[3m\u001b[90m<fct>\u001b[39m\u001b[23m housemaid, services, services, admin, services, servic…\n",
            "$ MARITAL_STATUS \u001b[3m\u001b[90m<fct>\u001b[39m\u001b[23m married, married, married, married, married, married, …\n",
            "$ EDUCATION      \u001b[3m\u001b[90m<fct>\u001b[39m\u001b[23m basic_4y, high_school, high_school, basic_6y, high_sch…\n",
            "$ DEFAULT        \u001b[3m\u001b[90m<fct>\u001b[39m\u001b[23m no, unknown, no, no, no, unknown, no, unknown, no, no,…\n",
            "$ HOUSING        \u001b[3m\u001b[90m<fct>\u001b[39m\u001b[23m no, no, yes, no, no, no, no, no, yes, yes, no, yes, no…\n",
            "$ LOAN           \u001b[3m\u001b[90m<fct>\u001b[39m\u001b[23m no, no, no, no, yes, no, no, no, no, no, no, no, yes, …\n",
            "$ CONTACT        \u001b[3m\u001b[90m<fct>\u001b[39m\u001b[23m telephone, telephone, telephone, telephone, telephone,…\n",
            "$ MONTH          \u001b[3m\u001b[90m<fct>\u001b[39m\u001b[23m may, may, may, may, may, may, may, may, may, may, may,…\n",
            "$ DAY_OF_WEEK    \u001b[3m\u001b[90m<fct>\u001b[39m\u001b[23m mon, mon, mon, mon, mon, mon, mon, mon, mon, mon, mon,…\n",
            "$ DURATION       \u001b[3m\u001b[90m<int>\u001b[39m\u001b[23m 261, 149, 226, 151, 307, 198, 139, 217, 380, 50, 55, 2…\n",
            "$ CAMPAIGN       \u001b[3m\u001b[90m<int>\u001b[39m\u001b[23m 1, 1, 1, 1, 1, 1, 1, 1, 1, 1, 1, 1, 1, 1, 1, 1, 1, 1, …\n",
            "$ PDAYS          \u001b[3m\u001b[90m<int>\u001b[39m\u001b[23m -1, -1, -1, -1, -1, -1, -1, -1, -1, -1, -1, -1, -1, -1…\n",
            "$ PREVIOUS       \u001b[3m\u001b[90m<int>\u001b[39m\u001b[23m 0, 0, 0, 0, 0, 0, 0, 0, 0, 0, 0, 0, 0, 0, 0, 0, 0, 0, …\n",
            "$ POUTCOME       \u001b[3m\u001b[90m<fct>\u001b[39m\u001b[23m nonexistent, nonexistent, nonexistent, nonexistent, no…\n",
            "$ EMP_VAR_RATE   \u001b[3m\u001b[90m<fct>\u001b[39m\u001b[23m 1_1, 1_1, 1_1, 1_1, 1_1, 1_1, 1_1, 1_1, 1_1, 1_1, 1_1,…\n",
            "$ CONS_PRICE_IDX \u001b[3m\u001b[90m<fct>\u001b[39m\u001b[23m 93.994, 93.994, 93.994, 93.994, 93.994, 93.994, 93.994…\n",
            "$ CONS_CONF_IDX  \u001b[3m\u001b[90m<fct>\u001b[39m\u001b[23m -36_4, -36_4, -36_4, -36_4, -36_4, -36_4, -36_4, -36_4…\n",
            "$ SUBSCRIBED     \u001b[3m\u001b[90m<fct>\u001b[39m\u001b[23m no, no, no, no, no, no, no, no, no, no, no, no, no, no…\n"
          ],
          "name": "stdout"
        }
      ]
    },
    {
      "cell_type": "code",
      "metadata": {
        "id": "_Knrwe6GMJRY",
        "colab_type": "code",
        "outputId": "e8724934-44f8-4d2d-c53e-5913229c14fa",
        "colab": {
          "base_uri": "https://localhost:8080/",
          "height": 697
        }
      },
      "source": [
        "summary(df2)"
      ],
      "execution_count": 0,
      "outputs": [
        {
          "output_type": "display_data",
          "data": {
            "text/plain": [
              "      AGE                 JOB         MARITAL_STATUS \n",
              " Min.   :17.00   admin      :10422   divorced: 4612  \n",
              " 1st Qu.:32.00   blue-collar: 9254   married :24928  \n",
              " Median :38.00   technician : 6743   single  :11568  \n",
              " Mean   :40.02   services   : 3969   unknown :   80  \n",
              " 3rd Qu.:47.00   management : 2924                   \n",
              " Max.   :98.00   retired    : 1720                   \n",
              "                 (Other)    : 6156                   \n",
              "               EDUCATION        DEFAULT         HOUSING           LOAN      \n",
              " university_degree  :12168   no     :32588   no     :18622   no     :33950  \n",
              " high_school        : 9515   unknown: 8597   unknown:  990   unknown:  990  \n",
              " basic_9y           : 6045   yes    :    3   yes    :21576   yes    : 6248  \n",
              " professional_course: 5243                                                  \n",
              " basic_4y           : 4176                                                  \n",
              " basic_6y           : 2292                                                  \n",
              " (Other)            : 1749                                                  \n",
              "      CONTACT          MONTH       DAY_OF_WEEK    DURATION     \n",
              " cellular :26144   may    :13769   fri:7827    Min.   :   0.0  \n",
              " telephone:15044   jul    : 7174   mon:8514    1st Qu.: 102.0  \n",
              "                   aug    : 6178   thu:8623    Median : 180.0  \n",
              "                   jun    : 5318   tue:8090    Mean   : 258.3  \n",
              "                   nov    : 4101   wed:8134    3rd Qu.: 319.0  \n",
              "                   apr    : 2632               Max.   :4918.0  \n",
              "                   (Other): 2016                               \n",
              "    CAMPAIGN          PDAYS           PREVIOUS            POUTCOME    \n",
              " Min.   : 1.000   Min.   :-1.000   Min.   :0.000   failure    : 4252  \n",
              " 1st Qu.: 1.000   1st Qu.:-1.000   1st Qu.:0.000   nonexistent:35563  \n",
              " Median : 2.000   Median :-1.000   Median :0.000   success    : 1373  \n",
              " Mean   : 2.568   Mean   :-0.742   Mean   :0.173                      \n",
              " 3rd Qu.: 3.000   3rd Qu.:-1.000   3rd Qu.:0.000                      \n",
              " Max.   :56.000   Max.   :27.000   Max.   :7.000                      \n",
              "                                                                      \n",
              "  EMP_VAR_RATE   CONS_PRICE_IDX CONS_CONF_IDX  SUBSCRIBED \n",
              " 1_4    :16234   93.994 :7763   -36_4  :7763   no :36548  \n",
              " -1_8   : 9184   93.918 :6685   -42_7  :6685   yes: 4640  \n",
              " 1_1    : 7763   92.893 :5794   -46_2  :5794              \n",
              " -0_1   : 3683   93.444 :5175   -36_1  :5175              \n",
              " -2_9   : 1663   94.465 :4374   -41_8  :4374              \n",
              " -3_4   : 1071   93_2   :3616   -42    :3616              \n",
              " (Other): 1590   (Other):7781   (Other):7781              "
            ]
          },
          "metadata": {
            "tags": []
          }
        }
      ]
    },
    {
      "cell_type": "markdown",
      "metadata": {
        "id": "MrG2ffubxoQM",
        "colab_type": "text"
      },
      "source": [
        "#####Analisando os dados apresentados não observamos valores discrepantes ou enquadramento de tipos de variáveis que pudessem prejudicar a nossa análise ou a performance dos modelos. Prosseguiremos com a base como está, sem efetuar nenhum tipo de alteração."
      ]
    },
    {
      "cell_type": "markdown",
      "metadata": {
        "id": "FYLXCyJ0_h94",
        "colab_type": "text"
      },
      "source": [
        "### Criando as partições de treino e teste"
      ]
    },
    {
      "cell_type": "code",
      "metadata": {
        "id": "R6xRZ6jD_h94",
        "colab_type": "code",
        "colab": {}
      },
      "source": [
        "set.seed(314)\n",
        "trainIndex <- createDataPartition(df2$SUBSCRIBED, p = .7, list = FALSE)\n",
        "\n",
        "df2_train <- df2[trainIndex,]\n",
        "df2_test <- df2[-trainIndex,]"
      ],
      "execution_count": 0,
      "outputs": []
    },
    {
      "cell_type": "markdown",
      "metadata": {
        "id": "z3OPZWfW_h97",
        "colab_type": "text"
      },
      "source": [
        "### Parametrizando o Cross Validation"
      ]
    },
    {
      "cell_type": "code",
      "metadata": {
        "id": "A689Zvcr_h97",
        "colab_type": "code",
        "colab": {}
      },
      "source": [
        "set.seed(314)\n",
        "cv <- trainControl(method = \"repeatedcv\", number = 10, savePredictions = TRUE,\n",
        "summaryFunction = twoClassSummary, classProbs=TRUE)"
      ],
      "execution_count": 0,
      "outputs": []
    },
    {
      "cell_type": "markdown",
      "metadata": {
        "id": "CSqfPBTC_h-A",
        "colab_type": "text"
      },
      "source": [
        "### Modelo de Regressão Logistica"
      ]
    },
    {
      "cell_type": "code",
      "metadata": {
        "id": "zgVOqgTN_h-A",
        "colab_type": "code",
        "colab": {}
      },
      "source": [
        "df2_glm <- train(SUBSCRIBED ~ ., data = df2_train, method = \"glm\", metric =\"ROC\", trControl = cv, \n",
        "                   control = list(maxit = 50))"
      ],
      "execution_count": 0,
      "outputs": []
    },
    {
      "cell_type": "code",
      "metadata": {
        "id": "SANeto4d_h-E",
        "colab_type": "code",
        "outputId": "227d577d-27da-4ae2-e52e-f1adcecd1193",
        "colab": {
          "base_uri": "https://localhost:8080/",
          "height": 1000
        }
      },
      "source": [
        "summary(df2_glm)"
      ],
      "execution_count": 0,
      "outputs": [
        {
          "output_type": "display_data",
          "data": {
            "text/plain": [
              "\n",
              "Call:\n",
              "NULL\n",
              "\n",
              "Deviance Residuals: \n",
              "    Min       1Q   Median       3Q      Max  \n",
              "-6.0581  -0.2896  -0.1805  -0.1261   3.2084  \n",
              "\n",
              "Coefficients: (44 not defined because of singularities)\n",
              "                               Estimate Std. Error z value Pr(>|z|)    \n",
              "(Intercept)                  -5.338e+00  3.851e-01 -13.863  < 2e-16 ***\n",
              "AGE                           8.369e-04  2.938e-03   0.285 0.775736    \n",
              "`JOBblue-collar`             -1.637e-01  9.691e-02  -1.689 0.091180 .  \n",
              "JOBentrepreneur              -1.050e-01  1.499e-01  -0.700 0.483649    \n",
              "JOBhousemaid                  3.252e-03  1.842e-01   0.018 0.985912    \n",
              "JOBmanagement                 6.917e-02  1.017e-01   0.680 0.496416    \n",
              "JOBretired                    3.550e-01  1.282e-01   2.768 0.005633 ** \n",
              "`JOBself-employed`           -1.591e-01  1.466e-01  -1.085 0.277791    \n",
              "JOBservices                  -1.811e-01  1.065e-01  -1.700 0.089071 .  \n",
              "JOBstudent                    3.036e-01  1.326e-01   2.289 0.022103 *  \n",
              "JOBtechnician                 2.270e-02  8.593e-02   0.264 0.791613    \n",
              "JOBunemployed                 1.016e-01  1.519e-01   0.669 0.503440    \n",
              "JOBunknown                   -9.905e-02  2.858e-01  -0.347 0.728920    \n",
              "MARITAL_STATUSmarried         8.249e-02  8.424e-02   0.979 0.327443    \n",
              "MARITAL_STATUSsingle          1.292e-01  9.591e-02   1.347 0.177951    \n",
              "MARITAL_STATUSunknown         1.304e-01  4.988e-01   0.261 0.793782    \n",
              "EDUCATIONbasic_6y             2.220e-01  1.481e-01   1.499 0.133794    \n",
              "EDUCATIONbasic_9y             1.201e-01  1.149e-01   1.045 0.296133    \n",
              "EDUCATIONhigh_school          1.609e-01  1.115e-01   1.443 0.148942    \n",
              "EDUCATIONilliterate           1.129e+00  9.522e-01   1.185 0.235913    \n",
              "EDUCATIONprofessional_course  1.450e-01  1.226e-01   1.182 0.237043    \n",
              "EDUCATIONuniversity_degree    2.704e-01  1.120e-01   2.413 0.015808 *  \n",
              "EDUCATIONunknown              3.355e-01  1.443e-01   2.325 0.020092 *  \n",
              "DEFAULTunknown               -2.572e-01  8.171e-02  -3.147 0.001649 ** \n",
              "DEFAULTyes                   -7.391e+00  1.381e+02  -0.053 0.957335    \n",
              "HOUSINGunknown               -1.766e-01  1.690e-01  -1.045 0.296020    \n",
              "HOUSINGyes                    4.955e-03  4.997e-02   0.099 0.921013    \n",
              "LOANunknown                          NA         NA      NA       NA    \n",
              "LOANyes                      -2.742e-02  6.887e-02  -0.398 0.690533    \n",
              "CONTACTtelephone             -5.401e-01  9.857e-02  -5.480 4.26e-08 ***\n",
              "MONTHaug                      4.441e-01  4.196e-01   1.058 0.289864    \n",
              "MONTHdec                      2.897e+00  3.779e-01   7.665 1.79e-14 ***\n",
              "MONTHjul                      8.469e-01  4.066e-01   2.083 0.037271 *  \n",
              "MONTHjun                      2.325e-01  3.185e-01   0.730 0.465535    \n",
              "MONTHmar                      2.483e-01  2.670e-01   0.930 0.352333    \n",
              "MONTHmay                     -3.524e-01  2.850e-01  -1.237 0.216219    \n",
              "MONTHnov                      4.876e+00  5.424e-01   8.991  < 2e-16 ***\n",
              "MONTHoct                      4.865e+00  4.388e-01  11.087  < 2e-16 ***\n",
              "MONTHsep                      5.012e+00  5.110e-01   9.808  < 2e-16 ***\n",
              "DAY_OF_WEEKmon               -8.736e-02  8.031e-02  -1.088 0.276673    \n",
              "DAY_OF_WEEKthu                1.054e-01  7.764e-02   1.357 0.174737    \n",
              "DAY_OF_WEEKtue                1.652e-01  7.956e-02   2.076 0.037868 *  \n",
              "DAY_OF_WEEKwed                1.958e-01  8.016e-02   2.443 0.014576 *  \n",
              "DURATION                      4.832e-03  9.134e-05  52.898  < 2e-16 ***\n",
              "CAMPAIGN                     -4.771e-02  1.434e-02  -3.327 0.000879 ***\n",
              "PDAYS                         1.344e-02  1.594e-02   0.843 0.399085    \n",
              "PREVIOUS                     -2.282e-02  6.777e-02  -0.337 0.736363    \n",
              "POUTCOMEnonexistent           4.901e-01  1.135e-01   4.316 1.59e-05 ***\n",
              "POUTCOMEsuccess               1.765e+00  1.391e-01  12.694  < 2e-16 ***\n",
              "`EMP_VAR_RATE-0_2`            6.902e-01  1.152e+00   0.599 0.548973    \n",
              "`EMP_VAR_RATE-1_1`           -2.242e+00  3.897e-01  -5.752 8.83e-09 ***\n",
              "`EMP_VAR_RATE-1_7`            2.636e+00  2.413e-01  10.924  < 2e-16 ***\n",
              "`EMP_VAR_RATE-1_8`            3.245e+00  2.408e-01  13.476  < 2e-16 ***\n",
              "`EMP_VAR_RATE-2_9`            1.963e+00  3.229e-01   6.080 1.20e-09 ***\n",
              "`EMP_VAR_RATE-3`                     NA         NA      NA       NA    \n",
              "`EMP_VAR_RATE-3_4`           -1.810e+00  4.810e-01  -3.763 0.000168 ***\n",
              "EMP_VAR_RATE1_1                      NA         NA      NA       NA    \n",
              "EMP_VAR_RATE1_4                      NA         NA      NA       NA    \n",
              "CONS_PRICE_IDX92.379         -4.774e-01  3.721e-01  -1.283 0.199587    \n",
              "CONS_PRICE_IDX92.431         -3.217e-01  3.754e-01  -0.857 0.391447    \n",
              "CONS_PRICE_IDX92.469         -4.556e-01  3.548e-01  -1.284 0.199029    \n",
              "CONS_PRICE_IDX92.649                 NA         NA      NA       NA    \n",
              "CONS_PRICE_IDX92.713                 NA         NA      NA       NA    \n",
              "CONS_PRICE_IDX92.756                 NA         NA      NA       NA    \n",
              "CONS_PRICE_IDX92.843         -4.034e-02  2.324e-01  -0.174 0.862182    \n",
              "CONS_PRICE_IDX92.893         -2.198e+00  2.147e-01 -10.235  < 2e-16 ***\n",
              "CONS_PRICE_IDX92.963          7.227e-01  3.075e-01   2.350 0.018759 *  \n",
              "CONS_PRICE_IDX93_2           -5.080e+00  4.713e-01 -10.780  < 2e-16 ***\n",
              "CONS_PRICE_IDX93.075         -1.675e+00  2.190e-01  -7.646 2.07e-14 ***\n",
              "CONS_PRICE_IDX93.369                 NA         NA      NA       NA    \n",
              "CONS_PRICE_IDX93.444         -4.914e-01  3.193e-01  -1.539 0.123804    \n",
              "CONS_PRICE_IDX93.749                 NA         NA      NA       NA    \n",
              "CONS_PRICE_IDX93.798                 NA         NA      NA       NA    \n",
              "CONS_PRICE_IDX93.876                 NA         NA      NA       NA    \n",
              "CONS_PRICE_IDX93.918         -9.980e-01  2.996e-01  -3.331 0.000865 ***\n",
              "CONS_PRICE_IDX93.994                 NA         NA      NA       NA    \n",
              "CONS_PRICE_IDX94.027                 NA         NA      NA       NA    \n",
              "CONS_PRICE_IDX94.055                 NA         NA      NA       NA    \n",
              "CONS_PRICE_IDX94.199                 NA         NA      NA       NA    \n",
              "CONS_PRICE_IDX94.215                 NA         NA      NA       NA    \n",
              "CONS_PRICE_IDX94.465                 NA         NA      NA       NA    \n",
              "CONS_PRICE_IDX94.601                 NA         NA      NA       NA    \n",
              "CONS_PRICE_IDX94.767                 NA         NA      NA       NA    \n",
              "`CONS_CONF_IDX-29_8`                 NA         NA      NA       NA    \n",
              "`CONS_CONF_IDX-30_1`                 NA         NA      NA       NA    \n",
              "`CONS_CONF_IDX-31_4`                 NA         NA      NA       NA    \n",
              "`CONS_CONF_IDX-33`                   NA         NA      NA       NA    \n",
              "`CONS_CONF_IDX-33_6`                 NA         NA      NA       NA    \n",
              "`CONS_CONF_IDX-34_6`                 NA         NA      NA       NA    \n",
              "`CONS_CONF_IDX-34_8`                 NA         NA      NA       NA    \n",
              "`CONS_CONF_IDX-36_1`                 NA         NA      NA       NA    \n",
              "`CONS_CONF_IDX-36_4`                 NA         NA      NA       NA    \n",
              "`CONS_CONF_IDX-37_5`                 NA         NA      NA       NA    \n",
              "`CONS_CONF_IDX-38_3`                 NA         NA      NA       NA    \n",
              "`CONS_CONF_IDX-39_8`                 NA         NA      NA       NA    \n",
              "`CONS_CONF_IDX-40`                   NA         NA      NA       NA    \n",
              "`CONS_CONF_IDX-40_3`                 NA         NA      NA       NA    \n",
              "`CONS_CONF_IDX-40_4`                 NA         NA      NA       NA    \n",
              "`CONS_CONF_IDX-40_8`                 NA         NA      NA       NA    \n",
              "`CONS_CONF_IDX-41_8`                 NA         NA      NA       NA    \n",
              "`CONS_CONF_IDX-42`                   NA         NA      NA       NA    \n",
              "`CONS_CONF_IDX-42_7`                 NA         NA      NA       NA    \n",
              "`CONS_CONF_IDX-45_9`                 NA         NA      NA       NA    \n",
              "`CONS_CONF_IDX-46_2`                 NA         NA      NA       NA    \n",
              "`CONS_CONF_IDX-47_1`                 NA         NA      NA       NA    \n",
              "`CONS_CONF_IDX-49_5`                 NA         NA      NA       NA    \n",
              "`CONS_CONF_IDX-50`                   NA         NA      NA       NA    \n",
              "`CONS_CONF_IDX-50_8`                 NA         NA      NA       NA    \n",
              "---\n",
              "Signif. codes:  0 ‘***’ 0.001 ‘**’ 0.01 ‘*’ 0.05 ‘.’ 0.1 ‘ ’ 1\n",
              "\n",
              "(Dispersion parameter for binomial family taken to be 1)\n",
              "\n",
              "    Null deviance: 20299  on 28831  degrees of freedom\n",
              "Residual deviance: 11729  on 28768  degrees of freedom\n",
              "AIC: 11857\n",
              "\n",
              "Number of Fisher Scoring iterations: 10\n"
            ]
          },
          "metadata": {
            "tags": []
          }
        }
      ]
    },
    {
      "cell_type": "code",
      "metadata": {
        "id": "BlWzdjVh_h-G",
        "colab_type": "code",
        "colab": {}
      },
      "source": [
        "#Score do Modelo\n",
        "df2_glm_pred <- predict(df2_glm, newdata = df2_test)"
      ],
      "execution_count": 0,
      "outputs": []
    },
    {
      "cell_type": "code",
      "metadata": {
        "id": "eEeyBszf_h-I",
        "colab_type": "code",
        "outputId": "b4d849b0-55d9-4f2c-9fd4-11a29bc81162",
        "colab": {
          "base_uri": "https://localhost:8080/",
          "height": 51
        }
      },
      "source": [
        "# Curva ROC\n",
        "df2_glm_pred_prob <- predict(df2_glm, newdata = df2_test, type=\"prob\")\n",
        "glm_roc <- roc(predictor = df2_glm_pred_prob$yes,\n",
        "               response = df2_test$SUBSCRIBED,\n",
        "               levels = rev(levels(df2_test$SUBSCRIBED)))"
      ],
      "execution_count": 0,
      "outputs": [
        {
          "output_type": "stream",
          "text": [
            "Setting direction: controls > cases\n",
            "\n"
          ],
          "name": "stderr"
        }
      ]
    },
    {
      "cell_type": "code",
      "metadata": {
        "id": "6diKNuOA_h-K",
        "colab_type": "code",
        "outputId": "56db25f7-1945-4cb5-dde8-0ad6a6129a02",
        "colab": {
          "base_uri": "https://localhost:8080/",
          "height": 476
        }
      },
      "source": [
        "# Matriz de Confusão\n",
        "confusionMatrix(data = df2_glm_pred, df2_test$SUBSCRIBED)"
      ],
      "execution_count": 0,
      "outputs": [
        {
          "output_type": "display_data",
          "data": {
            "text/plain": [
              "Confusion Matrix and Statistics\n",
              "\n",
              "          Reference\n",
              "Prediction    no   yes\n",
              "       no  10658   761\n",
              "       yes   306   631\n",
              "                                          \n",
              "               Accuracy : 0.9136          \n",
              "                 95% CI : (0.9086, 0.9185)\n",
              "    No Information Rate : 0.8873          \n",
              "    P-Value [Acc > NIR] : < 2.2e-16       \n",
              "                                          \n",
              "                  Kappa : 0.4962          \n",
              "                                          \n",
              " Mcnemar's Test P-Value : < 2.2e-16       \n",
              "                                          \n",
              "            Sensitivity : 0.9721          \n",
              "            Specificity : 0.4533          \n",
              "         Pos Pred Value : 0.9334          \n",
              "         Neg Pred Value : 0.6734          \n",
              "             Prevalence : 0.8873          \n",
              "         Detection Rate : 0.8626          \n",
              "   Detection Prevalence : 0.9242          \n",
              "      Balanced Accuracy : 0.7127          \n",
              "                                          \n",
              "       'Positive' Class : no              \n",
              "                                          "
            ]
          },
          "metadata": {
            "tags": []
          }
        }
      ]
    },
    {
      "cell_type": "markdown",
      "metadata": {
        "id": "hP5Jjl8v_h-N",
        "colab_type": "text"
      },
      "source": [
        "### Modelo Árvore de Decisão"
      ]
    },
    {
      "cell_type": "markdown",
      "metadata": {
        "id": "RoWKPFPa_h-O",
        "colab_type": "text"
      },
      "source": [
        "#### Boosting"
      ]
    },
    {
      "cell_type": "code",
      "metadata": {
        "id": "7AMeT3bC_h-O",
        "colab_type": "code",
        "outputId": "31c1f146-c210-493b-8184-a721dcc2f6ad",
        "colab": {
          "base_uri": "https://localhost:8080/",
          "height": 1000
        }
      },
      "source": [
        "# Treinando o Modelo\n",
        "df2_boosting <- train(SUBSCRIBED ~ . , data = df2_train, method = \"xgbTree\", trControl = cv)\n",
        "df2_boosting"
      ],
      "execution_count": 0,
      "outputs": [
        {
          "output_type": "display_data",
          "data": {
            "text/plain": [
              "eXtreme Gradient Boosting \n",
              "\n",
              "28832 samples\n",
              "   18 predictor\n",
              "    2 classes: 'no', 'yes' \n",
              "\n",
              "No pre-processing\n",
              "Resampling: Cross-Validated (10 fold, repeated 1 times) \n",
              "Summary of sample sizes: 25949, 25948, 25949, 25949, 25949, 25949, ... \n",
              "Resampling results across tuning parameters:\n",
              "\n",
              "  eta  max_depth  colsample_bytree  subsample  nrounds  ROC        Sens     \n",
              "  0.3  1          0.6               0.50        50      0.9359857  0.9823718\n",
              "  0.3  1          0.6               0.50       100      0.9409044  0.9737726\n",
              "  0.3  1          0.6               0.50       150      0.9418822  0.9708803\n",
              "  0.3  1          0.6               0.75        50      0.9365433  0.9821374\n",
              "  0.3  1          0.6               0.75       100      0.9406111  0.9747499\n",
              "  0.3  1          0.6               0.75       150      0.9417405  0.9715838\n",
              "  0.3  1          0.6               1.00        50      0.9372254  0.9825283\n",
              "  0.3  1          0.6               1.00       100      0.9408382  0.9751798\n",
              "  0.3  1          0.6               1.00       150      0.9420049  0.9734209\n",
              "  0.3  1          0.8               0.50        50      0.9357250  0.9817074\n",
              "  0.3  1          0.8               0.50       100      0.9406994  0.9731473\n",
              "  0.3  1          0.8               0.50       150      0.9414159  0.9708021\n",
              "  0.3  1          0.8               0.75        50      0.9365543  0.9828410\n",
              "  0.3  1          0.8               0.75       100      0.9408565  0.9738510\n",
              "  0.3  1          0.8               0.75       150      0.9418582  0.9714666\n",
              "  0.3  1          0.8               1.00        50      0.9371965  0.9821766\n",
              "  0.3  1          0.8               1.00       100      0.9407839  0.9750626\n",
              "  0.3  1          0.8               1.00       150      0.9418319  0.9732254\n",
              "  0.3  2          0.6               0.50        50      0.9426936  0.9723266\n",
              "  0.3  2          0.6               0.50       100      0.9443594  0.9689260\n",
              "  0.3  2          0.6               0.50       150      0.9450704  0.9674406\n",
              "  0.3  2          0.6               0.75        50      0.9436349  0.9727956\n",
              "  0.3  2          0.6               0.75       100      0.9454994  0.9685742\n",
              "  0.3  2          0.6               0.75       150      0.9459839  0.9678315\n",
              "  0.3  2          0.6               1.00        50      0.9432820  0.9736947\n",
              "  0.3  2          0.6               1.00       100      0.9452193  0.9697078\n",
              "  0.3  2          0.6               1.00       150      0.9458499  0.9684568\n",
              "  0.3  2          0.8               0.50        50      0.9434130  0.9706068\n",
              "  0.3  2          0.8               0.50       100      0.9452608  0.9670108\n",
              "  0.3  2          0.8               0.50       150      0.9457038  0.9662680\n",
              "  0.3  2          0.8               0.75        50      0.9434150  0.9722875\n",
              "  0.3  2          0.8               0.75       100      0.9453553  0.9691605\n",
              "  0.3  2          0.8               0.75       150      0.9459234  0.9676755\n",
              "  0.3  2          0.8               1.00        50      0.9430868  0.9721699\n",
              "  0.3  2          0.8               1.00       100      0.9453702  0.9697467\n",
              "  0.3  2          0.8               1.00       150      0.9460807  0.9684179\n",
              "  0.3  3          0.6               0.50        50      0.9449548  0.9693168\n",
              "  0.3  3          0.6               0.50       100      0.9453154  0.9661119\n",
              "  0.3  3          0.6               0.50       150      0.9447346  0.9639230\n",
              "  0.3  3          0.6               0.75        50      0.9464404  0.9702551\n",
              "  0.3  3          0.6               0.75       100      0.9467917  0.9675192\n",
              "  0.3  3          0.6               0.75       150      0.9460205  0.9656038\n",
              "  0.3  3          0.6               1.00        50      0.9462097  0.9707239\n",
              "  0.3  3          0.6               1.00       100      0.9470949  0.9674017\n",
              "  0.3  3          0.6               1.00       150      0.9470956  0.9666591\n",
              "  0.3  3          0.8               0.50        50      0.9457432  0.9677924\n",
              "  0.3  3          0.8               0.50       100      0.9449625  0.9657210\n",
              "  0.3  3          0.8               0.50       150      0.9443050  0.9639621\n",
              "  0.3  3          0.8               0.75        50      0.9460771  0.9696686\n",
              "  0.3  3          0.8               0.75       100      0.9463935  0.9672843\n",
              "  0.3  3          0.8               0.75       150      0.9463125  0.9662290\n",
              "  0.3  3          0.8               1.00        50      0.9464218  0.9702159\n",
              "  0.3  3          0.8               1.00       100      0.9473781  0.9685351\n",
              "  0.3  3          0.8               1.00       150      0.9473217  0.9678706\n",
              "  0.4  1          0.6               0.50        50      0.9384047  0.9766262\n",
              "  0.4  1          0.6               0.50       100      0.9413551  0.9703330\n",
              "  0.4  1          0.6               0.50       150      0.9413797  0.9693949\n",
              "  0.4  1          0.6               0.75        50      0.9381644  0.9775253\n",
              "  0.4  1          0.6               0.75       100      0.9416254  0.9717011\n",
              "  0.4  1          0.6               0.75       150      0.9417398  0.9694341\n",
              "  0.4  1          0.6               1.00        50      0.9387697  0.9794015\n",
              "  0.4  1          0.6               1.00       100      0.9416588  0.9731864\n",
              "  0.4  1          0.6               1.00       150      0.9421013  0.9717793\n",
              "  0.4  1          0.8               0.50        50      0.9389293  0.9773296\n",
              "  0.4  1          0.8               0.50       100      0.9413338  0.9710366\n",
              "  0.4  1          0.8               0.50       150      0.9413157  0.9694340\n",
              "  0.4  1          0.8               0.75        50      0.9389567  0.9765479\n",
              "  0.4  1          0.8               0.75       100      0.9414615  0.9716620\n",
              "  0.4  1          0.8               0.75       150      0.9417672  0.9695903\n",
              "  0.4  1          0.8               1.00        50      0.9386918  0.9783068\n",
              "  0.4  1          0.8               1.00       100      0.9413603  0.9729910\n",
              "  0.4  1          0.8               1.00       150      0.9418925  0.9715448\n",
              "  0.4  2          0.6               0.50        50      0.9431319  0.9690042\n",
              "  0.4  2          0.6               0.50       100      0.9445574  0.9677926\n",
              "  0.4  2          0.6               0.50       150      0.9444051  0.9664635\n",
              "  0.4  2          0.6               0.75        50      0.9442619  0.9704112\n",
              "  0.4  2          0.6               0.75       100      0.9454216  0.9670498\n",
              "  0.4  2          0.6               0.75       150      0.9456030  0.9661118\n",
              "  0.4  2          0.6               1.00        50      0.9447734  0.9714274\n",
              "  0.4  2          0.6               1.00       100      0.9462642  0.9687305\n",
              "  0.4  2          0.6               1.00       150      0.9468751  0.9688869\n",
              "  0.4  2          0.8               0.50        50      0.9434017  0.9688086\n",
              "  0.4  2          0.8               0.50       100      0.9444428  0.9658383\n",
              "  0.4  2          0.8               0.50       150      0.9447759  0.9650563\n",
              "  0.4  2          0.8               0.75        50      0.9438114  0.9693951\n",
              "  0.4  2          0.8               0.75       100      0.9455712  0.9663854\n",
              "  0.4  2          0.8               0.75       150      0.9461343  0.9664636\n",
              "  0.4  2          0.8               1.00        50      0.9442805  0.9711541\n",
              "  0.4  2          0.8               1.00       100      0.9457258  0.9687306\n",
              "  0.4  2          0.8               1.00       150      0.9461826  0.9679098\n",
              "  0.4  3          0.6               0.50        50      0.9440828  0.9663853\n",
              "  0.4  3          0.6               0.50       100      0.9438959  0.9627502\n",
              "  0.4  3          0.6               0.50       150      0.9434967  0.9624766\n",
              "  0.4  3          0.6               0.75        50      0.9455228  0.9680271\n",
              "  0.4  3          0.6               0.75       100      0.9454795  0.9663855\n",
              "  0.4  3          0.6               0.75       150      0.9449124  0.9647828\n",
              "  0.4  3          0.6               1.00        50      0.9463763  0.9681834\n",
              "  0.4  3          0.6               1.00       100      0.9465304  0.9668152\n",
              "  0.4  3          0.6               1.00       150      0.9461187  0.9650564\n",
              "  0.4  3          0.8               0.50        50      0.9444775  0.9655646\n",
              "  0.4  3          0.8               0.50       100      0.9441607  0.9640792\n",
              "  0.4  3          0.8               0.50       150      0.9434760  0.9625549\n",
              "  0.4  3          0.8               0.75        50      0.9458451  0.9668545\n",
              "  0.4  3          0.8               0.75       100      0.9461760  0.9660728\n",
              "  0.4  3          0.8               0.75       150      0.9451903  0.9640010\n",
              "  0.4  3          0.8               1.00        50      0.9459749  0.9683007\n",
              "  0.4  3          0.8               1.00       100      0.9465862  0.9664637\n",
              "  0.4  3          0.8               1.00       150      0.9459726  0.9651738\n",
              "  Spec     \n",
              "  0.3042061\n",
              "  0.4101254\n",
              "  0.4433742\n",
              "  0.3017426\n",
              "  0.3888803\n",
              "  0.4344501\n",
              "  0.2949649\n",
              "  0.3762621\n",
              "  0.4122821\n",
              "  0.3072868\n",
              "  0.4055090\n",
              "  0.4427578\n",
              "  0.3014378\n",
              "  0.3931918\n",
              "  0.4304444\n",
              "  0.2980475\n",
              "  0.3759544\n",
              "  0.4147417\n",
              "  0.4332165\n",
              "  0.4717179\n",
              "  0.4843343\n",
              "  0.4273685\n",
              "  0.4815565\n",
              "  0.4861738\n",
              "  0.4230703\n",
              "  0.4763295\n",
              "  0.4852593\n",
              "  0.4470684\n",
              "  0.4877066\n",
              "  0.5006334\n",
              "  0.4424444\n",
              "  0.4886363\n",
              "  0.5015783\n",
              "  0.4335157\n",
              "  0.4806344\n",
              "  0.4963400\n",
              "  0.4793941\n",
              "  0.4997170\n",
              "  0.5117179\n",
              "  0.4812564\n",
              "  0.4994226\n",
              "  0.5086619\n",
              "  0.4723162\n",
              "  0.4975603\n",
              "  0.5046334\n",
              "  0.4944796\n",
              "  0.5021814\n",
              "  0.5024796\n",
              "  0.4864853\n",
              "  0.5027901\n",
              "  0.5077255\n",
              "  0.4716961\n",
              "  0.4926306\n",
              "  0.5037236\n",
              "  0.3651804\n",
              "  0.4402953\n",
              "  0.4538566\n",
              "  0.3599544\n",
              "  0.4310674\n",
              "  0.4557028\n",
              "  0.3383922\n",
              "  0.4128889\n",
              "  0.4375356\n",
              "  0.3744027\n",
              "  0.4446125\n",
              "  0.4670874\n",
              "  0.3673210\n",
              "  0.4399924\n",
              "  0.4544729\n",
              "  0.3417759\n",
              "  0.4153637\n",
              "  0.4418462\n",
              "  0.4698604\n",
              "  0.4904872\n",
              "  0.5018794\n",
              "  0.4615385\n",
              "  0.4883390\n",
              "  0.4984834\n",
              "  0.4510788\n",
              "  0.4864938\n",
              "  0.4954264\n",
              "  0.4720171\n",
              "  0.4944986\n",
              "  0.5061966\n",
              "  0.4794065\n",
              "  0.5040380\n",
              "  0.5095783\n",
              "  0.4615442\n",
              "  0.4929506\n",
              "  0.5021880\n",
              "  0.4880123\n",
              "  0.5070969\n",
              "  0.5071083\n",
              "  0.4917208\n",
              "  0.5086543\n",
              "  0.5169487\n",
              "  0.4880057\n",
              "  0.5043343\n",
              "  0.5083390\n",
              "  0.4969525\n",
              "  0.5117312\n",
              "  0.5160408\n",
              "  0.4917198\n",
              "  0.5040313\n",
              "  0.5067987\n",
              "  0.4898737\n",
              "  0.5043371\n",
              "  0.5141956\n",
              "\n",
              "Tuning parameter 'gamma' was held constant at a value of 0\n",
              "Tuning\n",
              " parameter 'min_child_weight' was held constant at a value of 1\n",
              "ROC was used to select the optimal model using the largest value.\n",
              "The final values used for the model were nrounds = 100, max_depth = 3, eta\n",
              " = 0.3, gamma = 0, colsample_bytree = 0.8, min_child_weight = 1 and subsample\n",
              " = 1."
            ]
          },
          "metadata": {
            "tags": []
          }
        }
      ]
    },
    {
      "cell_type": "code",
      "metadata": {
        "id": "PvolGKX9_h-S",
        "colab_type": "code",
        "colab": {}
      },
      "source": [
        "# Score do Modelo\n",
        "df2_boosting_pred <- predict(df2_boosting, newdata = df2_test)"
      ],
      "execution_count": 0,
      "outputs": []
    },
    {
      "cell_type": "code",
      "metadata": {
        "id": "b175hfTX_h-V",
        "colab_type": "code",
        "outputId": "7d143738-72e9-47f5-a327-d0a928c561ce",
        "colab": {
          "base_uri": "https://localhost:8080/",
          "height": 476
        }
      },
      "source": [
        "# Matriz de Confusão\n",
        "confusionMatrix(df2_boosting_pred, df2_test$SUBSCRIBED)"
      ],
      "execution_count": 0,
      "outputs": [
        {
          "output_type": "display_data",
          "data": {
            "text/plain": [
              "Confusion Matrix and Statistics\n",
              "\n",
              "          Reference\n",
              "Prediction    no   yes\n",
              "       no  10622   709\n",
              "       yes   342   683\n",
              "                                          \n",
              "               Accuracy : 0.9149          \n",
              "                 95% CI : (0.9099, 0.9198)\n",
              "    No Information Rate : 0.8873          \n",
              "    P-Value [Acc > NIR] : < 2.2e-16       \n",
              "                                          \n",
              "                  Kappa : 0.5192          \n",
              "                                          \n",
              " Mcnemar's Test P-Value : < 2.2e-16       \n",
              "                                          \n",
              "            Sensitivity : 0.9688          \n",
              "            Specificity : 0.4907          \n",
              "         Pos Pred Value : 0.9374          \n",
              "         Neg Pred Value : 0.6663          \n",
              "             Prevalence : 0.8873          \n",
              "         Detection Rate : 0.8597          \n",
              "   Detection Prevalence : 0.9170          \n",
              "      Balanced Accuracy : 0.7297          \n",
              "                                          \n",
              "       'Positive' Class : no              \n",
              "                                          "
            ]
          },
          "metadata": {
            "tags": []
          }
        }
      ]
    },
    {
      "cell_type": "code",
      "metadata": {
        "id": "yk5C035Y_h-X",
        "colab_type": "code",
        "outputId": "4e8536ae-f52b-4665-d7b3-496280f62f39",
        "colab": {
          "base_uri": "https://localhost:8080/",
          "height": 51
        }
      },
      "source": [
        "# Curva ROC\n",
        "df2_boosting_pred_prob <- predict(df2_boosting, newdata = df2_test, type=\"prob\")\n",
        "boosting_roc <- roc(predictor = df2_boosting_pred_prob$yes,\n",
        "               response = df2_test$SUBSCRIBED,\n",
        "               levels = rev(levels(df2_test$SUBSCRIBED)))"
      ],
      "execution_count": 0,
      "outputs": [
        {
          "output_type": "stream",
          "text": [
            "Setting direction: controls > cases\n",
            "\n"
          ],
          "name": "stderr"
        }
      ]
    },
    {
      "cell_type": "markdown",
      "metadata": {
        "id": "RNKDHvKQ_h-d",
        "colab_type": "text"
      },
      "source": [
        "#### Bagging"
      ]
    },
    {
      "cell_type": "code",
      "metadata": {
        "id": "vSzqSv9W_h-d",
        "colab_type": "code",
        "outputId": "a6838942-00f8-4540-a0c9-5749765c5ad7",
        "colab": {
          "base_uri": "https://localhost:8080/",
          "height": 238
        }
      },
      "source": [
        "# Treinando o Modelo\n",
        "df2_bagging <- train(SUBSCRIBED ~ ., data = df2_train, method = \"treebag\", trControl = cv)\n",
        "df2_bagging"
      ],
      "execution_count": 0,
      "outputs": [
        {
          "output_type": "display_data",
          "data": {
            "text/plain": [
              "Bagged CART \n",
              "\n",
              "28832 samples\n",
              "   18 predictor\n",
              "    2 classes: 'no', 'yes' \n",
              "\n",
              "No pre-processing\n",
              "Resampling: Cross-Validated (10 fold, repeated 1 times) \n",
              "Summary of sample sizes: 25949, 25949, 25950, 25948, 25949, 25949, ... \n",
              "Resampling results:\n",
              "\n",
              "  ROC        Sens       Spec     \n",
              "  0.9259818  0.9567698  0.5144615\n"
            ]
          },
          "metadata": {
            "tags": []
          }
        }
      ]
    },
    {
      "cell_type": "code",
      "metadata": {
        "id": "9kX4X84y_h-g",
        "colab_type": "code",
        "colab": {}
      },
      "source": [
        "# Score do Modelo\n",
        "df2_bagging_pred <- predict(df2_bagging, newdata = df2_test)"
      ],
      "execution_count": 0,
      "outputs": []
    },
    {
      "cell_type": "code",
      "metadata": {
        "id": "BzX4CB-H_h-i",
        "colab_type": "code",
        "outputId": "e9c76723-1852-464b-8e4e-6f06751a790b",
        "colab": {
          "base_uri": "https://localhost:8080/",
          "height": 51
        }
      },
      "source": [
        "# Curva ROC\n",
        "df2_bagging_pred_prob <- predict(df2_bagging, newdata = df2_test, type=\"prob\")\n",
        "bagging_roc <- roc(predictor = df2_bagging_pred_prob$yes,\n",
        "               response = df2_test$SUBSCRIBED,\n",
        "               levels = rev(levels(df2_test$SUBSCRIBED)))"
      ],
      "execution_count": 0,
      "outputs": [
        {
          "output_type": "stream",
          "text": [
            "Setting direction: controls > cases\n",
            "\n"
          ],
          "name": "stderr"
        }
      ]
    },
    {
      "cell_type": "code",
      "metadata": {
        "id": "JCy3d5NB_h-k",
        "colab_type": "code",
        "outputId": "ad0437dd-c312-4326-a17b-e4e3bd190897",
        "colab": {
          "base_uri": "https://localhost:8080/",
          "height": 476
        }
      },
      "source": [
        "# Matriz de Confusão\n",
        "confusionMatrix(df2_bagging_pred, df2_test$SUBSCRIBED)"
      ],
      "execution_count": 0,
      "outputs": [
        {
          "output_type": "display_data",
          "data": {
            "text/plain": [
              "Confusion Matrix and Statistics\n",
              "\n",
              "          Reference\n",
              "Prediction    no   yes\n",
              "       no  10475   645\n",
              "       yes   489   747\n",
              "                                         \n",
              "               Accuracy : 0.9082         \n",
              "                 95% CI : (0.903, 0.9133)\n",
              "    No Information Rate : 0.8873         \n",
              "    P-Value [Acc > NIR] : 2.388e-14      \n",
              "                                         \n",
              "                  Kappa : 0.5173         \n",
              "                                         \n",
              " Mcnemar's Test P-Value : 4.168e-06      \n",
              "                                         \n",
              "            Sensitivity : 0.9554         \n",
              "            Specificity : 0.5366         \n",
              "         Pos Pred Value : 0.9420         \n",
              "         Neg Pred Value : 0.6044         \n",
              "             Prevalence : 0.8873         \n",
              "         Detection Rate : 0.8478         \n",
              "   Detection Prevalence : 0.9000         \n",
              "      Balanced Accuracy : 0.7460         \n",
              "                                         \n",
              "       'Positive' Class : no             \n",
              "                                         "
            ]
          },
          "metadata": {
            "tags": []
          }
        }
      ]
    },
    {
      "cell_type": "markdown",
      "metadata": {
        "id": "gETqQRX0_h-n",
        "colab_type": "text"
      },
      "source": [
        "#### Random Forest"
      ]
    },
    {
      "cell_type": "code",
      "metadata": {
        "id": "RAfInNKu_h-n",
        "colab_type": "code",
        "outputId": "eb0afcd2-9372-4653-e830-ba0996047f87",
        "colab": {
          "base_uri": "https://localhost:8080/",
          "height": 323
        }
      },
      "source": [
        "# Treinando o Modelo\n",
        "df2_rf <- train(SUBSCRIBED ~ . , data = df2_train, method = \"rf\", trControl = cv)\n",
        "df2_rf"
      ],
      "execution_count": 0,
      "outputs": [
        {
          "output_type": "display_data",
          "data": {
            "text/plain": [
              "Random Forest \n",
              "\n",
              "28832 samples\n",
              "   18 predictor\n",
              "    2 classes: 'no', 'yes' \n",
              "\n",
              "No pre-processing\n",
              "Resampling: Cross-Validated (10 fold, repeated 1 times) \n",
              "Summary of sample sizes: 25950, 25948, 25948, 25949, 25949, 25948, ... \n",
              "Resampling results across tuning parameters:\n",
              "\n",
              "  mtry  ROC        Sens       Spec      \n",
              "    2   0.9088785  0.9980066  0.06741975\n",
              "   54   0.9414772  0.9597791  0.52954131\n",
              "  107   0.9381693  0.9578639  0.53107502\n",
              "\n",
              "ROC was used to select the optimal model using the largest value.\n",
              "The final value used for the model was mtry = 54."
            ]
          },
          "metadata": {
            "tags": []
          }
        }
      ]
    },
    {
      "cell_type": "code",
      "metadata": {
        "id": "PI5Nj3zo_h-q",
        "colab_type": "code",
        "colab": {}
      },
      "source": [
        "# Score do Modelo\n",
        "df2_rf_pred <- predict(df2_rf, newdata = df2_test)"
      ],
      "execution_count": 0,
      "outputs": []
    },
    {
      "cell_type": "code",
      "metadata": {
        "id": "dOuaE1Dc_h-t",
        "colab_type": "code",
        "outputId": "99e62cb7-a470-4ad6-8e72-e68f7169794a",
        "colab": {
          "base_uri": "https://localhost:8080/",
          "height": 476
        }
      },
      "source": [
        "# Matriz de confusão\n",
        "confusionMatrix(df2_rf_pred, df2_test$SUBSCRIBED)"
      ],
      "execution_count": 0,
      "outputs": [
        {
          "output_type": "display_data",
          "data": {
            "text/plain": [
              "Confusion Matrix and Statistics\n",
              "\n",
              "          Reference\n",
              "Prediction    no   yes\n",
              "       no  10515   636\n",
              "       yes   449   756\n",
              "                                          \n",
              "               Accuracy : 0.9122          \n",
              "                 95% CI : (0.9071, 0.9171)\n",
              "    No Information Rate : 0.8873          \n",
              "    P-Value [Acc > NIR] : < 2.2e-16       \n",
              "                                          \n",
              "                  Kappa : 0.5334          \n",
              "                                          \n",
              " Mcnemar's Test P-Value : 1.635e-08       \n",
              "                                          \n",
              "            Sensitivity : 0.9590          \n",
              "            Specificity : 0.5431          \n",
              "         Pos Pred Value : 0.9430          \n",
              "         Neg Pred Value : 0.6274          \n",
              "             Prevalence : 0.8873          \n",
              "         Detection Rate : 0.8510          \n",
              "   Detection Prevalence : 0.9025          \n",
              "      Balanced Accuracy : 0.7511          \n",
              "                                          \n",
              "       'Positive' Class : no              \n",
              "                                          "
            ]
          },
          "metadata": {
            "tags": []
          }
        }
      ]
    },
    {
      "cell_type": "code",
      "metadata": {
        "id": "pLRf0HvD_h-x",
        "colab_type": "code",
        "outputId": "912951c6-002d-4b35-fcf4-e38c4b727a01",
        "colab": {
          "base_uri": "https://localhost:8080/",
          "height": 51
        }
      },
      "source": [
        "# Curva ROC\n",
        "df2_rf_pred_prob <- predict(df2_rf, newdata = df2_test, type=\"prob\")\n",
        "rf_roc <- roc(predictor = df2_rf_pred_prob$yes,\n",
        "               response = df2_test$SUBSCRIBED,\n",
        "               levels = rev(levels(df2_test$SUBSCRIBED)))"
      ],
      "execution_count": 0,
      "outputs": [
        {
          "output_type": "stream",
          "text": [
            "Setting direction: controls > cases\n",
            "\n"
          ],
          "name": "stderr"
        }
      ]
    },
    {
      "cell_type": "markdown",
      "metadata": {
        "id": "d2uvxyJM_h-z",
        "colab_type": "text"
      },
      "source": [
        "### Support Vector Machine (SVM)"
      ]
    },
    {
      "cell_type": "markdown",
      "metadata": {
        "id": "YkpBeqIK_h-z",
        "colab_type": "text"
      },
      "source": [
        "#### Linear Kernel"
      ]
    },
    {
      "cell_type": "code",
      "metadata": {
        "id": "KvYVHL39_h-z",
        "colab_type": "code",
        "colab": {}
      },
      "source": [
        "#Parametrizando o Cross Validation\n",
        "set.seed(314)\n",
        "cv_svm <- trainControl(method = \"repeatedcv\", number = 10, classProbs = TRUE)"
      ],
      "execution_count": 0,
      "outputs": []
    },
    {
      "cell_type": "code",
      "metadata": {
        "id": "A6lG3MmS_h-1",
        "colab_type": "code",
        "outputId": "f09f5cb6-00a5-464a-9ed0-58c2dfb12cb9",
        "colab": {
          "base_uri": "https://localhost:8080/",
          "height": 272
        }
      },
      "source": [
        "# Treinando o Modelo\n",
        "options(warn=-1)\n",
        "df2_svm_lk <- train(SUBSCRIBED ~ ., data = df2_train,  \n",
        "                       method = \"svmLinear\", trControl = cv_svm, \n",
        "                       preProcess = c(\"center\", \"scale\"))\n",
        "df2_svm_lk"
      ],
      "execution_count": 0,
      "outputs": [
        {
          "output_type": "display_data",
          "data": {
            "text/plain": [
              "Support Vector Machines with Linear Kernel \n",
              "\n",
              "28832 samples\n",
              "   18 predictor\n",
              "    2 classes: 'no', 'yes' \n",
              "\n",
              "Pre-processing: centered (107), scaled (107) \n",
              "Resampling: Cross-Validated (10 fold, repeated 1 times) \n",
              "Summary of sample sizes: 25949, 25949, 25948, 25949, 25949, 25950, ... \n",
              "Resampling results:\n",
              "\n",
              "  Accuracy  Kappa    \n",
              "  0.907013  0.4235277\n",
              "\n",
              "Tuning parameter 'C' was held constant at a value of 1"
            ]
          },
          "metadata": {
            "tags": []
          }
        }
      ]
    },
    {
      "cell_type": "code",
      "metadata": {
        "id": "ia18egHM_h-3",
        "colab_type": "code",
        "colab": {}
      },
      "source": [
        "# Score do Modelo\n",
        "df2_svm_lk_pred <- predict(df2_svm_lk, newdata=df2_test)"
      ],
      "execution_count": 0,
      "outputs": []
    },
    {
      "cell_type": "code",
      "metadata": {
        "id": "qYNR5WxI_h-4",
        "colab_type": "code",
        "outputId": "06d08f95-9198-4ad3-ac83-409c27407bb2",
        "colab": {
          "base_uri": "https://localhost:8080/",
          "height": 476
        }
      },
      "source": [
        "# Matriz de confusão\n",
        "confusionMatrix(df2_svm_lk_pred, df2_test$SUBSCRIBED)\n"
      ],
      "execution_count": 0,
      "outputs": [
        {
          "output_type": "display_data",
          "data": {
            "text/plain": [
              "Confusion Matrix and Statistics\n",
              "\n",
              "          Reference\n",
              "Prediction    no   yes\n",
              "       no  10680   866\n",
              "       yes   284   526\n",
              "                                         \n",
              "               Accuracy : 0.9069         \n",
              "                 95% CI : (0.9017, 0.912)\n",
              "    No Information Rate : 0.8873         \n",
              "    P-Value [Acc > NIR] : 8.587e-13      \n",
              "                                         \n",
              "                  Kappa : 0.4306         \n",
              "                                         \n",
              " Mcnemar's Test P-Value : < 2.2e-16      \n",
              "                                         \n",
              "            Sensitivity : 0.9741         \n",
              "            Specificity : 0.3779         \n",
              "         Pos Pred Value : 0.9250         \n",
              "         Neg Pred Value : 0.6494         \n",
              "             Prevalence : 0.8873         \n",
              "         Detection Rate : 0.8644         \n",
              "   Detection Prevalence : 0.9344         \n",
              "      Balanced Accuracy : 0.6760         \n",
              "                                         \n",
              "       'Positive' Class : no             \n",
              "                                         "
            ]
          },
          "metadata": {
            "tags": []
          }
        }
      ]
    },
    {
      "cell_type": "code",
      "metadata": {
        "id": "TUCiUIma_h-7",
        "colab_type": "code",
        "outputId": "0e2b91ab-9c51-4d85-e69e-6032d08a77ab",
        "colab": {
          "base_uri": "https://localhost:8080/",
          "height": 51
        }
      },
      "source": [
        "# Curva ROC\n",
        "df2_svm_lk_prob <- predict(df2_svm_lk, newdata = df2_test, type=\"prob\")\n",
        "\n",
        "df2_svm_lk_roc <- roc(predictor = df2_svm_lk_prob$yes,\n",
        "               response = df2_test$SUBSCRIBED,\n",
        "               levels = rev(levels(df2_test$SUBSCRIBED)))"
      ],
      "execution_count": 0,
      "outputs": [
        {
          "output_type": "stream",
          "text": [
            "Setting direction: controls > cases\n",
            "\n"
          ],
          "name": "stderr"
        }
      ]
    },
    {
      "cell_type": "markdown",
      "metadata": {
        "id": "XR_5Gysl_h-8",
        "colab_type": "text"
      },
      "source": [
        "#### RFB Kernel"
      ]
    },
    {
      "cell_type": "code",
      "metadata": {
        "id": "a_--ZS3B_h-9",
        "colab_type": "code",
        "outputId": "dce91fc5-ad20-41f3-a3b9-9be7ed62d765",
        "colab": {
          "base_uri": "https://localhost:8080/",
          "height": 377
        }
      },
      "source": [
        "# Treinando o modelo\n",
        "options=(warn=-1)\n",
        "df2_rfb <- train(SUBSCRIBED ~ .,data=df2_train,\n",
        "                 method=\"svmRadial\",\n",
        "                 trControl=cv_svm,\n",
        "                preProcess= c(\"center\", \"scale\"),\n",
        "                metric=\"ROC\")\n",
        "df2_rfb"
      ],
      "execution_count": 0,
      "outputs": [
        {
          "output_type": "stream",
          "text": [
            "line search fails -3.06053 -0.9829033 1.70226e-05 -3.222192e-06 -4.033831e-08 -3.593008e-08 -5.708894e-13line search fails -3.146119 -1.043764 2.236211e-05 -3.662128e-06 -5.747309e-08 -5.152421e-08 -1.096531e-12line search fails -3.012131 -0.9105527 2.572699e-05 -3.479407e-06 -6.254597e-08 -5.613291e-08 -1.413811e-12"
          ],
          "name": "stdout"
        },
        {
          "output_type": "display_data",
          "data": {
            "text/plain": [
              "Support Vector Machines with Radial Basis Function Kernel \n",
              "\n",
              "28832 samples\n",
              "   18 predictor\n",
              "    2 classes: 'no', 'yes' \n",
              "\n",
              "Pre-processing: centered (107), scaled (107) \n",
              "Resampling: Cross-Validated (10 fold, repeated 1 times) \n",
              "Summary of sample sizes: 25949, 25949, 25949, 25949, 25948, 25950, ... \n",
              "Resampling results across tuning parameters:\n",
              "\n",
              "  C     Accuracy   Kappa    \n",
              "  0.25  0.9012434  0.3672453\n",
              "  0.50  0.9042728  0.3993160\n",
              "  1.00  0.9056601  0.4184869\n",
              "\n",
              "Tuning parameter 'sigma' was held constant at a value of 0.007871603\n",
              "Accuracy was used to select the optimal model using the largest value.\n",
              "The final values used for the model were sigma = 0.007871603 and C = 1."
            ]
          },
          "metadata": {
            "tags": []
          }
        }
      ]
    },
    {
      "cell_type": "code",
      "metadata": {
        "id": "FuCNfWtC_h--",
        "colab_type": "code",
        "colab": {}
      },
      "source": [
        "# Score do modelo\n",
        "df2_rfb_pred <- predict(df2_rfb, newdata = df2_test)"
      ],
      "execution_count": 0,
      "outputs": []
    },
    {
      "cell_type": "code",
      "metadata": {
        "id": "6UMxT4rI_h_C",
        "colab_type": "code",
        "outputId": "9b22c85f-499e-4736-b374-440d27b8eb36",
        "colab": {
          "base_uri": "https://localhost:8080/",
          "height": 476
        }
      },
      "source": [
        "# Matriz de confusão\n",
        "confusionMatrix(df2_rfb_pred, df2_test$SUBSCRIBED)\n",
        "# confusionMatrix(df2_svm_lk_pred, df2_test$SUBSCRIBED)\n",
        "\n"
      ],
      "execution_count": 0,
      "outputs": [
        {
          "output_type": "display_data",
          "data": {
            "text/plain": [
              "Confusion Matrix and Statistics\n",
              "\n",
              "          Reference\n",
              "Prediction    no   yes\n",
              "       no  10666   867\n",
              "       yes   298   525\n",
              "                                          \n",
              "               Accuracy : 0.9057          \n",
              "                 95% CI : (0.9004, 0.9108)\n",
              "    No Information Rate : 0.8873          \n",
              "    P-Value [Acc > NIR] : 1.982e-11       \n",
              "                                          \n",
              "                  Kappa : 0.426           \n",
              "                                          \n",
              " Mcnemar's Test P-Value : < 2.2e-16       \n",
              "                                          \n",
              "            Sensitivity : 0.9728          \n",
              "            Specificity : 0.3772          \n",
              "         Pos Pred Value : 0.9248          \n",
              "         Neg Pred Value : 0.6379          \n",
              "             Prevalence : 0.8873          \n",
              "         Detection Rate : 0.8632          \n",
              "   Detection Prevalence : 0.9334          \n",
              "      Balanced Accuracy : 0.6750          \n",
              "                                          \n",
              "       'Positive' Class : no              \n",
              "                                          "
            ]
          },
          "metadata": {
            "tags": []
          }
        }
      ]
    },
    {
      "cell_type": "code",
      "metadata": {
        "id": "iyCGoLoy_h_E",
        "colab_type": "code",
        "outputId": "ef64c734-e5ea-4548-ec01-95e4c08a0a48",
        "colab": {
          "base_uri": "https://localhost:8080/",
          "height": 51
        }
      },
      "source": [
        "# Curva ROC\n",
        "df2_rfb_prob <- predict(df2_rfb, newdata = df2_test, type=\"prob\")\n",
        "\n",
        "df2_rfb_roc <- roc(predictor = df2_rfb_prob$yes,\n",
        "               response = df2_test$SUBSCRIBED,\n",
        "               levels = rev(levels(df2_test$SUBSCRIBED)))"
      ],
      "execution_count": 0,
      "outputs": [
        {
          "output_type": "stream",
          "text": [
            "Setting direction: controls > cases\n",
            "\n"
          ],
          "name": "stderr"
        }
      ]
    },
    {
      "cell_type": "markdown",
      "metadata": {
        "id": "64AegwN5_h_G",
        "colab_type": "text"
      },
      "source": [
        "### Rede Neural"
      ]
    },
    {
      "cell_type": "code",
      "metadata": {
        "id": "08n9O5t9_h_G",
        "colab_type": "code",
        "colab": {}
      },
      "source": [
        "# Treinando o Modelo\n",
        "df2_rn <- train(SUBSCRIBED ~.,\n",
        "                data=df2_train,\n",
        "               method=\"nnet\",\n",
        "               trace=FALSE,\n",
        "               preProc=c(\"center\", \"scale\"))"
      ],
      "execution_count": 0,
      "outputs": []
    },
    {
      "cell_type": "code",
      "metadata": {
        "id": "QKrJ95Mt_h_I",
        "colab_type": "code",
        "outputId": "c2b550fd-5d8d-4c07-8b98-9e3ef9c4210f",
        "colab": {
          "base_uri": "https://localhost:8080/",
          "height": 425
        }
      },
      "source": [
        "df2_rn"
      ],
      "execution_count": 0,
      "outputs": [
        {
          "output_type": "display_data",
          "data": {
            "text/plain": [
              "Neural Network \n",
              "\n",
              "28832 samples\n",
              "   18 predictor\n",
              "    2 classes: 'no', 'yes' \n",
              "\n",
              "Pre-processing: centered (107), scaled (107) \n",
              "Resampling: Bootstrapped (25 reps) \n",
              "Summary of sample sizes: 28832, 28832, 28832, 28832, 28832, 28832, ... \n",
              "Resampling results across tuning parameters:\n",
              "\n",
              "  size  decay  Accuracy   Kappa     \n",
              "  1     0e+00  0.8882216  0.05815921\n",
              "  1     1e-04  0.8874344  0.03559486\n",
              "  1     1e-01  0.8895193  0.16109851\n",
              "  3     0e+00  0.8993048  0.47582406\n",
              "  3     1e-04  0.8948198  0.45229743\n",
              "  3     1e-01  0.9009146  0.50685079\n",
              "  5     0e+00  0.9042368  0.49691834\n",
              "  5     1e-04  0.9030612  0.48529012\n",
              "  5     1e-01  0.9062205  0.50448069\n",
              "\n",
              "Accuracy was used to select the optimal model using the largest value.\n",
              "The final values used for the model were size = 5 and decay = 0.1."
            ]
          },
          "metadata": {
            "tags": []
          }
        }
      ]
    },
    {
      "cell_type": "code",
      "metadata": {
        "id": "94dEgSH__h_L",
        "colab_type": "code",
        "colab": {}
      },
      "source": [
        "# Score do Modelo\n",
        "df2_rn_pred <- predict(df2_rn, newdata=df2_test)"
      ],
      "execution_count": 0,
      "outputs": []
    },
    {
      "cell_type": "code",
      "metadata": {
        "id": "BEHYBpPP_h_N",
        "colab_type": "code",
        "outputId": "1b9e0cab-07f5-4119-8bb3-16f2c36e739c",
        "colab": {
          "base_uri": "https://localhost:8080/",
          "height": 476
        }
      },
      "source": [
        "# Matriz de Confusão\n",
        "confusionMatrix(df2_rn_pred, df2_test$SUBSCRIBED)"
      ],
      "execution_count": 0,
      "outputs": [
        {
          "output_type": "display_data",
          "data": {
            "text/plain": [
              "Confusion Matrix and Statistics\n",
              "\n",
              "          Reference\n",
              "Prediction    no   yes\n",
              "       no  10483   592\n",
              "       yes   481   800\n",
              "                                          \n",
              "               Accuracy : 0.9132          \n",
              "                 95% CI : (0.9081, 0.9181)\n",
              "    No Information Rate : 0.8873          \n",
              "    P-Value [Acc > NIR] : < 2.2e-16       \n",
              "                                          \n",
              "                  Kappa : 0.55            \n",
              "                                          \n",
              " Mcnemar's Test P-Value : 0.0007848       \n",
              "                                          \n",
              "            Sensitivity : 0.9561          \n",
              "            Specificity : 0.5747          \n",
              "         Pos Pred Value : 0.9465          \n",
              "         Neg Pred Value : 0.6245          \n",
              "             Prevalence : 0.8873          \n",
              "         Detection Rate : 0.8484          \n",
              "   Detection Prevalence : 0.8963          \n",
              "      Balanced Accuracy : 0.7654          \n",
              "                                          \n",
              "       'Positive' Class : no              \n",
              "                                          "
            ]
          },
          "metadata": {
            "tags": []
          }
        }
      ]
    },
    {
      "cell_type": "code",
      "metadata": {
        "id": "EB3tUR4t_h_P",
        "colab_type": "code",
        "outputId": "3fd6d358-45a9-414c-9b7e-f4513fb4eafe",
        "colab": {
          "base_uri": "https://localhost:8080/",
          "height": 51
        }
      },
      "source": [
        "# Curva ROC\n",
        "df2_rn_prob <- predict(df2_rn, newdata = df2_test , type = \"prob\")\n",
        "df2_rn_prob_roc <- roc(predictor = df2_rn_prob$yes,\n",
        "                       response = df2_test$SUBSCRIBED,\n",
        "                       levels = rev(levels(df2_test$SUBSCRIBED)))"
      ],
      "execution_count": 0,
      "outputs": [
        {
          "output_type": "stream",
          "text": [
            "Setting direction: controls > cases\n",
            "\n"
          ],
          "name": "stderr"
        }
      ]
    },
    {
      "cell_type": "markdown",
      "metadata": {
        "id": "DJI6ieAvQdY7",
        "colab_type": "text"
      },
      "source": [
        "## Comparando os modelos"
      ]
    },
    {
      "cell_type": "markdown",
      "metadata": {
        "id": "siyleu_lROwn",
        "colab_type": "text"
      },
      "source": [
        "##### Importância das variáveis"
      ]
    },
    {
      "cell_type": "code",
      "metadata": {
        "id": "J4A2ufnaQjPm",
        "colab_type": "code",
        "colab": {}
      },
      "source": [
        "imp_glm <- varImp(df2_glm, useModel = FALSE, scale = FALSE)\n",
        "imp_bst2 <- varImp(df2_boosting, useModel = FALSE, scale = FALSE)\n",
        "imp_bag2 <- varImp(df2_bagging, useModel = FALSE, scale = FALSE)\n",
        "imp_rf2 <- varImp(df2_rf, useModel = FALSE, scale = FALSE)\n",
        "imp_svm_lin <- varImp(df2_svm_lk, useModel = FALSE, scale = FALSE)\n",
        "imp_svm_rad <- varImp(df2_rfb, useModel = FALSE, scale = FALSE)\n",
        "imp_rn2 <- varImp(df2_rn, useModel = FALSE, scale = FALSE)"
      ],
      "execution_count": 0,
      "outputs": []
    },
    {
      "cell_type": "code",
      "metadata": {
        "id": "pi1Mfk07QtNk",
        "colab_type": "code",
        "outputId": "0398c424-c5bf-4331-d26e-198f446ac727",
        "colab": {
          "base_uri": "https://localhost:8080/",
          "height": 617
        }
      },
      "source": [
        "options(repr.plot.width = 20, repr.plot.height = 10)\n",
        "par(mfrow = c(1,7))\n",
        "pl1 <- plot(imp_glm, main = \"Logistic Regression\")\n",
        "pl2 <- plot(imp_bst2, main = \"Boosting\")\n",
        "pl3 <- plot(imp_bag2, main = \"Bagging\")\n",
        "pl4 <- plot(imp_rf2, main = \"Random Forest\")\n",
        "pl5 <- plot(imp_svm_lin, main = \"SVM Linear\")\n",
        "pl6 <- plot(imp_svm_rad, main = \"SVM RBF\")\n",
        "pl7 <- plot(imp_rn2, main = \"Neural Network\")\n",
        "grid.arrange(pl1, pl2, pl3, pl4, pl5, pl6, pl7, ncol = 4)\n",
        "par(mfrow = c(1,1))"
      ],
      "execution_count": 0,
      "outputs": [
        {
          "output_type": "display_data",
          "data": {
            "image/png": "[encoded data removed]",
            "text/plain": [
              "plot without title"
            ]
          },
          "metadata": {
            "tags": [],
            "image/png": {
              "width": 1200,
              "height": 600
            },
            "text/plain": {
              "width": 1200,
              "height": 600
            }
          }
        }
      ]
    },
    {
      "cell_type": "markdown",
      "metadata": {
        "id": "LFZ8E4G41As5",
        "colab_type": "text"
      },
      "source": [
        "#####Os modelos de classificação testados apresentaram a mesma escala de importância para as variáveis preditoras, com destaque para as variáveis que envolvem o relacionamento interpessoal (meio de contato, duração do contato e se houve contato prévio) demonstrando ser o contato pessoal um importante fator para a adesão ao Serviço Premium. A ordem de importância das variáveis também apresenta coerência com os aspectos do negócio."
      ]
    },
    {
      "cell_type": "markdown",
      "metadata": {
        "id": "Y6QSn8MvQ9z_",
        "colab_type": "text"
      },
      "source": [
        "##### Curva ROC"
      ]
    },
    {
      "cell_type": "code",
      "metadata": {
        "id": "bnpkN-jKRHBv",
        "colab_type": "code",
        "outputId": "416186e3-0fd9-47ae-a902-f70228743175",
        "colab": {
          "base_uri": "https://localhost:8080/",
          "height": 197
        }
      },
      "source": [
        "options(repr.plot.width = 20, repr.plot.height = 3)\n",
        "par(mfrow = c(1,7))\n",
        "plot(glm_roc, main=\"Curva ROC - Logistic Regression\", print.auc = TRUE)\n",
        "plot(boosting_roc, main=\"Curva ROC - Boosting\", print.auc = TRUE)\n",
        "plot(bagging_roc, main=\"Curva ROC - Bagging\", print.auc = TRUE)\n",
        "plot(rf_roc, main=\"Curva ROC - Random Forest\", print.auc = TRUE)\n",
        "plot(df2_svm_lk_roc, main=\"Curva ROC - SVM Linear Kernel\", print.auc = TRUE)\n",
        "plot(df2_rfb_roc, main=\"Curva ROC - SVM RBF Kernel\", print.auc = TRUE)\n",
        "plot(df2_rn_prob_roc, main=\"Curva ROC - Neural Network\", print.auc = TRUE)\n",
        "par(mfrow = c(1,1))"
      ],
      "execution_count": 0,
      "outputs": [
        {
          "output_type": "display_data",
          "data": {
            "image/png": "[encoded data removed]",
            "text/plain": [
              "Plot with title “Curva ROC - Neural Network”"
            ]
          },
          "metadata": {
            "tags": [],
            "image/png": {
              "width": 1200,
              "height": 180
            },
            "text/plain": {
              "width": 1200,
              "height": 180
            }
          }
        }
      ]
    },
    {
      "cell_type": "markdown",
      "metadata": {
        "id": "I6rwAA1h0R3Z",
        "colab_type": "text"
      },
      "source": [
        "##### AUC"
      ]
    },
    {
      "cell_type": "code",
      "metadata": {
        "id": "l9xb2i-gRJGd",
        "colab_type": "code",
        "outputId": "d8b2d323-4e5f-4463-ddde-39b772fd215a",
        "colab": {
          "base_uri": "https://localhost:8080/",
          "height": 102
        }
      },
      "source": [
        "md_auc <- data.frame(\"Logistic Regression\" = max(glm_roc$auc),\n",
        "                             \"Boosting\" = max(boosting_roc$auc),\n",
        "                             \"Bagging\" = max(bagging_roc$auc),\n",
        "                             \"Random Forest\" = max(rf_roc$auc),\n",
        "                             \"SVM Linear\" = max(df2_svm_lk_roc$auc),\n",
        "                             \"SVM RFB\"= max(df2_rfb_roc$auc),\n",
        "                             \"Rede Neural\" = max(df2_rn_prob_roc$auc))\n",
        "rownames(md_auc) <- (\"AUC\")\n",
        "md_auc %>% head() %>% knitr::kable()"
      ],
      "execution_count": 0,
      "outputs": [
        {
          "output_type": "display_data",
          "data": {
            "text/plain": [
              "\n",
              "\n",
              "|    | Logistic.Regression|  Boosting|   Bagging| Random.Forest| SVM.Linear|   SVM.RFB| Rede.Neural|\n",
              "|:---|-------------------:|---------:|---------:|-------------:|----------:|---------:|-----------:|\n",
              "|AUC |           0.9331505| 0.9429437| 0.9234373|     0.9351235|  0.9319565| 0.9294248|    0.935197|"
            ]
          },
          "metadata": {
            "tags": []
          }
        }
      ]
    },
    {
      "cell_type": "markdown",
      "metadata": {
        "id": "u1OczlKL6aQi",
        "colab_type": "text"
      },
      "source": [
        "#####Todos os modelos performaram AUC acima de 0.9 com destaque mais uma vez para o modelo de Árvore de Decisão Boosting com os seus impressionantes 0.9429437 (acurácia de 0.9149). O grande numero de observações da base de dados e a utilização do Cross Validation nos deixou confiantes no resultado e minimizou o risco de Overfitting apesar do alto valor dos indicadores de performance."
      ]
    },
    {
      "cell_type": "markdown",
      "metadata": {
        "id": "E15jYYqE96rF",
        "colab_type": "text"
      },
      "source": [
        "### Considerações sobre os modelos para Targeted Advertising"
      ]
    },
    {
      "cell_type": "markdown",
      "metadata": {
        "id": "nD_N8HdT_GSU",
        "colab_type": "text"
      },
      "source": [
        "##### Nesta modelagem, a ótima qualidade da base de dados facilitou o nosso trabalho. O desafio aqui foi o custo computacional dos modelos. Desde o início, utilizamos o notebook baseado em Jupter do Google Colab Pro, devido a possibilidade de desenvolvermos o trabalho conjuntamente e em tempo real. Esta decisão se mostrou acertada quando configuramos o notebook para utilizar a GPU Nvidia e a memória expandida do Colab. Isto possibilitou que aplicássemos os algorítimos de classificação em toda a base de dados, de tamanho considerável e com muitas variáveis factor. Poderíamos optar por executar os algorítimos localmente com uma pequena amostra da base, mas acreditamos que os excelentes resultados que alcançamos se devem à qualidade e a quantidade de observações da base utilizada integralmente. Ainda assim, com todo o poder computacional do Google Colab Pro, a conclusão de todos os modelos de classificação levou 14 horas consecutivas."
      ]
    }
  ]
}