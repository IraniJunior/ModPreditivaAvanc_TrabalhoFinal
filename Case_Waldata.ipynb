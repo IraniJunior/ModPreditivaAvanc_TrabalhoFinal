{
  "nbformat": 4,
  "nbformat_minor": 0,
  "metadata": {
    "kernelspec": {
      "display_name": "R",
      "language": "R",
      "name": "ir"
    },
    "language_info": {
      "codemirror_mode": "r",
      "file_extension": ".r",
      "mimetype": "text/x-r-source",
      "name": "R",
      "pygments_lexer": "r",
      "version": "3.5.1"
    },
    "colab": {
      "name": "Case_Waldata",
      "provenance": [],
      "collapsed_sections": [
        "U8xRy8F6_h82"
      ],
      "toc_visible": true,
      "machine_shape": "hm"
    },
    "accelerator": "GPU"
  },
  "cells": [
    {
      "cell_type": "markdown",
      "metadata": {
        "id": "AqomaHaG_h7v",
        "colab_type": "text"
      },
      "source": [
        "#**Trabalho de Modelagem Preditiva Avançada - Case WALDATA**\n",
        "---"
      ]
    },
    {
      "cell_type": "markdown",
      "metadata": {
        "id": "MZo9w3OC_h7x",
        "colab_type": "text"
      },
      "source": [
        "## Alunos: **Américo Freitas Junior e Irani Barbosa Junior**"
      ]
    },
    {
      "cell_type": "markdown",
      "metadata": {
        "id": "TThurtuK_h7y",
        "colab_type": "text"
      },
      "source": [
        "A multinacional de varejo Waldata quer expandir a sua presença na América Latina e por isso decide firmar uma parceria com a FGV para desenvolver um modelo preditivo do\n",
        "valor de vendas. Além disso a companhia decide investir em uma solução de “Targeted Advertising” que utilizará um modelo de “Machine Learning” para dizer se um cliente irá\n",
        "aderir ou não ao serviço premium."
      ]
    },
    {
      "cell_type": "markdown",
      "metadata": {
        "id": "oSas0xXRtcvv",
        "colab_type": "text"
      },
      "source": [
        "---"
      ]
    },
    {
      "cell_type": "markdown",
      "metadata": {
        "id": "yRqKIIui_h70",
        "colab_type": "text"
      },
      "source": [
        "## Modelos Preditivos para o Valor de Vendas\n",
        "##### Neste estudo vamos desenvolver e testar modelos de regressão para prever as vendas semanais da Waldata.\n",
        "\n"
      ]
    },
    {
      "cell_type": "markdown",
      "metadata": {
        "id": "SON8DabQ_h70",
        "colab_type": "text"
      },
      "source": [
        "### Carregando as Bibliotecas"
      ]
    },
    {
      "cell_type": "code",
      "metadata": {
        "id": "wO3yRxcQF1Ne",
        "colab_type": "code",
        "colab": {}
      },
      "source": [
        "rm(list = ls())"
      ],
      "execution_count": 0,
      "outputs": []
    },
    {
      "cell_type": "code",
      "metadata": {
        "id": "49j3kVBWAVD1",
        "colab_type": "code",
        "colab": {}
      },
      "source": [
        "install.packages(\"xgboost\")\n",
        "install.packages(\"e1071\")\n",
        "install.packages(\"randomForest\")\n",
        "install.packages(\"mlbench\")\n",
        "install.packages(\"stringr\")\n",
        "install.packages(\"dplyr\")\n",
        "install.packages(\"lubridate\")\n",
        "install.packages(\"ggplot2\")\n",
        "install.packages(\"gridExtra\")\n",
        "install.packages(\"pROC\")\n",
        "install.packages(\"ROCR\")\n",
        "install.packages(\"caret\")\n",
        "install.packages(\"kernlab\")"
      ],
      "execution_count": 0,
      "outputs": []
    },
    {
      "cell_type": "code",
      "metadata": {
        "id": "71mqPcit_h71",
        "colab_type": "code",
        "colab": {}
      },
      "source": [
        "options(warn=-1)\n",
        "library(caret)\n",
        "library(pROC)\n",
        "library(xgboost)\n",
        "library(e1071)\n",
        "library(randomForest)\n",
        "library(mlbench)\n",
        "library(stringr)\n",
        "library(dplyr)\n",
        "library(lubridate)\n",
        "library(ggplot2)\n",
        "library(gridExtra)\n",
        "library(ROCR)\n",
        "library(kernlab)"
      ],
      "execution_count": 0,
      "outputs": []
    },
    {
      "cell_type": "markdown",
      "metadata": {
        "id": "ebPD4wCp_h76",
        "colab_type": "text"
      },
      "source": [
        "### Carregando a base de dados Retail.csv\n",
        "\n"
      ]
    },
    {
      "cell_type": "code",
      "metadata": {
        "id": "rzeX8Q_q_h7-",
        "colab_type": "code",
        "colab": {}
      },
      "source": [
        "df <- read.csv(\"Retail.csv\", header = TRUE, stringsAsFactors = FALSE)"
      ],
      "execution_count": 0,
      "outputs": []
    },
    {
      "cell_type": "markdown",
      "metadata": {
        "id": "m9cg1Oh1zETu",
        "colab_type": "text"
      },
      "source": [
        "### Análise Exploratória"
      ]
    },
    {
      "cell_type": "code",
      "metadata": {
        "id": "SW9gXXRT_h8B",
        "colab_type": "code",
        "outputId": "86769048-d0c4-495d-b5a7-719aa36d4834",
        "colab": {
          "base_uri": "https://localhost:8080/",
          "height": 204
        }
      },
      "source": [
        "head(df)"
      ],
      "execution_count": 0,
      "outputs": [
        {
          "output_type": "display_data",
          "data": {
            "text/plain": [
              "  Store Date       Temperature Fuel_Price MarkDown1 MarkDown2 MarkDown3\n",
              "1 1     05/02/2010 42.31       2.572      NA        NA        NA       \n",
              "2 1     12/02/2010 38.51       2.548      NA        NA        NA       \n",
              "3 1     19/02/2010 39.93       2.514      NA        NA        NA       \n",
              "4 1     26/02/2010 46.63       2.561      NA        NA        NA       \n",
              "5 1     05/03/2010 46.50       2.625      NA        NA        NA       \n",
              "6 1     12/03/2010 57.79       2.667      NA        NA        NA       \n",
              "  MarkDown4 MarkDown5 CPI      Unemployment IsHoliday Weekly_Sales\n",
              "1 NA        NA        211.0964 8.106        FALSE     1643690.9   \n",
              "2 NA        NA        211.2422 8.106         TRUE     1641957.44  \n",
              "3 NA        NA        211.2891 8.106        FALSE     1611968.17  \n",
              "4 NA        NA        211.3196 8.106        FALSE     1409727.59  \n",
              "5 NA        NA        211.3501 8.106        FALSE     1554806.68  \n",
              "6 NA        NA        211.3806 8.106        FALSE     1439541.59  "
            ],
            "text/latex": "A data.frame: 6 × 13\n\\begin{tabular}{r|lllllllllllll}\n  & Store & Date & Temperature & Fuel\\_Price & MarkDown1 & MarkDown2 & MarkDown3 & MarkDown4 & MarkDown5 & CPI & Unemployment & IsHoliday & Weekly\\_Sales\\\\\n  & <int> & <chr> & <dbl> & <dbl> & <dbl> & <dbl> & <dbl> & <dbl> & <dbl> & <dbl> & <dbl> & <lgl> & <chr>\\\\\n\\hline\n\t1 & 1 & 05/02/2010 & 42.31 & 2.572 & NA & NA & NA & NA & NA & 211.0964 & 8.106 & FALSE & 1643690.9 \\\\\n\t2 & 1 & 12/02/2010 & 38.51 & 2.548 & NA & NA & NA & NA & NA & 211.2422 & 8.106 &  TRUE & 1641957.44\\\\\n\t3 & 1 & 19/02/2010 & 39.93 & 2.514 & NA & NA & NA & NA & NA & 211.2891 & 8.106 & FALSE & 1611968.17\\\\\n\t4 & 1 & 26/02/2010 & 46.63 & 2.561 & NA & NA & NA & NA & NA & 211.3196 & 8.106 & FALSE & 1409727.59\\\\\n\t5 & 1 & 05/03/2010 & 46.50 & 2.625 & NA & NA & NA & NA & NA & 211.3501 & 8.106 & FALSE & 1554806.68\\\\\n\t6 & 1 & 12/03/2010 & 57.79 & 2.667 & NA & NA & NA & NA & NA & 211.3806 & 8.106 & FALSE & 1439541.59\\\\\n\\end{tabular}\n",
            "text/markdown": "\nA data.frame: 6 × 13\n\n| <!--/--> | Store &lt;int&gt; | Date &lt;chr&gt; | Temperature &lt;dbl&gt; | Fuel_Price &lt;dbl&gt; | MarkDown1 &lt;dbl&gt; | MarkDown2 &lt;dbl&gt; | MarkDown3 &lt;dbl&gt; | MarkDown4 &lt;dbl&gt; | MarkDown5 &lt;dbl&gt; | CPI &lt;dbl&gt; | Unemployment &lt;dbl&gt; | IsHoliday &lt;lgl&gt; | Weekly_Sales &lt;chr&gt; |\n|---|---|---|---|---|---|---|---|---|---|---|---|---|---|\n| 1 | 1 | 05/02/2010 | 42.31 | 2.572 | NA | NA | NA | NA | NA | 211.0964 | 8.106 | FALSE | 1643690.9  |\n| 2 | 1 | 12/02/2010 | 38.51 | 2.548 | NA | NA | NA | NA | NA | 211.2422 | 8.106 |  TRUE | 1641957.44 |\n| 3 | 1 | 19/02/2010 | 39.93 | 2.514 | NA | NA | NA | NA | NA | 211.2891 | 8.106 | FALSE | 1611968.17 |\n| 4 | 1 | 26/02/2010 | 46.63 | 2.561 | NA | NA | NA | NA | NA | 211.3196 | 8.106 | FALSE | 1409727.59 |\n| 5 | 1 | 05/03/2010 | 46.50 | 2.625 | NA | NA | NA | NA | NA | 211.3501 | 8.106 | FALSE | 1554806.68 |\n| 6 | 1 | 12/03/2010 | 57.79 | 2.667 | NA | NA | NA | NA | NA | 211.3806 | 8.106 | FALSE | 1439541.59 |\n\n",
            "text/html": [
              "<table>\n",
              "<caption>A data.frame: 6 × 13</caption>\n",
              "<thead>\n",
              "\t<tr><th></th><th scope=col>Store</th><th scope=col>Date</th><th scope=col>Temperature</th><th scope=col>Fuel_Price</th><th scope=col>MarkDown1</th><th scope=col>MarkDown2</th><th scope=col>MarkDown3</th><th scope=col>MarkDown4</th><th scope=col>MarkDown5</th><th scope=col>CPI</th><th scope=col>Unemployment</th><th scope=col>IsHoliday</th><th scope=col>Weekly_Sales</th></tr>\n",
              "\t<tr><th></th><th scope=col>&lt;int&gt;</th><th scope=col>&lt;chr&gt;</th><th scope=col>&lt;dbl&gt;</th><th scope=col>&lt;dbl&gt;</th><th scope=col>&lt;dbl&gt;</th><th scope=col>&lt;dbl&gt;</th><th scope=col>&lt;dbl&gt;</th><th scope=col>&lt;dbl&gt;</th><th scope=col>&lt;dbl&gt;</th><th scope=col>&lt;dbl&gt;</th><th scope=col>&lt;dbl&gt;</th><th scope=col>&lt;lgl&gt;</th><th scope=col>&lt;chr&gt;</th></tr>\n",
              "</thead>\n",
              "<tbody>\n",
              "\t<tr><th scope=row>1</th><td>1</td><td>05/02/2010</td><td>42.31</td><td>2.572</td><td>NA</td><td>NA</td><td>NA</td><td>NA</td><td>NA</td><td>211.0964</td><td>8.106</td><td>FALSE</td><td>1643690.9 </td></tr>\n",
              "\t<tr><th scope=row>2</th><td>1</td><td>12/02/2010</td><td>38.51</td><td>2.548</td><td>NA</td><td>NA</td><td>NA</td><td>NA</td><td>NA</td><td>211.2422</td><td>8.106</td><td> TRUE</td><td>1641957.44</td></tr>\n",
              "\t<tr><th scope=row>3</th><td>1</td><td>19/02/2010</td><td>39.93</td><td>2.514</td><td>NA</td><td>NA</td><td>NA</td><td>NA</td><td>NA</td><td>211.2891</td><td>8.106</td><td>FALSE</td><td>1611968.17</td></tr>\n",
              "\t<tr><th scope=row>4</th><td>1</td><td>26/02/2010</td><td>46.63</td><td>2.561</td><td>NA</td><td>NA</td><td>NA</td><td>NA</td><td>NA</td><td>211.3196</td><td>8.106</td><td>FALSE</td><td>1409727.59</td></tr>\n",
              "\t<tr><th scope=row>5</th><td>1</td><td>05/03/2010</td><td>46.50</td><td>2.625</td><td>NA</td><td>NA</td><td>NA</td><td>NA</td><td>NA</td><td>211.3501</td><td>8.106</td><td>FALSE</td><td>1554806.68</td></tr>\n",
              "\t<tr><th scope=row>6</th><td>1</td><td>12/03/2010</td><td>57.79</td><td>2.667</td><td>NA</td><td>NA</td><td>NA</td><td>NA</td><td>NA</td><td>211.3806</td><td>8.106</td><td>FALSE</td><td>1439541.59</td></tr>\n",
              "</tbody>\n",
              "</table>\n"
            ]
          },
          "metadata": {
            "tags": []
          }
        }
      ]
    },
    {
      "cell_type": "code",
      "metadata": {
        "id": "_6lg6vDe_h8E",
        "colab_type": "code",
        "outputId": "1f28663c-5c0d-443a-cae5-debc662e8de5",
        "colab": {
          "base_uri": "https://localhost:8080/",
          "height": 255
        }
      },
      "source": [
        "str(df)"
      ],
      "execution_count": 0,
      "outputs": [
        {
          "output_type": "stream",
          "text": [
            "'data.frame':\t8190 obs. of  13 variables:\n",
            " $ Store       : int  1 1 1 1 1 1 1 1 1 1 ...\n",
            " $ Date        : chr  \"05/02/2010\" \"12/02/2010\" \"19/02/2010\" \"26/02/2010\" ...\n",
            " $ Temperature : num  42.3 38.5 39.9 46.6 46.5 ...\n",
            " $ Fuel_Price  : num  2.57 2.55 2.51 2.56 2.62 ...\n",
            " $ MarkDown1   : num  NA NA NA NA NA NA NA NA NA NA ...\n",
            " $ MarkDown2   : num  NA NA NA NA NA NA NA NA NA NA ...\n",
            " $ MarkDown3   : num  NA NA NA NA NA NA NA NA NA NA ...\n",
            " $ MarkDown4   : num  NA NA NA NA NA NA NA NA NA NA ...\n",
            " $ MarkDown5   : num  NA NA NA NA NA NA NA NA NA NA ...\n",
            " $ CPI         : num  211 211 211 211 211 ...\n",
            " $ Unemployment: num  8.11 8.11 8.11 8.11 8.11 ...\n",
            " $ IsHoliday   : logi  FALSE TRUE FALSE FALSE FALSE FALSE ...\n",
            " $ Weekly_Sales: chr  \"1643690.9\" \"1641957.44\" \"1611968.17\" \"1409727.59\" ...\n"
          ],
          "name": "stdout"
        }
      ]
    },
    {
      "cell_type": "markdown",
      "metadata": {
        "id": "Yur1qmv4_h8I",
        "colab_type": "text"
      },
      "source": [
        "### A base de dados Retail apresenta informações sobre as vendas semanais de 45 lojas com os seguintes campos:\n",
        "\n",
        "**Store** - Identificação da loja <br>\n",
        "**Date** - Dia da apuração dos dados <br>\n",
        "**Temperature** - Temperatura na localidade da loja <br>\n",
        "**Fuel_Price** - Preço do galão de combustível na localidade <br>\n",
        "**MarkDown**(n) - Desconto promocional <br>\n",
        "**Unemployment** - Taxa de desemprego <br>\n",
        "**IsHoliday** - Se na semana houve feriado <br>\n",
        "**Weekly_Sales** - Somatório das vendas semanais na loja <br>\n"
      ]
    },
    {
      "cell_type": "code",
      "metadata": {
        "id": "rNZ2EYpew4ZN",
        "colab_type": "code",
        "outputId": "8028a58e-f614-4656-be36-3dd54abbf28e",
        "colab": {
          "base_uri": "https://localhost:8080/",
          "height": 561
        }
      },
      "source": [
        "summary(df)"
      ],
      "execution_count": 0,
      "outputs": [
        {
          "output_type": "display_data",
          "data": {
            "text/plain": [
              "     Store        Date            Temperature       Fuel_Price   \n",
              " Min.   : 1   Length:8190        Min.   : -7.29   Min.   :2.472  \n",
              " 1st Qu.:12   Class :character   1st Qu.: 45.90   1st Qu.:3.041  \n",
              " Median :23   Mode  :character   Median : 60.71   Median :3.513  \n",
              " Mean   :23                      Mean   : 59.36   Mean   :3.406  \n",
              " 3rd Qu.:34                      3rd Qu.: 73.88   3rd Qu.:3.743  \n",
              " Max.   :45                      Max.   :101.95   Max.   :4.468  \n",
              "                                                                 \n",
              "   MarkDown1        MarkDown2           MarkDown3           MarkDown4       \n",
              " Min.   : -2781   Min.   :  -265.76   Min.   :  -179.26   Min.   :    0.22  \n",
              " 1st Qu.:  1578   1st Qu.:    68.88   1st Qu.:     6.60   1st Qu.:  304.69  \n",
              " Median :  4744   Median :   364.57   Median :    36.26   Median : 1176.42  \n",
              " Mean   :  7032   Mean   :  3384.18   Mean   :  1760.10   Mean   : 3292.94  \n",
              " 3rd Qu.:  8923   3rd Qu.:  2153.35   3rd Qu.:   163.15   3rd Qu.: 3310.01  \n",
              " Max.   :103185   Max.   :104519.54   Max.   :149483.31   Max.   :67474.85  \n",
              " NA's   :4158     NA's   :5269        NA's   :4577        NA's   :4726      \n",
              "   MarkDown5             CPI         Unemployment    IsHoliday      \n",
              " Min.   :  -185.2   Min.   :126.1   Min.   : 3.684   Mode :logical  \n",
              " 1st Qu.:  1440.8   1st Qu.:132.4   1st Qu.: 6.634   FALSE:7605     \n",
              " Median :  2727.1   Median :182.8   Median : 7.806   TRUE :585      \n",
              " Mean   :  4132.2   Mean   :172.5   Mean   : 7.827                  \n",
              " 3rd Qu.:  4832.6   3rd Qu.:213.9   3rd Qu.: 8.567                  \n",
              " Max.   :771448.1   Max.   :229.0   Max.   :14.313                  \n",
              " NA's   :4140       NA's   :585     NA's   :585                     \n",
              " Weekly_Sales      \n",
              " Length:8190       \n",
              " Class :character  \n",
              " Mode  :character  \n",
              "                   \n",
              "                   \n",
              "                   \n",
              "                   "
            ]
          },
          "metadata": {
            "tags": []
          }
        }
      ]
    },
    {
      "cell_type": "markdown",
      "metadata": {
        "id": "uCNhMWFgwpIt",
        "colab_type": "text"
      },
      "source": [
        "### Outliers\n",
        "#####Podemos observar que as variáveis *MarkDown(n)* possuem distribuição assimétrica, dados faltantes, *outliers* e valores negativos. Existe um outlier proeminente na variável MarkDown5."
      ]
    },
    {
      "cell_type": "code",
      "metadata": {
        "id": "tlji_w-mHx20",
        "colab_type": "code",
        "outputId": "85ac963e-767a-416f-aff2-0eb3ab0fdbb7",
        "colab": {
          "base_uri": "https://localhost:8080/",
          "height": 917
        }
      },
      "source": [
        "options(repr.plot.width = 10, repr.plot.height = 15)\n",
        "par(mfrow = c(3, 2))\n",
        "boxplot(df$MarkDown1, main = \"MarkDown1\", col = \"blue\")\n",
        "boxplot(df$MarkDown2, main = \"MarkDown2\", col = \"blue\")\n",
        "boxplot(df$MarkDown3, main = \"MarkDown3\", col = \"blue\")\n",
        "boxplot(df$MarkDown4, main = \"MarkDown4\", col = \"blue\")\n",
        "boxplot(df$MarkDown5, main = \"MarkDown5\", col = \"blue\")\n",
        "par(mfrow = c(1, 1))"
      ],
      "execution_count": 0,
      "outputs": [
        {
          "output_type": "display_data",
          "data": {
            "image/png": "[encoded data removed]",
            "text/plain": [
              "Plot with title “MarkDown5”"
            ]
          },
          "metadata": {
            "tags": [],
            "image/png": {
              "width": 600,
              "height": 900
            },
            "text/plain": {
              "width": 600,
              "height": 900
            }
          }
        }
      ]
    },
    {
      "cell_type": "markdown",
      "metadata": {
        "id": "OQ1Nx2VcYxuj",
        "colab_type": "text"
      },
      "source": [
        "### Valores negativos nas Variáveis MarkDown(n)\n",
        "##### Existem 44 observações com valor negativo, numero relativamente pequeno se comparado ao tamanho da amostra."
      ]
    },
    {
      "cell_type": "code",
      "metadata": {
        "id": "cWzFLKvEFmK6",
        "colab_type": "code",
        "outputId": "2a7346ff-a99d-4c08-cb0c-315ed8ee4286",
        "colab": {
          "base_uri": "https://localhost:8080/",
          "height": 119
        }
      },
      "source": [
        "str(df %>% select(MarkDown1, MarkDown2, MarkDown3, MarkDown4, MarkDown5) %>%\n",
        "filter_all (any_vars(. < 0)))"
      ],
      "execution_count": 0,
      "outputs": [
        {
          "output_type": "stream",
          "text": [
            "'data.frame':\t44 obs. of  5 variables:\n",
            " $ MarkDown1: num  8807 1650 1631 9023 5510 ...\n",
            " $ MarkDown2: num  -10.5 -11 -35.7 927.3 33063.6 ...\n",
            " $ MarkDown3: num  5.99 2.31 15.46 170.24 -0.86 ...\n",
            " $ MarkDown4: num  739 1956 327 405 693 ...\n",
            " $ MarkDown5: num  4397 1205 2311 -185 3419 ...\n"
          ],
          "name": "stdout"
        }
      ]
    },
    {
      "cell_type": "markdown",
      "metadata": {
        "id": "lwOatK32ZOBV",
        "colab_type": "text"
      },
      "source": [
        "### Dados faltantes na variável Weekly_Sales\n",
        "##### Existem 1755 observações faltantes, valor expressivo comparado ao tamanho da amostra."
      ]
    },
    {
      "cell_type": "code",
      "metadata": {
        "id": "SmkW0-wpDYf4",
        "colab_type": "code",
        "outputId": "319e0471-1a33-4ae6-88ad-1cb063098c13",
        "colab": {
          "base_uri": "https://localhost:8080/",
          "height": 51
        }
      },
      "source": [
        "str(df %>% select(Weekly_Sales) %>% filter_all(any_vars(. == \"#N/D\")))"
      ],
      "execution_count": 0,
      "outputs": [
        {
          "output_type": "stream",
          "text": [
            "'data.frame':\t1755 obs. of  1 variable:\n",
            " $ Weekly_Sales: chr  \"#N/D\" \"#N/D\" \"#N/D\" \"#N/D\" ...\n"
          ],
          "name": "stdout"
        }
      ]
    },
    {
      "cell_type": "markdown",
      "metadata": {
        "id": "69nFDwfQ_h8J",
        "colab_type": "text"
      },
      "source": [
        "### Tratando os Dados"
      ]
    },
    {
      "cell_type": "markdown",
      "metadata": {
        "id": "m-c9_FovOp1B",
        "colab_type": "text"
      },
      "source": [
        "#####Testamos várias transformações nos dados e simulamos nos modelos buscando a melhor performance geral. O tratamento da base abaixo foi o que apresentou a melhor performance dentro da nossa capacidade computacional. A transformação da variável *Store* em factor, tornou o processamento muito mais pesado mas elevou o R-squared da Regressão Linear de 0.1312 para 0.6678 e afetou positivamente os modelos *Boosting e Rede Neural*, e negativamente o *Bagging e o Random Forest*. Notamos ainda que a escala de importância das variáveis também sofreu grande alteração com a tranformação do *Store* em factor mas apresentou dados coerentes com a realidade conforme veremos a seguir."
      ]
    },
    {
      "cell_type": "markdown",
      "metadata": {
        "id": "05tYl27hvzZ2",
        "colab_type": "text"
      },
      "source": [
        "##### Entendemos que a a variável Store é uma variável qualitativa de escala nominal e convertemos em tipo Factor."
      ]
    },
    {
      "cell_type": "code",
      "metadata": {
        "id": "cuwHd7cvvkc-",
        "colab_type": "code",
        "colab": {}
      },
      "source": [
        "df$Store <- as.factor(df$Store)"
      ],
      "execution_count": 0,
      "outputs": []
    },
    {
      "cell_type": "markdown",
      "metadata": {
        "id": "BA7vQ2nJMyCU",
        "colab_type": "text"
      },
      "source": [
        "##### Aplicaremos o formato numérico à variável alvo da nossa predição (que foi importada como tipo character).\n"
      ]
    },
    {
      "cell_type": "code",
      "metadata": {
        "id": "tbqQMBXpJOKv",
        "colab_type": "code",
        "colab": {}
      },
      "source": [
        "df$Weekly_Sales <- as.double(df$Weekly_Sales)"
      ],
      "execution_count": 0,
      "outputs": []
    },
    {
      "cell_type": "markdown",
      "metadata": {
        "id": "Vt2BCFC7k8wO",
        "colab_type": "text"
      },
      "source": [
        "##### Consideraremos que os NAs em Weekly_Sales significam que não houveram vendas naquela semana e substituiremos por 0(zero)."
      ]
    },
    {
      "cell_type": "code",
      "metadata": {
        "id": "C2ikSD9olWGp",
        "colab_type": "code",
        "colab": {}
      },
      "source": [
        "df$Weekly_Sales[is.na(df$Weekly_Sales)] <- 0"
      ],
      "execution_count": 0,
      "outputs": []
    },
    {
      "cell_type": "markdown",
      "metadata": {
        "id": "Rr3rdiyuqoI7",
        "colab_type": "text"
      },
      "source": [
        "##### Converteremos a variável **Date** para o formato semana. O novo formato transformará o dado em número da semana, começando do \"1\" para a primeira semana do ano até o numero \"53\" que representa a última semana. Optamos por esta transformação para adequar a medida do tempo ao intervalo de apuração das vendas (Weekly_Sales), que é semanal."
      ]
    },
    {
      "cell_type": "code",
      "metadata": {
        "id": "YtpmS-_L_h8N",
        "colab_type": "code",
        "colab": {}
      },
      "source": [
        "df$Date <- as.numeric(str_replace_all(df$Date, fixed(\"/\"), \"\"))\n",
        "df$Date <- dmy(df$Date)\n",
        "df$Date <- week(df$Date)"
      ],
      "execution_count": 0,
      "outputs": []
    },
    {
      "cell_type": "markdown",
      "metadata": {
        "id": "aRfXxXcoLkFi",
        "colab_type": "text"
      },
      "source": [
        "Consideraremos que os NAs das variáveis *MarkDown(n)* significam que não houve promoção e substituiremos todos por 0."
      ]
    },
    {
      "cell_type": "code",
      "metadata": {
        "id": "DHg5-PZe_h8T",
        "colab_type": "code",
        "colab": {}
      },
      "source": [
        "df$MarkDown1[is.na(df$MarkDown1)] <- 0\n",
        "df$MarkDown2[is.na(df$MarkDown2)] <- 0\n",
        "df$MarkDown3[is.na(df$MarkDown3)] <- 0\n",
        "df$MarkDown4[is.na(df$MarkDown4)] <- 0\n",
        "df$MarkDown5[is.na(df$MarkDown5)] <- 0"
      ],
      "execution_count": 0,
      "outputs": []
    },
    {
      "cell_type": "markdown",
      "metadata": {
        "id": "w-a5pWojL8ij",
        "colab_type": "text"
      },
      "source": [
        "##### Consideraremos que não existe promoção com valores negativos. Como existem apenas 44 observações vamos substituir por zero e considerar que não houve promoção."
      ]
    },
    {
      "cell_type": "code",
      "metadata": {
        "id": "ZvC22EPZRH6H",
        "colab_type": "code",
        "colab": {}
      },
      "source": [
        "df$MarkDown1[df$MarkDown1 < 0] <- 0\n",
        "df$MarkDown2[df$MarkDown2 < 0] <- 0\n",
        "df$MarkDown3[df$MarkDown3 < 0] <- 0\n",
        "df$MarkDown4[df$MarkDown4 < 0] <- 0\n",
        "df$MarkDown5[df$MarkDown5 < 0] <- 0"
      ],
      "execution_count": 0,
      "outputs": []
    },
    {
      "cell_type": "markdown",
      "metadata": {
        "id": "cnhTmYM4MYud",
        "colab_type": "text"
      },
      "source": [
        "##### Excluiremos as informações faltantes (NA)das variáveis CPI e Unemployment pois são apuradas por região e não seria prudente utilizarmos a média entre regiões diferentes, uma vez que não temos os dados da localização geográfica de cada Store. Cogitamos apurar a região dos Stores cruzando os dados da base com os do Governo Americano (que inferimos ser a localização dos Stores), mas devido ao curto prazo para a realização do trabalho, optamos por prosseguir sem esta informação."
      ]
    },
    {
      "cell_type": "code",
      "metadata": {
        "id": "jX8Grg9t_h8e",
        "colab_type": "code",
        "colab": {}
      },
      "source": [
        "df<-df[! is.na(df$CPI),]\n",
        "df<-df[! is.na(df$Unemployment ),]"
      ],
      "execution_count": 0,
      "outputs": []
    },
    {
      "cell_type": "markdown",
      "metadata": {
        "id": "_v-gUaLWOziK",
        "colab_type": "text"
      },
      "source": [
        "##### Excluiremos o outlier mais proeminente que ocorre na variável MarkDown5."
      ]
    },
    {
      "cell_type": "code",
      "metadata": {
        "id": "DNwJMCS3N9Di",
        "colab_type": "code",
        "colab": {}
      },
      "source": [
        " df<-df[! df$MarkDown5 == 771448.1,]"
      ],
      "execution_count": 0,
      "outputs": []
    },
    {
      "cell_type": "markdown",
      "metadata": {
        "id": "CTWVxUgMM3OK",
        "colab_type": "text"
      },
      "source": [
        "#### Base Tratada"
      ]
    },
    {
      "cell_type": "code",
      "metadata": {
        "id": "L-mIL4up_h8h",
        "colab_type": "code",
        "outputId": "f58b0a4b-1ecf-449b-bc46-01593b5f116e",
        "colab": {
          "base_uri": "https://localhost:8080/",
          "height": 272
        }
      },
      "source": [
        "glimpse(df)"
      ],
      "execution_count": 0,
      "outputs": [
        {
          "output_type": "stream",
          "text": [
            "Rows: 7,604\n",
            "Columns: 13\n",
            "$ Store        \u001b[3m\u001b[90m<fct>\u001b[39m\u001b[23m 1, 1, 1, 1, 1, 1, 1, 1, 1, 1, 1, 1, 1, 1, 1, 1, 1, 1, 1,…\n",
            "$ Date         \u001b[3m\u001b[90m<dbl>\u001b[39m\u001b[23m 6, 7, 8, 9, 10, 11, 12, 13, 14, 15, 16, 17, 18, 19, 20, …\n",
            "$ Temperature  \u001b[3m\u001b[90m<dbl>\u001b[39m\u001b[23m 42.31, 38.51, 39.93, 46.63, 46.50, 57.79, 54.58, 51.45, …\n",
            "$ Fuel_Price   \u001b[3m\u001b[90m<dbl>\u001b[39m\u001b[23m 2.572, 2.548, 2.514, 2.561, 2.625, 2.667, 2.720, 2.732, …\n",
            "$ MarkDown1    \u001b[3m\u001b[90m<dbl>\u001b[39m\u001b[23m 0, 0, 0, 0, 0, 0, 0, 0, 0, 0, 0, 0, 0, 0, 0, 0, 0, 0, 0,…\n",
            "$ MarkDown2    \u001b[3m\u001b[90m<dbl>\u001b[39m\u001b[23m 0, 0, 0, 0, 0, 0, 0, 0, 0, 0, 0, 0, 0, 0, 0, 0, 0, 0, 0,…\n",
            "$ MarkDown3    \u001b[3m\u001b[90m<dbl>\u001b[39m\u001b[23m 0, 0, 0, 0, 0, 0, 0, 0, 0, 0, 0, 0, 0, 0, 0, 0, 0, 0, 0,…\n",
            "$ MarkDown4    \u001b[3m\u001b[90m<dbl>\u001b[39m\u001b[23m 0, 0, 0, 0, 0, 0, 0, 0, 0, 0, 0, 0, 0, 0, 0, 0, 0, 0, 0,…\n",
            "$ MarkDown5    \u001b[3m\u001b[90m<dbl>\u001b[39m\u001b[23m 0, 0, 0, 0, 0, 0, 0, 0, 0, 0, 0, 0, 0, 0, 0, 0, 0, 0, 0,…\n",
            "$ CPI          \u001b[3m\u001b[90m<dbl>\u001b[39m\u001b[23m 211.0964, 211.2422, 211.2891, 211.3196, 211.3501, 211.38…\n",
            "$ Unemployment \u001b[3m\u001b[90m<dbl>\u001b[39m\u001b[23m 8.106, 8.106, 8.106, 8.106, 8.106, 8.106, 8.106, 8.106, …\n",
            "$ IsHoliday    \u001b[3m\u001b[90m<lgl>\u001b[39m\u001b[23m FALSE, TRUE, FALSE, FALSE, FALSE, FALSE, FALSE, FALSE, F…\n",
            "$ Weekly_Sales \u001b[3m\u001b[90m<dbl>\u001b[39m\u001b[23m 1643691, 1641957, 1611968, 1409728, 1554807, 1439542, 14…\n"
          ],
          "name": "stdout"
        }
      ]
    },
    {
      "cell_type": "code",
      "metadata": {
        "id": "R6XWh1oq_h8k",
        "colab_type": "code",
        "outputId": "a32265db-5a96-4eb3-fd34-3123b6977669",
        "colab": {
          "base_uri": "https://localhost:8080/",
          "height": 561
        }
      },
      "source": [
        "summary(df)"
      ],
      "execution_count": 0,
      "outputs": [
        {
          "output_type": "display_data",
          "data": {
            "text/plain": [
              "     Store           Date        Temperature       Fuel_Price   \n",
              " 1      : 169   Min.   : 1.00   Min.   : -7.29   Min.   :2.472  \n",
              " 2      : 169   1st Qu.:12.00   1st Qu.: 44.72   1st Qu.:3.001  \n",
              " 3      : 169   Median :25.00   Median : 59.25   Median :3.494  \n",
              " 4      : 169   Mean   :25.59   Mean   : 58.30   Mean   :3.390  \n",
              " 5      : 169   3rd Qu.:39.00   3rd Qu.: 72.62   3rd Qu.:3.742  \n",
              " 6      : 169   Max.   :53.00   Max.   :100.14   Max.   :4.468  \n",
              " (Other):6590                                                   \n",
              "   MarkDown1        MarkDown2           MarkDown3           MarkDown4    \n",
              " Min.   :     0   Min.   :     0.00   Min.   :     0.00   Min.   :    0  \n",
              " 1st Qu.:     0   1st Qu.:     0.00   1st Qu.:     0.00   1st Qu.:    0  \n",
              " Median :     0   Median :     0.00   Median :     0.00   Median :    0  \n",
              " Mean   :  3331   Mean   :  1257.86   Mean   :   822.06   Mean   : 1310  \n",
              " 3rd Qu.:  4164   3rd Qu.:    42.08   3rd Qu.:    14.61   3rd Qu.:  562  \n",
              " Max.   :103185   Max.   :104519.54   Max.   :149483.31   Max.   :67475  \n",
              "                                                                         \n",
              "   MarkDown5           CPI         Unemployment    IsHoliday      \n",
              " Min.   :     0   Min.   :126.1   Min.   : 3.684   Mode :logical  \n",
              " 1st Qu.:     0   1st Qu.:132.4   1st Qu.: 6.634   FALSE:7019     \n",
              " Median :     0   Median :182.8   Median : 7.806   TRUE :585      \n",
              " Mean   :  1839   Mean   :172.5   Mean   : 7.827                  \n",
              " 3rd Qu.:  2511   3rd Qu.:213.9   3rd Qu.: 8.567                  \n",
              " Max.   :108519   Max.   :229.0   Max.   :14.313                  \n",
              "                                                                  \n",
              "  Weekly_Sales    \n",
              " Min.   :      0  \n",
              " 1st Qu.: 408878  \n",
              " Median : 822944  \n",
              " Mean   : 886010  \n",
              " 3rd Qu.:1345605  \n",
              " Max.   :3818686  \n",
              "                  "
            ]
          },
          "metadata": {
            "tags": []
          }
        }
      ]
    },
    {
      "cell_type": "markdown",
      "metadata": {
        "id": "xSZGGV8fTZFG",
        "colab_type": "text"
      },
      "source": [
        "##### A análise do BoxPlot ainda aponta para muitos valores anômalos, que também são produto da transformação dos NAs em 0 (zero), que modificou a posição da mediana e afetou toda a distribuição da variável *MarkDown(n)* Decidimos prosseguir com o estudo sem remover estes *Outliers* até entendermos melhor o quanto o seu comportamento afeta o resultado dos modelos."
      ]
    },
    {
      "cell_type": "code",
      "metadata": {
        "id": "GvONjEl48xbz",
        "colab_type": "code",
        "outputId": "6ed050de-3a68-466d-b618-d0076e1eebe8",
        "colab": {
          "base_uri": "https://localhost:8080/",
          "height": 917
        }
      },
      "source": [
        "options(repr.plot.width = 10, repr.plot.height = 15)\n",
        "par(mfrow = c(3, 2))\n",
        "boxplot(df$MarkDown1, main = \"MarkDown1\", col = \"blue\")\n",
        "boxplot(df$MarkDown2, main = \"MarkDown2\", col = \"blue\")\n",
        "boxplot(df$MarkDown3, main = \"MarkDown3\", col = \"blue\")\n",
        "boxplot(df$MarkDown4, main = \"MarkDown4\", col = \"blue\")\n",
        "boxplot(df$MarkDown5, main = \"MarkDown5\", col = \"blue\")\n",
        "par(mfrow = c(1, 1))"
      ],
      "execution_count": 0,
      "outputs": [
        {
          "output_type": "display_data",
          "data": {
            "image/png": "[encoded data removed]",
            "text/plain": [
              "Plot with title “MarkDown5”"
            ]
          },
          "metadata": {
            "tags": [],
            "image/png": {
              "width": 600,
              "height": 900
            },
            "text/plain": {
              "width": 600,
              "height": 900
            }
          }
        }
      ]
    },
    {
      "cell_type": "markdown",
      "metadata": {
        "id": "wCoFcZi9_h8m",
        "colab_type": "text"
      },
      "source": [
        "### Modelos para previsão das vendas\n",
        "\n"
      ]
    },
    {
      "cell_type": "markdown",
      "metadata": {
        "id": "1J6BMm5E_h8n",
        "colab_type": "text"
      },
      "source": [
        "### Criando as partições de treino e teste"
      ]
    },
    {
      "cell_type": "code",
      "metadata": {
        "id": "BYRbWvWK_h8n",
        "colab_type": "code",
        "colab": {}
      },
      "source": [
        "set.seed(314)\n",
        "trainIndex <- createDataPartition(df$Weekly_Sales, p = .7, list = FALSE)\n",
        "df_train <- df[trainIndex,]\n",
        "df_test <- df[-trainIndex,]"
      ],
      "execution_count": 0,
      "outputs": []
    },
    {
      "cell_type": "markdown",
      "metadata": {
        "id": "54SV_f4x_h8q",
        "colab_type": "text"
      },
      "source": [
        "### Modelo de Regressão Linear Múltipla"
      ]
    },
    {
      "cell_type": "code",
      "metadata": {
        "id": "xaU_bgh__h8r",
        "colab_type": "code",
        "outputId": "1d38ffc9-0968-4bc0-cbb7-ad7ad2177d34",
        "colab": {
          "base_uri": "https://localhost:8080/",
          "height": 255
        }
      },
      "source": [
        "set.seed(314)\n",
        "lm <- train(Weekly_Sales ~ ., data = df_train, method = \"lm\")\n",
        "lm"
      ],
      "execution_count": 0,
      "outputs": [
        {
          "output_type": "display_data",
          "data": {
            "text/plain": [
              "Linear Regression \n",
              "\n",
              "5324 samples\n",
              "  12 predictor\n",
              "\n",
              "No pre-processing\n",
              "Resampling: Bootstrapped (25 reps) \n",
              "Summary of sample sizes: 5324, 5324, 5324, 5324, 5324, 5324, ... \n",
              "Resampling results:\n",
              "\n",
              "  RMSE      Rsquared   MAE     \n",
              "  368543.8  0.6678091  254486.3\n",
              "\n",
              "Tuning parameter 'intercept' was held constant at a value of TRUE"
            ]
          },
          "metadata": {
            "tags": []
          }
        }
      ]
    },
    {
      "cell_type": "markdown",
      "metadata": {
        "id": "kIuSWT7z_h8x",
        "colab_type": "text"
      },
      "source": [
        "#### Neste modelo de regressão linear, o R-squared apresentou 0.6678086 um resultado razoável. "
      ]
    },
    {
      "cell_type": "code",
      "metadata": {
        "id": "WG3Is6BW_h8y",
        "colab_type": "code",
        "colab": {}
      },
      "source": [
        "# Score do modelo\n",
        "lm_pred <- predict(lm, newdata = df_test)"
      ],
      "execution_count": 0,
      "outputs": []
    },
    {
      "cell_type": "markdown",
      "metadata": {
        "id": "abo-9Lgy_h82",
        "colab_type": "text"
      },
      "source": [
        "### Modelos de Àrvore de Decisão"
      ]
    },
    {
      "cell_type": "markdown",
      "metadata": {
        "id": "U8xRy8F6_h82",
        "colab_type": "text"
      },
      "source": [
        "#### Utilizaremos os modelos de Boosting, Bagging e Random Forest"
      ]
    },
    {
      "cell_type": "markdown",
      "metadata": {
        "id": "Vlxw41q7_h83",
        "colab_type": "text"
      },
      "source": [
        "### Boosting"
      ]
    },
    {
      "cell_type": "code",
      "metadata": {
        "id": "KEqPfi4F_h83",
        "colab_type": "code",
        "colab": {}
      },
      "source": [
        "# Parametrizando o Cross Validation\n",
        "set.seed(314)\n",
        "cv <- trainControl(method = \"repeatedcv\", number = 10, savePredictions = TRUE, classProbs=TRUE)"
      ],
      "execution_count": 0,
      "outputs": []
    },
    {
      "cell_type": "code",
      "metadata": {
        "id": "hYoOvsiy_h86",
        "colab_type": "code",
        "outputId": "ec4f7845-88c4-4c01-d12a-b7040832a197",
        "colab": {
          "base_uri": "https://localhost:8080/",
          "height": 1000
        }
      },
      "source": [
        "# Treinando Modelo\n",
        "set.seed(314)\n",
        "boosting <- train(Weekly_Sales ~ . , data = df_train, method = \"xgbTree\", trControl = cv)\n",
        "boosting"
      ],
      "execution_count": 0,
      "outputs": [
        {
          "output_type": "display_data",
          "data": {
            "text/plain": [
              "eXtreme Gradient Boosting \n",
              "\n",
              "5324 samples\n",
              "  12 predictor\n",
              "\n",
              "No pre-processing\n",
              "Resampling: Cross-Validated (10 fold, repeated 1 times) \n",
              "Summary of sample sizes: 4792, 4792, 4791, 4792, 4792, 4791, ... \n",
              "Resampling results across tuning parameters:\n",
              "\n",
              "  eta  max_depth  colsample_bytree  subsample  nrounds  RMSE      Rsquared \n",
              "  0.3  1          0.6               0.50        50      466537.6  0.5280045\n",
              "  0.3  1          0.6               0.50       100      410157.3  0.6164431\n",
              "  0.3  1          0.6               0.50       150      385774.5  0.6507458\n",
              "  0.3  1          0.6               0.75        50      468672.5  0.5349220\n",
              "  0.3  1          0.6               0.75       100      413367.2  0.6199815\n",
              "  0.3  1          0.6               0.75       150      385895.3  0.6546197\n",
              "  0.3  1          0.6               1.00        50      470575.1  0.5428449\n",
              "  0.3  1          0.6               1.00       100      416403.2  0.6251969\n",
              "  0.3  1          0.6               1.00       150      388294.1  0.6591490\n",
              "  0.3  1          0.8               0.50        50      465371.4  0.5286806\n",
              "  0.3  1          0.8               0.50       100      412233.1  0.6115163\n",
              "  0.3  1          0.8               0.50       150      387095.5  0.6479029\n",
              "  0.3  1          0.8               0.75        50      467369.7  0.5385197\n",
              "  0.3  1          0.8               0.75       100      412384.6  0.6230223\n",
              "  0.3  1          0.8               0.75       150      385722.6  0.6549031\n",
              "  0.3  1          0.8               1.00        50      470486.5  0.5444435\n",
              "  0.3  1          0.8               1.00       100      415664.8  0.6280184\n",
              "  0.3  1          0.8               1.00       150      387693.4  0.6615376\n",
              "  0.3  2          0.6               0.50        50      349765.8  0.7351092\n",
              "  0.3  2          0.6               0.50       100      280538.4  0.8203986\n",
              "  0.3  2          0.6               0.50       150      248626.8  0.8545344\n",
              "  0.3  2          0.6               0.75        50      353423.5  0.7340307\n",
              "  0.3  2          0.6               0.75       100      281657.5  0.8205945\n",
              "  0.3  2          0.6               0.75       150      245988.0  0.8589184\n",
              "  0.3  2          0.6               1.00        50      353986.4  0.7357093\n",
              "  0.3  2          0.6               1.00       100      287463.4  0.8154043\n",
              "  0.3  2          0.6               1.00       150      250589.7  0.8553268\n",
              "  0.3  2          0.8               0.50        50      345200.5  0.7429287\n",
              "  0.3  2          0.8               0.50       100      276971.1  0.8238376\n",
              "  0.3  2          0.8               0.50       150      241963.2  0.8621093\n",
              "  0.3  2          0.8               0.75        50      344113.9  0.7519613\n",
              "  0.3  2          0.8               0.75       100      269618.1  0.8385493\n",
              "  0.3  2          0.8               0.75       150      234986.4  0.8721796\n",
              "  0.3  2          0.8               1.00        50      347964.1  0.7499217\n",
              "  0.3  2          0.8               1.00       100      278954.1  0.8282898\n",
              "  0.3  2          0.8               1.00       150      243499.2  0.8643156\n",
              "  0.3  3          0.6               0.50        50      291174.8  0.8108947\n",
              "  0.3  3          0.6               0.50       100      227457.6  0.8778225\n",
              "  0.3  3          0.6               0.50       150      202429.8  0.9011170\n",
              "  0.3  3          0.6               0.75        50      283696.8  0.8240485\n",
              "  0.3  3          0.6               0.75       100      217721.1  0.8889502\n",
              "  0.3  3          0.6               0.75       150      190763.8  0.9125811\n",
              "  0.3  3          0.6               1.00        50      291812.3  0.8152315\n",
              "  0.3  3          0.6               1.00       100      226666.3  0.8811926\n",
              "  0.3  3          0.6               1.00       150      194078.1  0.9104389\n",
              "  0.3  3          0.8               0.50        50      274597.8  0.8333428\n",
              "  0.3  3          0.8               0.50       100      212516.1  0.8939186\n",
              "  0.3  3          0.8               0.50       150      188135.3  0.9149218\n",
              "  0.3  3          0.8               0.75        50      272730.7  0.8374658\n",
              "  0.3  3          0.8               0.75       100      206834.9  0.9000758\n",
              "  0.3  3          0.8               0.75       150      177270.9  0.9246334\n",
              "  0.3  3          0.8               1.00        50      280993.9  0.8305525\n",
              "  0.3  3          0.8               1.00       100      216484.0  0.8911642\n",
              "  0.3  3          0.8               1.00       150      187673.1  0.9157351\n",
              "  0.4  1          0.6               0.50        50      441555.2  0.5660551\n",
              "  0.4  1          0.6               0.50       100      391609.8  0.6390441\n",
              "  0.4  1          0.6               0.50       150      369012.2  0.6745709\n",
              "  0.4  1          0.6               0.75        50      442032.0  0.5742623\n",
              "  0.4  1          0.6               0.75       100      391128.9  0.6459042\n",
              "  0.4  1          0.6               0.75       150      367637.6  0.6795201\n",
              "  0.4  1          0.6               1.00        50      444919.8  0.5770836\n",
              "  0.4  1          0.6               1.00       100      392024.0  0.6515363\n",
              "  0.4  1          0.6               1.00       150      369042.7  0.6819239\n",
              "  0.4  1          0.8               0.50        50      440259.0  0.5674329\n",
              "  0.4  1          0.8               0.50       100      392385.8  0.6361193\n",
              "  0.4  1          0.8               0.50       150      369265.9  0.6722329\n",
              "  0.4  1          0.8               0.75        50      441930.7  0.5769069\n",
              "  0.4  1          0.8               0.75       100      389997.1  0.6469894\n",
              "  0.4  1          0.8               0.75       150      367231.2  0.6806685\n",
              "  0.4  1          0.8               1.00        50      445864.5  0.5762303\n",
              "  0.4  1          0.8               1.00       100      391792.8  0.6531173\n",
              "  0.4  1          0.8               1.00       150      368855.3  0.6829388\n",
              "  0.4  2          0.6               0.50        50      328111.9  0.7517731\n",
              "  0.4  2          0.6               0.50       100      267418.8  0.8285063\n",
              "  0.4  2          0.6               0.50       150      237264.4  0.8640144\n",
              "  0.4  2          0.6               0.75        50      324368.7  0.7616569\n",
              "  0.4  2          0.6               0.75       100      260651.1  0.8398457\n",
              "  0.4  2          0.6               0.75       150      231359.3  0.8715545\n",
              "  0.4  2          0.6               1.00        50      329888.8  0.7578773\n",
              "  0.4  2          0.6               1.00       100      261948.8  0.8410324\n",
              "  0.4  2          0.6               1.00       150      229268.7  0.8748339\n",
              "  0.4  2          0.8               0.50        50      311309.1  0.7825420\n",
              "  0.4  2          0.8               0.50       100      252414.8  0.8485787\n",
              "  0.4  2          0.8               0.50       150      231143.8  0.8705299\n",
              "  0.4  2          0.8               0.75        50      309679.1  0.7869771\n",
              "  0.4  2          0.8               0.75       100      243263.9  0.8614287\n",
              "  0.4  2          0.8               0.75       150      216851.7  0.8872720\n",
              "  0.4  2          0.8               1.00        50      318960.1  0.7745537\n",
              "  0.4  2          0.8               1.00       100      250578.2  0.8543840\n",
              "  0.4  2          0.8               1.00       150      222013.1  0.8823730\n",
              "  0.4  3          0.6               0.50        50      263541.6  0.8375467\n",
              "  0.4  3          0.6               0.50       100      214898.0  0.8875731\n",
              "  0.4  3          0.6               0.50       150      198814.6  0.9028559\n",
              "  0.4  3          0.6               0.75        50      260006.5  0.8424629\n",
              "  0.4  3          0.6               0.75       100      207253.5  0.8953947\n",
              "  0.4  3          0.6               0.75       150      187544.4  0.9134891\n",
              "  0.4  3          0.6               1.00        50      262357.5  0.8422817\n",
              "  0.4  3          0.6               1.00       100      202654.2  0.9015115\n",
              "  0.4  3          0.6               1.00       150      180802.3  0.9205785\n",
              "  0.4  3          0.8               0.50        50      250295.0  0.8526144\n",
              "  0.4  3          0.8               0.50       100      201435.3  0.9011818\n",
              "  0.4  3          0.8               0.50       150      184238.3  0.9168262\n",
              "  0.4  3          0.8               0.75        50      245390.3  0.8620225\n",
              "  0.4  3          0.8               0.75       100      191060.5  0.9123219\n",
              "  0.4  3          0.8               0.75       150      171116.2  0.9287340\n",
              "  0.4  3          0.8               1.00        50      256901.2  0.8500837\n",
              "  0.4  3          0.8               1.00       100      195216.3  0.9085503\n",
              "  0.4  3          0.8               1.00       150      172086.9  0.9281087\n",
              "  MAE     \n",
              "  381884.0\n",
              "  314340.5\n",
              "  284832.1\n",
              "  385537.3\n",
              "  318816.6\n",
              "  284858.7\n",
              "  387867.7\n",
              "  323101.7\n",
              "  289141.3\n",
              "  381785.2\n",
              "  316266.9\n",
              "  285600.2\n",
              "  384121.0\n",
              "  319068.5\n",
              "  284220.8\n",
              "  387854.8\n",
              "  322851.1\n",
              "  288558.0\n",
              "  268376.3\n",
              "  202377.6\n",
              "  175217.1\n",
              "  269983.9\n",
              "  200592.6\n",
              "  171338.4\n",
              "  271492.8\n",
              "  204453.0\n",
              "  173902.9\n",
              "  261825.2\n",
              "  197502.4\n",
              "  167795.7\n",
              "  264164.9\n",
              "  194045.4\n",
              "  164430.2\n",
              "  266680.9\n",
              "  198643.8\n",
              "  167077.1\n",
              "  211284.8\n",
              "  156272.4\n",
              "  137065.0\n",
              "  206881.2\n",
              "  149489.4\n",
              "  128062.7\n",
              "  210938.5\n",
              "  153621.0\n",
              "  129191.2\n",
              "  201403.9\n",
              "  147733.0\n",
              "  129095.6\n",
              "  198961.6\n",
              "  143228.4\n",
              "  120427.5\n",
              "  203373.6\n",
              "  145841.5\n",
              "  123699.0\n",
              "  352397.5\n",
              "  289842.6\n",
              "  264587.3\n",
              "  353379.7\n",
              "  291312.4\n",
              "  264203.6\n",
              "  356148.9\n",
              "  293327.5\n",
              "  265633.8\n",
              "  351792.2\n",
              "  290528.2\n",
              "  264594.9\n",
              "  353151.0\n",
              "  290133.7\n",
              "  264005.9\n",
              "  356479.5\n",
              "  293359.7\n",
              "  266175.0\n",
              "  241778.6\n",
              "  186986.3\n",
              "  163790.1\n",
              "  238034.9\n",
              "  181692.7\n",
              "  158365.0\n",
              "  242146.6\n",
              "  183565.4\n",
              "  157344.7\n",
              "  230606.9\n",
              "  177645.6\n",
              "  158980.9\n",
              "  226581.7\n",
              "  169795.6\n",
              "  148011.6\n",
              "  233998.4\n",
              "  174726.6\n",
              "  150227.3\n",
              "  184672.7\n",
              "  144413.4\n",
              "  131265.7\n",
              "  181559.4\n",
              "  138339.5\n",
              "  123024.4\n",
              "  182428.5\n",
              "  134066.1\n",
              "  118800.5\n",
              "  178314.8\n",
              "  137648.4\n",
              "  125153.2\n",
              "  173188.8\n",
              "  129712.4\n",
              "  115316.4\n",
              "  177722.2\n",
              "  129803.4\n",
              "  112594.4\n",
              "\n",
              "Tuning parameter 'gamma' was held constant at a value of 0\n",
              "Tuning\n",
              " parameter 'min_child_weight' was held constant at a value of 1\n",
              "RMSE was used to select the optimal model using the smallest value.\n",
              "The final values used for the model were nrounds = 150, max_depth = 3, eta\n",
              " = 0.4, gamma = 0, colsample_bytree = 0.8, min_child_weight = 1 and subsample\n",
              " = 0.75."
            ]
          },
          "metadata": {
            "tags": []
          }
        }
      ]
    },
    {
      "cell_type": "markdown",
      "metadata": {
        "id": "9Mz--Elz_h88",
        "colab_type": "text"
      },
      "source": [
        "#### No modelo Boosting atingimos um R-Squared de 0.9287340."
      ]
    },
    {
      "cell_type": "code",
      "metadata": {
        "id": "4bLZQhzZ_h8-",
        "colab_type": "code",
        "colab": {}
      },
      "source": [
        "# Score do Modelo\n",
        "boosting_pred <- predict(boosting, newdata = df_test)"
      ],
      "execution_count": 0,
      "outputs": []
    },
    {
      "cell_type": "markdown",
      "metadata": {
        "id": "RFe_99M-_h9B",
        "colab_type": "text"
      },
      "source": [
        "### Bagging"
      ]
    },
    {
      "cell_type": "code",
      "metadata": {
        "id": "aXwRpXil_h9C",
        "colab_type": "code",
        "outputId": "cf5b2d98-69c6-4679-9d24-c574ebfe427e",
        "colab": {
          "base_uri": "https://localhost:8080/",
          "height": 221
        }
      },
      "source": [
        "# Treinando o Modelo\n",
        "set.seed(314)\n",
        "bagging <- train(Weekly_Sales ~ . , data = df_train, method = \"treebag\", trControl = cv)\n",
        "bagging"
      ],
      "execution_count": 0,
      "outputs": [
        {
          "output_type": "display_data",
          "data": {
            "text/plain": [
              "Bagged CART \n",
              "\n",
              "5324 samples\n",
              "  12 predictor\n",
              "\n",
              "No pre-processing\n",
              "Resampling: Cross-Validated (10 fold, repeated 1 times) \n",
              "Summary of sample sizes: 4792, 4792, 4791, 4792, 4792, 4791, ... \n",
              "Resampling results:\n",
              "\n",
              "  RMSE      Rsquared   MAE   \n",
              "  405634.6  0.6004185  322954\n"
            ]
          },
          "metadata": {
            "tags": []
          }
        }
      ]
    },
    {
      "cell_type": "code",
      "metadata": {
        "id": "_fSoiAwS_h9F",
        "colab_type": "code",
        "colab": {}
      },
      "source": [
        "# Score do Modelo\n",
        "bagging_pred <- predict(bagging, newdata = df_test)"
      ],
      "execution_count": 0,
      "outputs": []
    },
    {
      "cell_type": "markdown",
      "metadata": {
        "id": "Nfmu9DWI_h9I",
        "colab_type": "text"
      },
      "source": [
        "### Random Forest"
      ]
    },
    {
      "cell_type": "code",
      "metadata": {
        "id": "TdQYKYcG_h9I",
        "colab_type": "code",
        "outputId": "e4a81c86-3fec-4ba1-d8d0-6bc9fcbbbd28",
        "colab": {
          "base_uri": "https://localhost:8080/",
          "height": 306
        }
      },
      "source": [
        "# Treinando Modelo\n",
        "set.seed(314)\n",
        "rf <- train(Weekly_Sales ~ . , data = df_train, method = \"rf\", trControl = cv)\n",
        "rf"
      ],
      "execution_count": 0,
      "outputs": [
        {
          "output_type": "display_data",
          "data": {
            "text/plain": [
              "Random Forest \n",
              "\n",
              "5324 samples\n",
              "  12 predictor\n",
              "\n",
              "No pre-processing\n",
              "Resampling: Cross-Validated (10 fold, repeated 1 times) \n",
              "Summary of sample sizes: 4792, 4792, 4791, 4792, 4792, 4791, ... \n",
              "Resampling results across tuning parameters:\n",
              "\n",
              "  mtry  RMSE      Rsquared   MAE     \n",
              "   2    431904.1  0.7281320  349507.6\n",
              "  28    210793.4  0.8952530  125272.6\n",
              "  55    203951.2  0.8997549  114483.6\n",
              "\n",
              "RMSE was used to select the optimal model using the smallest value.\n",
              "The final value used for the model was mtry = 55."
            ]
          },
          "metadata": {
            "tags": []
          }
        }
      ]
    },
    {
      "cell_type": "markdown",
      "metadata": {
        "id": "swKfWaIA_h9K",
        "colab_type": "text"
      },
      "source": [
        "#### Obtivemos um R-Squared de 0.8997549.\n"
      ]
    },
    {
      "cell_type": "code",
      "metadata": {
        "id": "wiEmx5bO_h9L",
        "colab_type": "code",
        "colab": {}
      },
      "source": [
        "# Score do Modelo\n",
        "rf_pred <- predict(rf, newdata = df_test, type=\"raw\")"
      ],
      "execution_count": 0,
      "outputs": []
    },
    {
      "cell_type": "markdown",
      "metadata": {
        "id": "B1k8bMHi_h9P",
        "colab_type": "text"
      },
      "source": [
        "### Redes Neurais"
      ]
    },
    {
      "cell_type": "code",
      "metadata": {
        "id": "UgWHRXMq_h9P",
        "colab_type": "code",
        "outputId": "1466812c-888d-4f3b-cf47-233bd491ebea",
        "colab": {
          "base_uri": "https://localhost:8080/",
          "height": 357
        }
      },
      "source": [
        "# Treinando o Modelo\n",
        "options(warn=-1)\n",
        "set.seed(314)\n",
        "p.grid <- expand.grid(.decay=c(0.5, 0.1), .size=c(10,11,12))\n",
        "rn <- train(Weekly_Sales ~ ., \n",
        "                 data = df_train, \n",
        "                 method='nnet', \n",
        "                 trace = FALSE,\n",
        "                 maxit = 1000,\n",
        "                 skip = TRUE,\n",
        "                 linout = TRUE,\n",
        "                 tuneGrid = p.grid)\n",
        "rn"
      ],
      "execution_count": 0,
      "outputs": [
        {
          "output_type": "display_data",
          "data": {
            "text/plain": [
              "Neural Network \n",
              "\n",
              "5324 samples\n",
              "  12 predictor\n",
              "\n",
              "No pre-processing\n",
              "Resampling: Bootstrapped (25 reps) \n",
              "Summary of sample sizes: 5324, 5324, 5324, 5324, 5324, 5324, ... \n",
              "Resampling results across tuning parameters:\n",
              "\n",
              "  decay  size  RMSE      Rsquared   MAE     \n",
              "  0.1    10    369101.7  0.6665851  243748.3\n",
              "  0.1    11    365666.6  0.6728030  242409.0\n",
              "  0.1    12    367443.6  0.6697018  242775.0\n",
              "  0.5    10    373379.6  0.6593782  245118.0\n",
              "  0.5    11    375846.8  0.6551118  247748.9\n",
              "  0.5    12    376193.2  0.6548479  248387.0\n",
              "\n",
              "RMSE was used to select the optimal model using the smallest value.\n",
              "The final values used for the model were size = 11 and decay = 0.1."
            ]
          },
          "metadata": {
            "tags": []
          }
        }
      ]
    },
    {
      "cell_type": "markdown",
      "metadata": {
        "id": "RJ5pORPN_h9S",
        "colab_type": "text"
      },
      "source": [
        "#### Melhor R-Squared foi de 0.6728030."
      ]
    },
    {
      "cell_type": "code",
      "metadata": {
        "id": "RO0wz4Pc_h9S",
        "colab_type": "code",
        "colab": {}
      },
      "source": [
        "# Score do Modelo\n",
        "rn_pred <- predict(rn, newdata = df_test, type = \"raw\")"
      ],
      "execution_count": 0,
      "outputs": []
    },
    {
      "cell_type": "markdown",
      "metadata": {
        "id": "tLxOLflB_h9V",
        "colab_type": "text"
      },
      "source": [
        "## Comparando os Modelos"
      ]
    },
    {
      "cell_type": "markdown",
      "metadata": {
        "id": "X_3cn3_pZ07h",
        "colab_type": "text"
      },
      "source": [
        "##### Todos os modelos apresentaram as mesmas variáveis na ordem de importância até o oitavo termo. A ordem de importância se mostrou coerente com a dinâmica do varejo, apresentando variáveis que realmente podem influenciar o volume de vendas e a formação de preços."
      ]
    },
    {
      "cell_type": "code",
      "metadata": {
        "id": "KNz9PA4L_h9Y",
        "colab_type": "code",
        "colab": {}
      },
      "source": [
        "imp_lm <- varImp(lm, useModel = FALSE, scale = FALSE)\n",
        "imp_boosting <- varImp(boosting, useModel = FALSE, scale = FALSE)\n",
        "imp_bagging <- varImp(bagging, useModel = FALSE, scale = FALSE)\n",
        "imp_rf <- varImp(rf, useModel = FALSE, scale = FALSE)\n",
        "imp_rn <- varImp(rn, useModel = FALSE, scale = FALSE)"
      ],
      "execution_count": 0,
      "outputs": []
    },
    {
      "cell_type": "code",
      "metadata": {
        "id": "pw1cDI9W_h9b",
        "colab_type": "code",
        "outputId": "966c7f8e-5312-46c9-ef54-5c9ecfd66841",
        "colab": {
          "base_uri": "https://localhost:8080/",
          "height": 737
        }
      },
      "source": [
        "options(repr.plot.width = 12, repr.plot.height = 12)\n",
        "imp1 <- plot(imp_lm, main = \"LM\")\n",
        "imp2 <- plot(imp_boosting, main = \"Boosting\")\n",
        "imp3 <- plot(imp_bagging, main = \"Bagging\")\n",
        "imp4 <- plot(imp_rf, main = \"Random Forest\")\n",
        "imp5<- plot(imp_rn, main = \"Neural Network\")\n",
        "grid.arrange(imp1, imp2, imp3, imp4,imp5, ncol = 2)"
      ],
      "execution_count": 0,
      "outputs": [
        {
          "output_type": "display_data",
          "data": {
            "image/png": "[encoded data removed]",
            "text/plain": [
              "plot without title"
            ]
          },
          "metadata": {
            "tags": [],
            "image/png": {
              "width": 720,
              "height": 720
            },
            "text/plain": {
              "width": 720,
              "height": 720
            }
          }
        }
      ]
    },
    {
      "cell_type": "markdown",
      "metadata": {
        "id": "EJV-CZoq_h9f",
        "colab_type": "text"
      },
      "source": [
        "### Comparativo R-Squared"
      ]
    },
    {
      "cell_type": "markdown",
      "metadata": {
        "id": "2xzJotEkzzt8",
        "colab_type": "text"
      },
      "source": [
        "#####Obtivemos a melhor performance com o modelo Boosting, apresentando R-squared de 0.928734 com o menor tempo de processamento que o Random Forest e a Rede Neural."
      ]
    },
    {
      "cell_type": "code",
      "metadata": {
        "id": "odUi75_O2O_I",
        "colab_type": "code",
        "outputId": "a02595bf-ca2e-4d1b-eddc-86ea252c5789",
        "colab": {
          "base_uri": "https://localhost:8080/",
          "height": 102
        }
      },
      "source": [
        "r2s <- data.frame(\"LM\" = max(lm$results$Rsquared),\n",
        "                             \"Boosting\" = max(boosting$results$Rsquared),\n",
        "                             \"Bagging\" = max(bagging$results$Rsquared),\n",
        "                             \"Random_Forest\" = max(rf$results$Rsquared),\n",
        "                             \"Rede_Neural\" = max(rn$results$Rsquared))\n",
        "rownames(r2s) <- (\"R-Squared\")\n",
        "r2s %>% head() %>% knitr::kable()"
      ],
      "execution_count": 0,
      "outputs": [
        {
          "output_type": "display_data",
          "data": {
            "text/plain": [
              "\n",
              "\n",
              "|          |        LM| Boosting|   Bagging| Random_Forest| Rede_Neural|\n",
              "|:---------|---------:|--------:|---------:|-------------:|-----------:|\n",
              "|R-Squared | 0.6678091| 0.928734| 0.6004185|     0.8997549|    0.672803|"
            ]
          },
          "metadata": {
            "tags": []
          }
        }
      ]
    },
    {
      "cell_type": "markdown",
      "metadata": {
        "id": "gl1JDrPDX0s8",
        "colab_type": "text"
      },
      "source": [
        "###Considerações sobre os modelos para predição das vendas\n",
        "\n",
        "\n"
      ]
    },
    {
      "cell_type": "markdown",
      "metadata": {
        "id": "Qa5VYAFOjQMb",
        "colab_type": "text"
      },
      "source": [
        "##### Neste projeto o maior desafio foi entender e praticar o tratamento adequado à base de dados, preservando a coerência relativa ao negócio e inferindo acerca de informações não disponibilizadas na base. Ao inferirmos que o mix de marketing (preço, produto, praça e promoção) estava implícitamente contido na variável *Store* e transformando a mesma em Factor, conseguimos gerar bons resultados em todos os modelos, com destaque para as Arvores de Decisão *Boosting* e *Random Forest*. A árvore Boosting leva pequena vantagem no R-squared e também apresentou muito menor custo computacional. O risco de Overfitting devido ao alto valor do R-squared apresentado pela *boosting* foi minimizado com a utilização do Cross Validation."
      ]
    },
    {
      "cell_type": "markdown",
      "metadata": {
        "id": "Gz8Xmx89tGeM",
        "colab_type": "text"
      },
      "source": [
        "---\n",
        "---"
      ]
    },
    {
      "cell_type": "markdown",
      "metadata": {
        "id": "_wkC2SJtisuR",
        "colab_type": "text"
      },
      "source": [
        "## Modelos Targeted Advertising"
      ]
    },
    {
      "cell_type": "markdown",
      "metadata": {
        "id": "UgAJ1afPeK2H",
        "colab_type": "text"
      },
      "source": [
        "##### Testaremos modelos de Regressão Logística, Árvores de Decisão, SVM e Redes Neurais "
      ]
    },
    {
      "cell_type": "markdown",
      "metadata": {
        "id": "QjolVhfUwTZQ",
        "colab_type": "text"
      },
      "source": [
        "### Análise Exploratória"
      ]
    },
    {
      "cell_type": "markdown",
      "metadata": {
        "id": "O0HFN0bv_h9k",
        "colab_type": "text"
      },
      "source": [
        "### Lendo a Base de Dados"
      ]
    },
    {
      "cell_type": "markdown",
      "metadata": {
        "id": "6YgiuAy_ygch",
        "colab_type": "text"
      },
      "source": [
        "#####Para a aquisição dos dados, utilizaremos o read.csv2 que já considera o separador \";\"."
      ]
    },
    {
      "cell_type": "code",
      "metadata": {
        "id": "5HTSIoMy_h9l",
        "colab_type": "code",
        "colab": {}
      },
      "source": [
        "df2 <- read.csv2(\"Marketing.csv\", header = TRUE)"
      ],
      "execution_count": 0,
      "outputs": []
    },
    {
      "cell_type": "markdown",
      "metadata": {
        "id": "6SycTIVnyIxU",
        "colab_type": "text"
      },
      "source": [
        "## Análise Exploratória"
      ]
    },
    {
      "cell_type": "code",
      "metadata": {
        "id": "Gj8ZlLtp_h9o",
        "colab_type": "code",
        "outputId": "469c240d-28e9-4c59-bade-41ee42a4c378",
        "colab": {
          "base_uri": "https://localhost:8080/",
          "height": 224
        }
      },
      "source": [
        "head(df2)"
      ],
      "execution_count": 0,
      "outputs": [
        {
          "output_type": "display_data",
          "data": {
            "text/plain": [
              "  AGE JOB       MARITAL_STATUS EDUCATION   DEFAULT HOUSING LOAN CONTACT   MONTH\n",
              "1 56  housemaid married        basic_4y    no      no      no   telephone may  \n",
              "2 57  services  married        high_school unknown no      no   telephone may  \n",
              "3 37  services  married        high_school no      yes     no   telephone may  \n",
              "4 40  admin     married        basic_6y    no      no      no   telephone may  \n",
              "5 56  services  married        high_school no      no      yes  telephone may  \n",
              "6 45  services  married        basic_9y    unknown no      no   telephone may  \n",
              "  DAY_OF_WEEK DURATION CAMPAIGN PDAYS PREVIOUS POUTCOME    EMP_VAR_RATE\n",
              "1 mon         261      1        -1    0        nonexistent 1_1         \n",
              "2 mon         149      1        -1    0        nonexistent 1_1         \n",
              "3 mon         226      1        -1    0        nonexistent 1_1         \n",
              "4 mon         151      1        -1    0        nonexistent 1_1         \n",
              "5 mon         307      1        -1    0        nonexistent 1_1         \n",
              "6 mon         198      1        -1    0        nonexistent 1_1         \n",
              "  CONS_PRICE_IDX CONS_CONF_IDX SUBSCRIBED\n",
              "1 93.994         -36_4         no        \n",
              "2 93.994         -36_4         no        \n",
              "3 93.994         -36_4         no        \n",
              "4 93.994         -36_4         no        \n",
              "5 93.994         -36_4         no        \n",
              "6 93.994         -36_4         no        "
            ],
            "text/latex": "A data.frame: 6 × 19\n\\begin{tabular}{r|lllllllllllllllllll}\n  & AGE & JOB & MARITAL\\_STATUS & EDUCATION & DEFAULT & HOUSING & LOAN & CONTACT & MONTH & DAY\\_OF\\_WEEK & DURATION & CAMPAIGN & PDAYS & PREVIOUS & POUTCOME & EMP\\_VAR\\_RATE & CONS\\_PRICE\\_IDX & CONS\\_CONF\\_IDX & SUBSCRIBED\\\\\n  & <int> & <fct> & <fct> & <fct> & <fct> & <fct> & <fct> & <fct> & <fct> & <fct> & <int> & <int> & <int> & <int> & <fct> & <fct> & <fct> & <fct> & <fct>\\\\\n\\hline\n\t1 & 56 & housemaid & married & basic\\_4y    & no      & no  & no  & telephone & may & mon & 261 & 1 & -1 & 0 & nonexistent & 1\\_1 & 93.994 & -36\\_4 & no\\\\\n\t2 & 57 & services  & married & high\\_school & unknown & no  & no  & telephone & may & mon & 149 & 1 & -1 & 0 & nonexistent & 1\\_1 & 93.994 & -36\\_4 & no\\\\\n\t3 & 37 & services  & married & high\\_school & no      & yes & no  & telephone & may & mon & 226 & 1 & -1 & 0 & nonexistent & 1\\_1 & 93.994 & -36\\_4 & no\\\\\n\t4 & 40 & admin     & married & basic\\_6y    & no      & no  & no  & telephone & may & mon & 151 & 1 & -1 & 0 & nonexistent & 1\\_1 & 93.994 & -36\\_4 & no\\\\\n\t5 & 56 & services  & married & high\\_school & no      & no  & yes & telephone & may & mon & 307 & 1 & -1 & 0 & nonexistent & 1\\_1 & 93.994 & -36\\_4 & no\\\\\n\t6 & 45 & services  & married & basic\\_9y    & unknown & no  & no  & telephone & may & mon & 198 & 1 & -1 & 0 & nonexistent & 1\\_1 & 93.994 & -36\\_4 & no\\\\\n\\end{tabular}\n",
            "text/markdown": "\nA data.frame: 6 × 19\n\n| <!--/--> | AGE &lt;int&gt; | JOB &lt;fct&gt; | MARITAL_STATUS &lt;fct&gt; | EDUCATION &lt;fct&gt; | DEFAULT &lt;fct&gt; | HOUSING &lt;fct&gt; | LOAN &lt;fct&gt; | CONTACT &lt;fct&gt; | MONTH &lt;fct&gt; | DAY_OF_WEEK &lt;fct&gt; | DURATION &lt;int&gt; | CAMPAIGN &lt;int&gt; | PDAYS &lt;int&gt; | PREVIOUS &lt;int&gt; | POUTCOME &lt;fct&gt; | EMP_VAR_RATE &lt;fct&gt; | CONS_PRICE_IDX &lt;fct&gt; | CONS_CONF_IDX &lt;fct&gt; | SUBSCRIBED &lt;fct&gt; |\n|---|---|---|---|---|---|---|---|---|---|---|---|---|---|---|---|---|---|---|---|\n| 1 | 56 | housemaid | married | basic_4y    | no      | no  | no  | telephone | may | mon | 261 | 1 | -1 | 0 | nonexistent | 1_1 | 93.994 | -36_4 | no |\n| 2 | 57 | services  | married | high_school | unknown | no  | no  | telephone | may | mon | 149 | 1 | -1 | 0 | nonexistent | 1_1 | 93.994 | -36_4 | no |\n| 3 | 37 | services  | married | high_school | no      | yes | no  | telephone | may | mon | 226 | 1 | -1 | 0 | nonexistent | 1_1 | 93.994 | -36_4 | no |\n| 4 | 40 | admin     | married | basic_6y    | no      | no  | no  | telephone | may | mon | 151 | 1 | -1 | 0 | nonexistent | 1_1 | 93.994 | -36_4 | no |\n| 5 | 56 | services  | married | high_school | no      | no  | yes | telephone | may | mon | 307 | 1 | -1 | 0 | nonexistent | 1_1 | 93.994 | -36_4 | no |\n| 6 | 45 | services  | married | basic_9y    | unknown | no  | no  | telephone | may | mon | 198 | 1 | -1 | 0 | nonexistent | 1_1 | 93.994 | -36_4 | no |\n\n",
            "text/html": [
              "<table>\n",
              "<caption>A data.frame: 6 × 19</caption>\n",
              "<thead>\n",
              "\t<tr><th></th><th scope=col>AGE</th><th scope=col>JOB</th><th scope=col>MARITAL_STATUS</th><th scope=col>EDUCATION</th><th scope=col>DEFAULT</th><th scope=col>HOUSING</th><th scope=col>LOAN</th><th scope=col>CONTACT</th><th scope=col>MONTH</th><th scope=col>DAY_OF_WEEK</th><th scope=col>DURATION</th><th scope=col>CAMPAIGN</th><th scope=col>PDAYS</th><th scope=col>PREVIOUS</th><th scope=col>POUTCOME</th><th scope=col>EMP_VAR_RATE</th><th scope=col>CONS_PRICE_IDX</th><th scope=col>CONS_CONF_IDX</th><th scope=col>SUBSCRIBED</th></tr>\n",
              "\t<tr><th></th><th scope=col>&lt;int&gt;</th><th scope=col>&lt;fct&gt;</th><th scope=col>&lt;fct&gt;</th><th scope=col>&lt;fct&gt;</th><th scope=col>&lt;fct&gt;</th><th scope=col>&lt;fct&gt;</th><th scope=col>&lt;fct&gt;</th><th scope=col>&lt;fct&gt;</th><th scope=col>&lt;fct&gt;</th><th scope=col>&lt;fct&gt;</th><th scope=col>&lt;int&gt;</th><th scope=col>&lt;int&gt;</th><th scope=col>&lt;int&gt;</th><th scope=col>&lt;int&gt;</th><th scope=col>&lt;fct&gt;</th><th scope=col>&lt;fct&gt;</th><th scope=col>&lt;fct&gt;</th><th scope=col>&lt;fct&gt;</th><th scope=col>&lt;fct&gt;</th></tr>\n",
              "</thead>\n",
              "<tbody>\n",
              "\t<tr><th scope=row>1</th><td>56</td><td>housemaid</td><td>married</td><td>basic_4y   </td><td>no     </td><td>no </td><td>no </td><td>telephone</td><td>may</td><td>mon</td><td>261</td><td>1</td><td>-1</td><td>0</td><td>nonexistent</td><td>1_1</td><td>93.994</td><td>-36_4</td><td>no</td></tr>\n",
              "\t<tr><th scope=row>2</th><td>57</td><td>services </td><td>married</td><td>high_school</td><td>unknown</td><td>no </td><td>no </td><td>telephone</td><td>may</td><td>mon</td><td>149</td><td>1</td><td>-1</td><td>0</td><td>nonexistent</td><td>1_1</td><td>93.994</td><td>-36_4</td><td>no</td></tr>\n",
              "\t<tr><th scope=row>3</th><td>37</td><td>services </td><td>married</td><td>high_school</td><td>no     </td><td>yes</td><td>no </td><td>telephone</td><td>may</td><td>mon</td><td>226</td><td>1</td><td>-1</td><td>0</td><td>nonexistent</td><td>1_1</td><td>93.994</td><td>-36_4</td><td>no</td></tr>\n",
              "\t<tr><th scope=row>4</th><td>40</td><td>admin    </td><td>married</td><td>basic_6y   </td><td>no     </td><td>no </td><td>no </td><td>telephone</td><td>may</td><td>mon</td><td>151</td><td>1</td><td>-1</td><td>0</td><td>nonexistent</td><td>1_1</td><td>93.994</td><td>-36_4</td><td>no</td></tr>\n",
              "\t<tr><th scope=row>5</th><td>56</td><td>services </td><td>married</td><td>high_school</td><td>no     </td><td>no </td><td>yes</td><td>telephone</td><td>may</td><td>mon</td><td>307</td><td>1</td><td>-1</td><td>0</td><td>nonexistent</td><td>1_1</td><td>93.994</td><td>-36_4</td><td>no</td></tr>\n",
              "\t<tr><th scope=row>6</th><td>45</td><td>services </td><td>married</td><td>basic_9y   </td><td>unknown</td><td>no </td><td>no </td><td>telephone</td><td>may</td><td>mon</td><td>198</td><td>1</td><td>-1</td><td>0</td><td>nonexistent</td><td>1_1</td><td>93.994</td><td>-36_4</td><td>no</td></tr>\n",
              "</tbody>\n",
              "</table>\n"
            ]
          },
          "metadata": {
            "tags": []
          }
        }
      ]
    },
    {
      "cell_type": "code",
      "metadata": {
        "id": "1GzVNbQH_h9r",
        "colab_type": "code",
        "outputId": "a0f56c3a-db46-4200-bb07-4d08416acc11",
        "colab": {
          "base_uri": "https://localhost:8080/",
          "height": 357
        }
      },
      "source": [
        "str(df2)"
      ],
      "execution_count": 0,
      "outputs": [
        {
          "output_type": "stream",
          "text": [
            "'data.frame':\t41188 obs. of  19 variables:\n",
            " $ AGE           : int  56 57 37 40 56 45 59 41 24 25 ...\n",
            " $ JOB           : Factor w/ 12 levels \"admin\",\"blue-collar\",..: 4 8 8 1 8 8 1 2 10 8 ...\n",
            " $ MARITAL_STATUS: Factor w/ 4 levels \"divorced\",\"married\",..: 2 2 2 2 2 2 2 2 3 3 ...\n",
            " $ EDUCATION     : Factor w/ 8 levels \"basic_4y\",\"basic_6y\",..: 1 4 4 2 4 3 6 8 6 4 ...\n",
            " $ DEFAULT       : Factor w/ 3 levels \"no\",\"unknown\",..: 1 2 1 1 1 2 1 2 1 1 ...\n",
            " $ HOUSING       : Factor w/ 3 levels \"no\",\"unknown\",..: 1 1 3 1 1 1 1 1 3 3 ...\n",
            " $ LOAN          : Factor w/ 3 levels \"no\",\"unknown\",..: 1 1 1 1 3 1 1 1 1 1 ...\n",
            " $ CONTACT       : Factor w/ 2 levels \"cellular\",\"telephone\": 2 2 2 2 2 2 2 2 2 2 ...\n",
            " $ MONTH         : Factor w/ 10 levels \"apr\",\"aug\",\"dec\",..: 7 7 7 7 7 7 7 7 7 7 ...\n",
            " $ DAY_OF_WEEK   : Factor w/ 5 levels \"fri\",\"mon\",\"thu\",..: 2 2 2 2 2 2 2 2 2 2 ...\n",
            " $ DURATION      : int  261 149 226 151 307 198 139 217 380 50 ...\n",
            " $ CAMPAIGN      : int  1 1 1 1 1 1 1 1 1 1 ...\n",
            " $ PDAYS         : int  -1 -1 -1 -1 -1 -1 -1 -1 -1 -1 ...\n",
            " $ PREVIOUS      : int  0 0 0 0 0 0 0 0 0 0 ...\n",
            " $ POUTCOME      : Factor w/ 3 levels \"failure\",\"nonexistent\",..: 2 2 2 2 2 2 2 2 2 2 ...\n",
            " $ EMP_VAR_RATE  : Factor w/ 10 levels \"-0_1\",\"-0_2\",..: 9 9 9 9 9 9 9 9 9 9 ...\n",
            " $ CONS_PRICE_IDX: Factor w/ 26 levels \"92.201\",\"92.379\",..: 19 19 19 19 19 19 19 19 19 19 ...\n",
            " $ CONS_CONF_IDX : Factor w/ 26 levels \"-26_9\",\"-29_8\",..: 10 10 10 10 10 10 10 10 10 10 ...\n",
            " $ SUBSCRIBED    : Factor w/ 2 levels \"no\",\"yes\": 1 1 1 1 1 1 1 1 1 1 ...\n"
          ],
          "name": "stdout"
        }
      ]
    },
    {
      "cell_type": "markdown",
      "metadata": {
        "id": "16FD_M957-A_",
        "colab_type": "text"
      },
      "source": [
        "### A base de dados Marketing.csv possui as seguintes variáveis:\n",
        "* AGE\t- Idade\n",
        "*JOB -\tProfissão\n",
        "*MARITAL_STATUS - Estado civil\n",
        "*EDUCATION - Educação\n",
        "*DEFAULT\t- Contas Atrasadas ?\n",
        "*HOUSING\t- Hipoteca ?\n",
        "*LOAN\t- Empréstimo Pessoal ?\n",
        "*CONTACT - Tipo de Contato\n",
        "*MONTH - Último Mês de Contato\n",
        "*DAY_OF_WEEK - Último Dia da Semana de Contato\n",
        "*DURATION - Duração do Último Contato em segundos\n",
        "*CAMPAIGN\t- Tipo de Campanha de Marketing\n",
        "*PDAYS - Número de Dias desde Último Contato (-1: Não Houve Contato)\n",
        "*PREVIOUS - Número de Contatos Antes da Campanha\n",
        "*POUTCOME - Resultado da Última Campanha\n",
        "*EMP_VAR_RATE - Taxa de Desemprego da Região\n",
        "*CONS_PRICE_IDX - IGPM\n",
        "*CONS_CONF_IDX - Índice de Confiança do Consumidor\n",
        "*SUBSCRIBED - Aderiu ao Serviço ?\n",
        "\n",
        "\n"
      ]
    },
    {
      "cell_type": "code",
      "metadata": {
        "id": "_Knrwe6GMJRY",
        "colab_type": "code",
        "outputId": "8a7ee9bc-790f-4eda-ca2e-ac229c9d2b54",
        "colab": {
          "base_uri": "https://localhost:8080/",
          "height": 697
        }
      },
      "source": [
        "summary(df2)"
      ],
      "execution_count": 0,
      "outputs": [
        {
          "output_type": "display_data",
          "data": {
            "text/plain": [
              "      AGE                 JOB         MARITAL_STATUS \n",
              " Min.   :17.00   admin      :10422   divorced: 4612  \n",
              " 1st Qu.:32.00   blue-collar: 9254   married :24928  \n",
              " Median :38.00   technician : 6743   single  :11568  \n",
              " Mean   :40.02   services   : 3969   unknown :   80  \n",
              " 3rd Qu.:47.00   management : 2924                   \n",
              " Max.   :98.00   retired    : 1720                   \n",
              "                 (Other)    : 6156                   \n",
              "               EDUCATION        DEFAULT         HOUSING           LOAN      \n",
              " university_degree  :12168   no     :32588   no     :18622   no     :33950  \n",
              " high_school        : 9515   unknown: 8597   unknown:  990   unknown:  990  \n",
              " basic_9y           : 6045   yes    :    3   yes    :21576   yes    : 6248  \n",
              " professional_course: 5243                                                  \n",
              " basic_4y           : 4176                                                  \n",
              " basic_6y           : 2292                                                  \n",
              " (Other)            : 1749                                                  \n",
              "      CONTACT          MONTH       DAY_OF_WEEK    DURATION     \n",
              " cellular :26144   may    :13769   fri:7827    Min.   :   0.0  \n",
              " telephone:15044   jul    : 7174   mon:8514    1st Qu.: 102.0  \n",
              "                   aug    : 6178   thu:8623    Median : 180.0  \n",
              "                   jun    : 5318   tue:8090    Mean   : 258.3  \n",
              "                   nov    : 4101   wed:8134    3rd Qu.: 319.0  \n",
              "                   apr    : 2632               Max.   :4918.0  \n",
              "                   (Other): 2016                               \n",
              "    CAMPAIGN          PDAYS           PREVIOUS            POUTCOME    \n",
              " Min.   : 1.000   Min.   :-1.000   Min.   :0.000   failure    : 4252  \n",
              " 1st Qu.: 1.000   1st Qu.:-1.000   1st Qu.:0.000   nonexistent:35563  \n",
              " Median : 2.000   Median :-1.000   Median :0.000   success    : 1373  \n",
              " Mean   : 2.568   Mean   :-0.742   Mean   :0.173                      \n",
              " 3rd Qu.: 3.000   3rd Qu.:-1.000   3rd Qu.:0.000                      \n",
              " Max.   :56.000   Max.   :27.000   Max.   :7.000                      \n",
              "                                                                      \n",
              "  EMP_VAR_RATE   CONS_PRICE_IDX CONS_CONF_IDX  SUBSCRIBED \n",
              " 1_4    :16234   93.994 :7763   -36_4  :7763   no :36548  \n",
              " -1_8   : 9184   93.918 :6685   -42_7  :6685   yes: 4640  \n",
              " 1_1    : 7763   92.893 :5794   -46_2  :5794              \n",
              " -0_1   : 3683   93.444 :5175   -36_1  :5175              \n",
              " -2_9   : 1663   94.465 :4374   -41_8  :4374              \n",
              " -3_4   : 1071   93_2   :3616   -42    :3616              \n",
              " (Other): 1590   (Other):7781   (Other):7781              "
            ]
          },
          "metadata": {
            "tags": []
          }
        }
      ]
    },
    {
      "cell_type": "markdown",
      "metadata": {
        "id": "lR1FmrxaJB4r",
        "colab_type": "text"
      },
      "source": [
        "### Faremos algumas transformações na base de dados visando melhor performance nos modelos de classificação:"
      ]
    },
    {
      "cell_type": "markdown",
      "metadata": {
        "id": "ineSk4bjzDdT",
        "colab_type": "text"
      },
      "source": [
        "Transformaremos a variável df2$CAMPAIGN que elenca o tipo de campanha para factor:"
      ]
    },
    {
      "cell_type": "code",
      "metadata": {
        "id": "QkSVMa9NzYAR",
        "colab_type": "code",
        "outputId": "33e79522-6782-4362-aa5b-fe3f3b0a3d55",
        "colab": {
          "base_uri": "https://localhost:8080/",
          "height": 34
        }
      },
      "source": [
        "df2$CAMPAIGN <- as.factor(df2$CAMPAIGN)\n",
        "str(df2$CAMPAIGN)"
      ],
      "execution_count": 0,
      "outputs": [
        {
          "output_type": "stream",
          "text": [
            " Factor w/ 42 levels \"1\",\"2\",\"3\",\"4\",..: 1 1 1 1 1 1 1 1 1 1 ...\n"
          ],
          "name": "stdout"
        }
      ]
    },
    {
      "cell_type": "markdown",
      "metadata": {
        "id": "MrG2ffubxoQM",
        "colab_type": "text"
      },
      "source": [
        "##### Transformaremos a variavel df2$CONS_CONF_IDX para o tipo numeric:"
      ]
    },
    {
      "cell_type": "code",
      "metadata": {
        "id": "GJsmxmkyAdo6",
        "colab_type": "code",
        "outputId": "373c9422-b24f-422d-91ab-f296204acc60",
        "colab": {
          "base_uri": "https://localhost:8080/",
          "height": 34
        }
      },
      "source": [
        "df2$CONS_CONF_IDX <- as.numeric(str_replace_all(df2$CONS_CONF_IDX, fixed(\"_\"), \".\"))\n",
        "str(df2$CONS_CONF_IDX)"
      ],
      "execution_count": 0,
      "outputs": [
        {
          "output_type": "stream",
          "text": [
            " num [1:41188] -36.4 -36.4 -36.4 -36.4 -36.4 -36.4 -36.4 -36.4 -36.4 -36.4 ...\n"
          ],
          "name": "stdout"
        }
      ]
    },
    {
      "cell_type": "markdown",
      "metadata": {
        "id": "u5pKEYHYKKzb",
        "colab_type": "text"
      },
      "source": [
        "##### Transformaremos a variavel df2$CONS_PRICE_IDX para o tipo numeric:"
      ]
    },
    {
      "cell_type": "code",
      "metadata": {
        "id": "49ivJ1fMJrNU",
        "colab_type": "code",
        "outputId": "d9ccc485-e200-4b18-e358-745622b82d81",
        "colab": {
          "base_uri": "https://localhost:8080/",
          "height": 34
        }
      },
      "source": [
        "df2$CONS_PRICE_IDX <- as.numeric(str_replace_all(df2$CONS_PRICE_IDX, fixed(\"_\"), \".\"))\n",
        "str(df2$CONS_PRICE_IDX)"
      ],
      "execution_count": 0,
      "outputs": [
        {
          "output_type": "stream",
          "text": [
            " num [1:41188] 94 94 94 94 94 ...\n"
          ],
          "name": "stdout"
        }
      ]
    },
    {
      "cell_type": "markdown",
      "metadata": {
        "id": "6uxCfCwmKok3",
        "colab_type": "text"
      },
      "source": [
        "##### Transformaremos a variavel df2$EMP_VAR_RATE para o tipo numeric:"
      ]
    },
    {
      "cell_type": "code",
      "metadata": {
        "id": "TN9_2sACK_XG",
        "colab_type": "code",
        "outputId": "12c41f18-4612-43d3-f98a-8148108af6a7",
        "colab": {
          "base_uri": "https://localhost:8080/",
          "height": 34
        }
      },
      "source": [
        "df2$EMP_VAR_RATE <- as.numeric(str_replace_all(df2$EMP_VAR_RATE, fixed(\"_\"), \".\"))\n",
        "str(df2$EMP_VAR_RATE)"
      ],
      "execution_count": 0,
      "outputs": [
        {
          "output_type": "stream",
          "text": [
            " num [1:41188] 1.1 1.1 1.1 1.1 1.1 1.1 1.1 1.1 1.1 1.1 ...\n"
          ],
          "name": "stdout"
        }
      ]
    },
    {
      "cell_type": "markdown",
      "metadata": {
        "id": "-C0fT70WMGYs",
        "colab_type": "text"
      },
      "source": [
        "##### A base de dados possui 41188 registros. É uma quantidade muito grande para nossa capacidade computacional em modelos de classificação. Utilizaremos uma amostra de aproximadamente 10% para o nosso estudo."
      ]
    },
    {
      "cell_type": "code",
      "metadata": {
        "id": "tbaay3qR1NLR",
        "colab_type": "code",
        "colab": {}
      },
      "source": [
        "df2 <- sample_n(df2, 4100, replace = FALSE)"
      ],
      "execution_count": 0,
      "outputs": []
    },
    {
      "cell_type": "code",
      "metadata": {
        "id": "n3AqkXy41RCT",
        "colab_type": "code",
        "outputId": "4ec0d34f-4670-477f-8b86-e36b28cec8ba",
        "colab": {
          "base_uri": "https://localhost:8080/",
          "height": 697
        }
      },
      "source": [
        "summary(df2)"
      ],
      "execution_count": 0,
      "outputs": [
        {
          "output_type": "display_data",
          "data": {
            "text/plain": [
              "      AGE                 JOB        MARITAL_STATUS               EDUCATION   \n",
              " Min.   :18.00   admin      :1031   divorced: 526   university_degree  :1210  \n",
              " 1st Qu.:32.00   blue-collar: 948   married :2411   high_school        : 931  \n",
              " Median :38.00   technician : 685   single  :1159   basic_9y           : 608  \n",
              " Mean   :40.12   services   : 387   unknown :   4   professional_course: 556  \n",
              " 3rd Qu.:47.00   management : 265                   basic_4y           : 436  \n",
              " Max.   :88.00   retired    : 168                   basic_6y           : 211  \n",
              "                 (Other)    : 616                   (Other)            : 148  \n",
              "    DEFAULT        HOUSING          LOAN           CONTACT         MONTH     \n",
              " no     :3202   no     :1828   no     :3377   cellular :2601   may    :1317  \n",
              " unknown: 898   unknown:  88   unknown:  88   telephone:1499   jul    : 712  \n",
              " yes    :   0   yes    :2184   yes    : 635                    aug    : 627  \n",
              "                                                               jun    : 560  \n",
              "                                                               nov    : 436  \n",
              "                                                               apr    : 267  \n",
              "                                                               (Other): 181  \n",
              " DAY_OF_WEEK    DURATION         CAMPAIGN        PDAYS           PREVIOUS     \n",
              " fri:767     Min.   :   4.0   1      :1752   Min.   :-1.000   Min.   :0.0000  \n",
              " mon:886     1st Qu.: 105.0   2      :1046   1st Qu.:-1.000   1st Qu.:0.0000  \n",
              " thu:849     Median : 184.0   3      : 532   Median :-1.000   Median :0.0000  \n",
              " tue:789     Mean   : 262.5   4      : 256   Mean   :-0.732   Mean   :0.1773  \n",
              " wed:809     3rd Qu.: 320.0   5      : 176   3rd Qu.:-1.000   3rd Qu.:0.0000  \n",
              "             Max.   :3785.0   6      :  97   Max.   :22.000   Max.   :7.0000  \n",
              "                              (Other): 241                                    \n",
              "        POUTCOME     EMP_VAR_RATE     CONS_PRICE_IDX  CONS_CONF_IDX   \n",
              " failure    : 420   Min.   :-3.4000   Min.   :92.20   Min.   :-50.80  \n",
              " nonexistent:3536   1st Qu.:-1.8000   1st Qu.:93.08   1st Qu.:-42.70  \n",
              " success    : 144   Median : 1.1000   Median :93.75   Median :-41.80  \n",
              "                    Mean   : 0.1025   Mean   :93.58   Mean   :-40.63  \n",
              "                    3rd Qu.: 1.4000   3rd Qu.:93.99   3rd Qu.:-36.40  \n",
              "                    Max.   : 1.4000   Max.   :94.77   Max.   :-26.90  \n",
              "                                                                      \n",
              " SUBSCRIBED\n",
              " no :3595  \n",
              " yes: 505  \n",
              "           \n",
              "           \n",
              "           \n",
              "           \n",
              "           "
            ]
          },
          "metadata": {
            "tags": []
          }
        }
      ]
    },
    {
      "cell_type": "code",
      "metadata": {
        "id": "R6xRZ6jD_h94",
        "colab_type": "code",
        "colab": {}
      },
      "source": [
        "set.seed(314)\n",
        "trainIndex <- createDataPartition(df2$SUBSCRIBED, p = .7, list = FALSE)\n",
        "df2_train <- df2[trainIndex,]\n",
        "df2_test <- df2[-trainIndex,]"
      ],
      "execution_count": 0,
      "outputs": []
    },
    {
      "cell_type": "markdown",
      "metadata": {
        "id": "z3OPZWfW_h97",
        "colab_type": "text"
      },
      "source": [
        "### Parametrizando o Cross Validation"
      ]
    },
    {
      "cell_type": "code",
      "metadata": {
        "id": "A689Zvcr_h97",
        "colab_type": "code",
        "colab": {}
      },
      "source": [
        "set.seed(314)\n",
        "cv <- trainControl(method = \"repeatedcv\", number = 10, savePredictions = TRUE,\n",
        "summaryFunction = twoClassSummary, classProbs=TRUE)"
      ],
      "execution_count": 0,
      "outputs": []
    },
    {
      "cell_type": "markdown",
      "metadata": {
        "id": "CSqfPBTC_h-A",
        "colab_type": "text"
      },
      "source": [
        "### Modelo de Regressão Logistica"
      ]
    },
    {
      "cell_type": "code",
      "metadata": {
        "id": "zgVOqgTN_h-A",
        "colab_type": "code",
        "colab": {}
      },
      "source": [
        "df2_glm <- train(SUBSCRIBED ~ ., data = df2_train, method = \"glm\", metric =\"ROC\", trControl = cv, \n",
        "                   control = list(maxit = 50))"
      ],
      "execution_count": 0,
      "outputs": []
    },
    {
      "cell_type": "code",
      "metadata": {
        "id": "SANeto4d_h-E",
        "colab_type": "code",
        "outputId": "7fe950a4-93f3-40cf-a954-aec3e30ecacc",
        "colab": {
          "base_uri": "https://localhost:8080/",
          "height": 238
        }
      },
      "source": [
        "df2_glm"
      ],
      "execution_count": 0,
      "outputs": [
        {
          "output_type": "display_data",
          "data": {
            "text/plain": [
              "Generalized Linear Model \n",
              "\n",
              "2871 samples\n",
              "  18 predictor\n",
              "   2 classes: 'no', 'yes' \n",
              "\n",
              "No pre-processing\n",
              "Resampling: Cross-Validated (10 fold, repeated 1 times) \n",
              "Summary of sample sizes: 2584, 2585, 2585, 2583, 2583, 2583, ... \n",
              "Resampling results:\n",
              "\n",
              "  ROC        Sens       Spec     \n",
              "  0.9143066  0.9654335  0.3987302\n"
            ]
          },
          "metadata": {
            "tags": []
          }
        }
      ]
    },
    {
      "cell_type": "code",
      "metadata": {
        "id": "BlWzdjVh_h-G",
        "colab_type": "code",
        "colab": {}
      },
      "source": [
        "#Score do Modelo\n",
        "df2_glm_pred <- predict(df2_glm, newdata = df2_test)"
      ],
      "execution_count": 0,
      "outputs": []
    },
    {
      "cell_type": "code",
      "metadata": {
        "id": "eEeyBszf_h-I",
        "colab_type": "code",
        "outputId": "63b5e873-5b94-4902-de00-322d9490eafd",
        "colab": {
          "base_uri": "https://localhost:8080/",
          "height": 51
        }
      },
      "source": [
        "# Curva ROC\n",
        "df2_glm_pred_prob <- predict(df2_glm, newdata = df2_test, type=\"prob\")\n",
        "glm_roc <- roc(predictor = df2_glm_pred_prob$yes,\n",
        "               response = df2_test$SUBSCRIBED,\n",
        "               levels = rev(levels(df2_test$SUBSCRIBED)))"
      ],
      "execution_count": 0,
      "outputs": [
        {
          "output_type": "stream",
          "text": [
            "Setting direction: controls > cases\n",
            "\n"
          ],
          "name": "stderr"
        }
      ]
    },
    {
      "cell_type": "code",
      "metadata": {
        "id": "6diKNuOA_h-K",
        "colab_type": "code",
        "outputId": "f7112da5-0d92-4347-a61e-4a73b61e803d",
        "colab": {
          "base_uri": "https://localhost:8080/",
          "height": 476
        }
      },
      "source": [
        "# Matriz de Confusão\n",
        "cm_glm <- confusionMatrix(data = df2_glm_pred, df2_test$SUBSCRIBED, positive = \"yes\")\n",
        "cm_glm\n",
        "cm_glm_Sensitivity <- data.frame(cm_glm$byClass)[1, ]\n",
        "cm_glm_Specificity <- data.frame(cm_glm$byClass)[2, ]\n",
        "cm_glm_Accuracy <- data.frame(cm_glm$overall)[1, ]"
      ],
      "execution_count": 0,
      "outputs": [
        {
          "output_type": "display_data",
          "data": {
            "text/plain": [
              "Confusion Matrix and Statistics\n",
              "\n",
              "          Reference\n",
              "Prediction   no  yes\n",
              "       no  1051   89\n",
              "       yes   27   62\n",
              "                                          \n",
              "               Accuracy : 0.9056          \n",
              "                 95% CI : (0.8879, 0.9214)\n",
              "    No Information Rate : 0.8771          \n",
              "    P-Value [Acc > NIR] : 0.0009818       \n",
              "                                          \n",
              "                  Kappa : 0.4682          \n",
              "                                          \n",
              " Mcnemar's Test P-Value : 1.481e-08       \n",
              "                                          \n",
              "            Sensitivity : 0.41060         \n",
              "            Specificity : 0.97495         \n",
              "         Pos Pred Value : 0.69663         \n",
              "         Neg Pred Value : 0.92193         \n",
              "             Prevalence : 0.12286         \n",
              "         Detection Rate : 0.05045         \n",
              "   Detection Prevalence : 0.07242         \n",
              "      Balanced Accuracy : 0.69277         \n",
              "                                          \n",
              "       'Positive' Class : yes             \n",
              "                                          "
            ]
          },
          "metadata": {
            "tags": []
          }
        }
      ]
    },
    {
      "cell_type": "markdown",
      "metadata": {
        "id": "hP5Jjl8v_h-N",
        "colab_type": "text"
      },
      "source": [
        "### Modelo Árvore de Decisão"
      ]
    },
    {
      "cell_type": "markdown",
      "metadata": {
        "id": "RoWKPFPa_h-O",
        "colab_type": "text"
      },
      "source": [
        "#### Boosting"
      ]
    },
    {
      "cell_type": "code",
      "metadata": {
        "id": "7AMeT3bC_h-O",
        "colab_type": "code",
        "outputId": "7e2434ab-0a01-49c2-8f59-dde6ce924c1a",
        "colab": {
          "base_uri": "https://localhost:8080/",
          "height": 1000
        }
      },
      "source": [
        "# Treinando o Modelo\n",
        "df2_boosting <- train(SUBSCRIBED ~ . , data = df2_train, method = \"xgbTree\", trControl = cv)\n",
        "df2_boosting"
      ],
      "execution_count": 0,
      "outputs": [
        {
          "output_type": "display_data",
          "data": {
            "text/plain": [
              "eXtreme Gradient Boosting \n",
              "\n",
              "2871 samples\n",
              "  18 predictor\n",
              "   2 classes: 'no', 'yes' \n",
              "\n",
              "No pre-processing\n",
              "Resampling: Cross-Validated (10 fold, repeated 1 times) \n",
              "Summary of sample sizes: 2584, 2584, 2584, 2584, 2584, 2584, ... \n",
              "Resampling results across tuning parameters:\n",
              "\n",
              "  eta  max_depth  colsample_bytree  subsample  nrounds  ROC        Sens     \n",
              "  0.3  1          0.6               0.50        50      0.9316601  0.9701986\n",
              "  0.3  1          0.6               0.50       100      0.9365665  0.9614494\n",
              "  0.3  1          0.6               0.50       150      0.9361524  0.9614494\n",
              "  0.3  1          0.6               0.75        50      0.9330780  0.9694002\n",
              "  0.3  1          0.6               0.75       100      0.9384205  0.9626415\n",
              "  0.3  1          0.6               0.75       150      0.9376614  0.9598606\n",
              "  0.3  1          0.6               1.00        50      0.9342747  0.9725811\n",
              "  0.3  1          0.6               1.00       100      0.9376419  0.9674066\n",
              "  0.3  1          0.6               1.00       150      0.9376443  0.9618463\n",
              "  0.3  1          0.8               0.50        50      0.9341313  0.9678129\n",
              "  0.3  1          0.8               0.50       100      0.9358497  0.9614510\n",
              "  0.3  1          0.8               0.50       150      0.9361774  0.9594637\n",
              "  0.3  1          0.8               0.75        50      0.9350467  0.9701986\n",
              "  0.3  1          0.8               0.75       100      0.9372626  0.9618478\n",
              "  0.3  1          0.8               0.75       150      0.9376194  0.9594622\n",
              "  0.3  1          0.8               1.00        50      0.9333274  0.9725811\n",
              "  0.3  1          0.8               1.00       100      0.9375484  0.9658177\n",
              "  0.3  1          0.8               1.00       150      0.9377269  0.9606526\n",
              "  0.3  2          0.6               0.50        50      0.9383289  0.9606558\n",
              "  0.3  2          0.6               0.50       100      0.9370711  0.9535050\n",
              "  0.3  2          0.6               0.50       150      0.9326727  0.9570844\n",
              "  0.3  2          0.6               0.75        50      0.9393019  0.9606510\n",
              "  0.3  2          0.6               0.75       100      0.9384624  0.9582701\n",
              "  0.3  2          0.6               0.75       150      0.9366254  0.9570780\n",
              "  0.3  2          0.6               1.00        50      0.9396540  0.9630431\n",
              "  0.3  2          0.6               1.00       100      0.9385968  0.9562828\n",
              "  0.3  2          0.6               1.00       150      0.9373353  0.9542971\n",
              "  0.3  2          0.8               0.50        50      0.9365407  0.9582764\n",
              "  0.3  2          0.8               0.50       100      0.9360304  0.9554860\n",
              "  0.3  2          0.8               0.50       150      0.9343764  0.9519146\n",
              "  0.3  2          0.8               0.75        50      0.9400354  0.9598606\n",
              "  0.3  2          0.8               0.75       100      0.9381448  0.9542955\n",
              "  0.3  2          0.8               0.75       150      0.9368137  0.9523066\n",
              "  0.3  2          0.8               1.00        50      0.9391214  0.9586685\n",
              "  0.3  2          0.8               1.00       100      0.9376709  0.9550844\n",
              "  0.3  2          0.8               1.00       150      0.9371812  0.9538939\n",
              "  0.3  3          0.6               0.50        50      0.9364653  0.9531114\n",
              "  0.3  3          0.6               0.50       100      0.9329766  0.9499241\n",
              "  0.3  3          0.6               0.50       150      0.9316359  0.9471495\n",
              "  0.3  3          0.6               0.75        50      0.9397023  0.9586701\n",
              "  0.3  3          0.6               0.75       100      0.9370538  0.9546923\n",
              "  0.3  3          0.6               0.75       150      0.9327422  0.9499257\n",
              "  0.3  3          0.6               1.00        50      0.9408213  0.9578796\n",
              "  0.3  3          0.6               1.00       100      0.9375670  0.9542939\n",
              "  0.3  3          0.6               1.00       150      0.9335097  0.9495257\n",
              "  0.3  3          0.8               0.50        50      0.9353060  0.9543003\n",
              "  0.3  3          0.8               0.50       100      0.9295203  0.9527082\n",
              "  0.3  3          0.8               0.50       150      0.9287789  0.9471448\n",
              "  0.3  3          0.8               0.75        50      0.9361215  0.9574749\n",
              "  0.3  3          0.8               0.75       100      0.9341656  0.9507130\n",
              "  0.3  3          0.8               0.75       150      0.9323455  0.9550860\n",
              "  0.3  3          0.8               1.00        50      0.9405422  0.9554844\n",
              "  0.3  3          0.8               1.00       100      0.9371282  0.9527019\n",
              "  0.3  3          0.8               1.00       150      0.9341826  0.9495210\n",
              "  0.4  1          0.6               0.50        50      0.9337313  0.9658287\n",
              "  0.4  1          0.6               0.50       100      0.9365059  0.9610558\n",
              "  0.4  1          0.6               0.50       150      0.9374144  0.9582717\n",
              "  0.4  1          0.6               0.75        50      0.9344626  0.9670176\n",
              "  0.4  1          0.6               0.75       100      0.9366747  0.9598590\n",
              "  0.4  1          0.6               0.75       150      0.9360861  0.9590701\n",
              "  0.4  1          0.6               1.00        50      0.9353814  0.9697938\n",
              "  0.4  1          0.6               1.00       100      0.9371308  0.9622447\n",
              "  0.4  1          0.6               1.00       150      0.9375062  0.9606558\n",
              "  0.4  1          0.8               0.50        50      0.9362146  0.9646272\n",
              "  0.4  1          0.8               0.50       100      0.9366336  0.9590637\n",
              "  0.4  1          0.8               0.50       150      0.9359149  0.9602574\n",
              "  0.4  1          0.8               0.75        50      0.9375124  0.9630415\n",
              "  0.4  1          0.8               0.75       100      0.9366434  0.9610542\n",
              "  0.4  1          0.8               0.75       150      0.9369748  0.9590685\n",
              "  0.4  1          0.8               1.00        50      0.9356488  0.9690034\n",
              "  0.4  1          0.8               1.00       100      0.9375764  0.9610510\n",
              "  0.4  1          0.8               1.00       150      0.9378180  0.9594637\n",
              "  0.4  2          0.6               0.50        50      0.9368826  0.9586638\n",
              "  0.4  2          0.6               0.50       100      0.9328908  0.9539034\n",
              "  0.4  2          0.6               0.50       150      0.9326153  0.9515098\n",
              "  0.4  2          0.6               0.75        50      0.9369888  0.9550876\n",
              "  0.4  2          0.6               0.75       100      0.9374299  0.9531114\n",
              "  0.4  2          0.6               0.75       150      0.9380910  0.9531035\n",
              "  0.4  2          0.6               1.00        50      0.9386543  0.9590701\n",
              "  0.4  2          0.6               1.00       100      0.9375500  0.9558844\n",
              "  0.4  2          0.6               1.00       150      0.9364721  0.9562781\n",
              "  0.4  2          0.8               0.50        50      0.9343749  0.9551002\n",
              "  0.4  2          0.8               0.50       100      0.9320754  0.9519161\n",
              "  0.4  2          0.8               0.50       150      0.9307852  0.9495257\n",
              "  0.4  2          0.8               0.75        50      0.9367097  0.9538971\n",
              "  0.4  2          0.8               0.75       100      0.9373726  0.9527082\n",
              "  0.4  2          0.8               0.75       150      0.9346640  0.9542939\n",
              "  0.4  2          0.8               1.00        50      0.9393851  0.9598590\n",
              "  0.4  2          0.8               1.00       100      0.9375090  0.9542924\n",
              "  0.4  2          0.8               1.00       150      0.9361774  0.9531035\n",
              "  0.4  3          0.6               0.50        50      0.9305771  0.9515177\n",
              "  0.4  3          0.6               0.50       100      0.9256969  0.9479368\n",
              "  0.4  3          0.6               0.50       150      0.9208751  0.9431702\n",
              "  0.4  3          0.6               0.75        50      0.9370956  0.9550892\n",
              "  0.4  3          0.6               0.75       100      0.9330213  0.9534940\n",
              "  0.4  3          0.6               0.75       150      0.9287498  0.9511241\n",
              "  0.4  3          0.6               1.00        50      0.9375747  0.9523114\n",
              "  0.4  3          0.6               1.00       100      0.9352131  0.9519114\n",
              "  0.4  3          0.6               1.00       150      0.9321218  0.9507178\n",
              "  0.4  3          0.8               0.50        50      0.9331774  0.9507336\n",
              "  0.4  3          0.8               0.50       100      0.9287950  0.9495352\n",
              "  0.4  3          0.8               0.50       150      0.9241684  0.9407955\n",
              "  0.4  3          0.8               0.75        50      0.9362682  0.9542987\n",
              "  0.4  3          0.8               0.75       100      0.9332743  0.9539003\n",
              "  0.4  3          0.8               0.75       150      0.9295088  0.9471416\n",
              "  0.4  3          0.8               1.00        50      0.9384880  0.9534971\n",
              "  0.4  3          0.8               1.00       100      0.9338723  0.9503162\n",
              "  0.4  3          0.8               1.00       150      0.9313153  0.9491257\n",
              "  Spec     \n",
              "  0.3815873\n",
              "  0.4667460\n",
              "  0.4553175\n",
              "  0.3789683\n",
              "  0.4469048\n",
              "  0.4581746\n",
              "  0.3590476\n",
              "  0.3901587\n",
              "  0.4241270\n",
              "  0.3957143\n",
              "  0.4837302\n",
              "  0.4750794\n",
              "  0.3617460\n",
              "  0.4213492\n",
              "  0.4438889\n",
              "  0.3646032\n",
              "  0.3928571\n",
              "  0.4327778\n",
              "  0.4893651\n",
              "  0.4717460\n",
              "  0.4834127\n",
              "  0.4551587\n",
              "  0.4948413\n",
              "  0.4950000\n",
              "  0.4550794\n",
              "  0.4917460\n",
              "  0.5089683\n",
              "  0.4834127\n",
              "  0.5007143\n",
              "  0.4889683\n",
              "  0.4949206\n",
              "  0.5004762\n",
              "  0.5032540\n",
              "  0.4694444\n",
              "  0.5172222\n",
              "  0.5142857\n",
              "  0.5040476\n",
              "  0.5062698\n",
              "  0.5342857\n",
              "  0.4972222\n",
              "  0.5229365\n",
              "  0.5370635\n",
              "  0.5262698\n",
              "  0.5117460\n",
              "  0.5088095\n",
              "  0.4891270\n",
              "  0.5344444\n",
              "  0.5287302\n",
              "  0.5146032\n",
              "  0.5114286\n",
              "  0.4915079\n",
              "  0.5144444\n",
              "  0.5201587\n",
              "  0.5226984\n",
              "  0.4214286\n",
              "  0.4584127\n",
              "  0.4748413\n",
              "  0.3988889\n",
              "  0.4806349\n",
              "  0.4950000\n",
              "  0.3817460\n",
              "  0.4412698\n",
              "  0.4584127\n",
              "  0.4213492\n",
              "  0.4583333\n",
              "  0.4750794\n",
              "  0.3987302\n",
              "  0.4726190\n",
              "  0.4637302\n",
              "  0.3759524\n",
              "  0.4326984\n",
              "  0.4554762\n",
              "  0.4980159\n",
              "  0.5006349\n",
              "  0.5142857\n",
              "  0.4888889\n",
              "  0.5171429\n",
              "  0.5311905\n",
              "  0.4722222\n",
              "  0.5145238\n",
              "  0.5088889\n",
              "  0.4667460\n",
              "  0.4803968\n",
              "  0.5172222\n",
              "  0.5173810\n",
              "  0.5089683\n",
              "  0.5344444\n",
              "  0.5141270\n",
              "  0.5308730\n",
              "  0.5198413\n",
              "  0.4830952\n",
              "  0.4912698\n",
              "  0.4887302\n",
              "  0.4976190\n",
              "  0.5119841\n",
              "  0.5199206\n",
              "  0.5143651\n",
              "  0.5341270\n",
              "  0.5341270\n",
              "  0.5119048\n",
              "  0.5058730\n",
              "  0.4719048\n",
              "  0.5061905\n",
              "  0.5144444\n",
              "  0.5059524\n",
              "  0.5084921\n",
              "  0.5028571\n",
              "  0.4833333\n",
              "\n",
              "Tuning parameter 'gamma' was held constant at a value of 0\n",
              "Tuning\n",
              " parameter 'min_child_weight' was held constant at a value of 1\n",
              "ROC was used to select the optimal model using the largest value.\n",
              "The final values used for the model were nrounds = 50, max_depth = 3, eta\n",
              " = 0.3, gamma = 0, colsample_bytree = 0.6, min_child_weight = 1 and subsample\n",
              " = 1."
            ]
          },
          "metadata": {
            "tags": []
          }
        }
      ]
    },
    {
      "cell_type": "code",
      "metadata": {
        "id": "PvolGKX9_h-S",
        "colab_type": "code",
        "colab": {}
      },
      "source": [
        "# Score do Modelo\n",
        "df2_boosting_pred <- predict(df2_boosting, newdata = df2_test)"
      ],
      "execution_count": 0,
      "outputs": []
    },
    {
      "cell_type": "code",
      "metadata": {
        "id": "b175hfTX_h-V",
        "colab_type": "code",
        "outputId": "54e7b808-0e32-4f80-986e-36c5811d4372",
        "colab": {
          "base_uri": "https://localhost:8080/",
          "height": 476
        }
      },
      "source": [
        "# Matriz de Confusão\n",
        "cm_boosting <- confusionMatrix(df2_boosting_pred, df2_test$SUBSCRIBED, positive = \"yes\")\n",
        "cm_boosting\n",
        "cm_boosting_Sensitivity <- data.frame(cm_boosting$byClass)[1, ]\n",
        "cm_boosting_Specificity <- data.frame(cm_boosting$byClass)[2, ]\n",
        "cm_boosting_Accuracy <- data.frame(cm_boosting$overall)[1, ]"
      ],
      "execution_count": 0,
      "outputs": [
        {
          "output_type": "display_data",
          "data": {
            "text/plain": [
              "Confusion Matrix and Statistics\n",
              "\n",
              "          Reference\n",
              "Prediction   no  yes\n",
              "       no  1037   78\n",
              "       yes   41   73\n",
              "                                          \n",
              "               Accuracy : 0.9032          \n",
              "                 95% CI : (0.8853, 0.9191)\n",
              "    No Information Rate : 0.8771          \n",
              "    P-Value [Acc > NIR] : 0.0024318       \n",
              "                                          \n",
              "                  Kappa : 0.4979          \n",
              "                                          \n",
              " Mcnemar's Test P-Value : 0.0009665       \n",
              "                                          \n",
              "            Sensitivity : 0.48344         \n",
              "            Specificity : 0.96197         \n",
              "         Pos Pred Value : 0.64035         \n",
              "         Neg Pred Value : 0.93004         \n",
              "             Prevalence : 0.12286         \n",
              "         Detection Rate : 0.05940         \n",
              "   Detection Prevalence : 0.09276         \n",
              "      Balanced Accuracy : 0.72271         \n",
              "                                          \n",
              "       'Positive' Class : yes             \n",
              "                                          "
            ]
          },
          "metadata": {
            "tags": []
          }
        }
      ]
    },
    {
      "cell_type": "code",
      "metadata": {
        "id": "yk5C035Y_h-X",
        "colab_type": "code",
        "outputId": "a8cb5f2a-9cbe-4f25-93de-1fa46b9c1e81",
        "colab": {
          "base_uri": "https://localhost:8080/",
          "height": 51
        }
      },
      "source": [
        "# Curva ROC\n",
        "df2_boosting_pred_prob <- predict(df2_boosting, newdata = df2_test, type=\"prob\")\n",
        "boosting_roc <- roc(predictor = df2_boosting_pred_prob$yes,\n",
        "               response = df2_test$SUBSCRIBED,\n",
        "               levels = rev(levels(df2_test$SUBSCRIBED)))"
      ],
      "execution_count": 0,
      "outputs": [
        {
          "output_type": "stream",
          "text": [
            "Setting direction: controls > cases\n",
            "\n"
          ],
          "name": "stderr"
        }
      ]
    },
    {
      "cell_type": "markdown",
      "metadata": {
        "id": "RNKDHvKQ_h-d",
        "colab_type": "text"
      },
      "source": [
        "#### Bagging"
      ]
    },
    {
      "cell_type": "code",
      "metadata": {
        "id": "vSzqSv9W_h-d",
        "colab_type": "code",
        "outputId": "a1b9df44-c503-497a-dea6-2b91219de779",
        "colab": {
          "base_uri": "https://localhost:8080/",
          "height": 238
        }
      },
      "source": [
        "# Treinando o Modelo\n",
        "df2_bagging <- train(SUBSCRIBED ~ ., data = df2_train, method = \"treebag\", trControl = cv)\n",
        "df2_bagging"
      ],
      "execution_count": 0,
      "outputs": [
        {
          "output_type": "display_data",
          "data": {
            "text/plain": [
              "Bagged CART \n",
              "\n",
              "2871 samples\n",
              "  18 predictor\n",
              "   2 classes: 'no', 'yes' \n",
              "\n",
              "No pre-processing\n",
              "Resampling: Cross-Validated (10 fold, repeated 1 times) \n",
              "Summary of sample sizes: 2583, 2584, 2584, 2585, 2583, 2584, ... \n",
              "Resampling results:\n",
              "\n",
              "  ROC        Sens       Spec     \n",
              "  0.9213867  0.9503367  0.4860317\n"
            ]
          },
          "metadata": {
            "tags": []
          }
        }
      ]
    },
    {
      "cell_type": "code",
      "metadata": {
        "id": "9kX4X84y_h-g",
        "colab_type": "code",
        "colab": {}
      },
      "source": [
        "# Score do Modelo\n",
        "df2_bagging_pred <- predict(df2_bagging, newdata = df2_test)"
      ],
      "execution_count": 0,
      "outputs": []
    },
    {
      "cell_type": "code",
      "metadata": {
        "id": "BzX4CB-H_h-i",
        "colab_type": "code",
        "outputId": "356bf410-3e27-42ad-e462-0982a4941983",
        "colab": {
          "base_uri": "https://localhost:8080/",
          "height": 51
        }
      },
      "source": [
        "# Curva ROC\n",
        "df2_bagging_pred_prob <- predict(df2_bagging, newdata = df2_test, type=\"prob\")\n",
        "bagging_roc <- roc(predictor = df2_bagging_pred_prob$yes,\n",
        "               response = df2_test$SUBSCRIBED,\n",
        "               levels = rev(levels(df2_test$SUBSCRIBED)))"
      ],
      "execution_count": 0,
      "outputs": [
        {
          "output_type": "stream",
          "text": [
            "Setting direction: controls > cases\n",
            "\n"
          ],
          "name": "stderr"
        }
      ]
    },
    {
      "cell_type": "code",
      "metadata": {
        "id": "JCy3d5NB_h-k",
        "colab_type": "code",
        "outputId": "3b22c587-d7a1-4f33-e4d3-688951f31fd2",
        "colab": {
          "base_uri": "https://localhost:8080/",
          "height": 476
        }
      },
      "source": [
        "# Matriz de Confusão\n",
        "cm_bagging <- confusionMatrix(df2_bagging_pred, df2_test$SUBSCRIBED,  positive = \"yes\")\n",
        "cm_bagging\n",
        "cm_bagging_Sensitivity <- data.frame(cm_bagging$byClass)[1, ]\n",
        "cm_bagging_Specificity <- data.frame(cm_bagging$byClass)[2, ]\n",
        "cm_bagging_Accuracy <- data.frame(cm_bagging$overall)[1, ]"
      ],
      "execution_count": 0,
      "outputs": [
        {
          "output_type": "display_data",
          "data": {
            "text/plain": [
              "Confusion Matrix and Statistics\n",
              "\n",
              "          Reference\n",
              "Prediction   no  yes\n",
              "       no  1034   76\n",
              "       yes   44   75\n",
              "                                          \n",
              "               Accuracy : 0.9024          \n",
              "                 95% CI : (0.8844, 0.9184)\n",
              "    No Information Rate : 0.8771          \n",
              "    P-Value [Acc > NIR] : 0.003233        \n",
              "                                          \n",
              "                  Kappa : 0.5016          \n",
              "                                          \n",
              " Mcnemar's Test P-Value : 0.004656        \n",
              "                                          \n",
              "            Sensitivity : 0.49669         \n",
              "            Specificity : 0.95918         \n",
              "         Pos Pred Value : 0.63025         \n",
              "         Neg Pred Value : 0.93153         \n",
              "             Prevalence : 0.12286         \n",
              "         Detection Rate : 0.06103         \n",
              "   Detection Prevalence : 0.09683         \n",
              "      Balanced Accuracy : 0.72794         \n",
              "                                          \n",
              "       'Positive' Class : yes             \n",
              "                                          "
            ]
          },
          "metadata": {
            "tags": []
          }
        }
      ]
    },
    {
      "cell_type": "markdown",
      "metadata": {
        "id": "gETqQRX0_h-n",
        "colab_type": "text"
      },
      "source": [
        "#### Random Forest"
      ]
    },
    {
      "cell_type": "code",
      "metadata": {
        "id": "RAfInNKu_h-n",
        "colab_type": "code",
        "outputId": "73af1fe3-e835-4bd7-c60c-03a336f9be67",
        "colab": {
          "base_uri": "https://localhost:8080/",
          "height": 323
        }
      },
      "source": [
        "# Treinando o Modelo\n",
        "df2_rf <- train(SUBSCRIBED ~ . , data = df2_train, method = \"rf\", trControl = cv)\n",
        "df2_rf"
      ],
      "execution_count": 0,
      "outputs": [
        {
          "output_type": "display_data",
          "data": {
            "text/plain": [
              "Random Forest \n",
              "\n",
              "2871 samples\n",
              "  18 predictor\n",
              "   2 classes: 'no', 'yes' \n",
              "\n",
              "No pre-processing\n",
              "Resampling: Cross-Validated (10 fold, repeated 1 times) \n",
              "Summary of sample sizes: 2584, 2583, 2584, 2584, 2584, 2584, ... \n",
              "Resampling results across tuning parameters:\n",
              "\n",
              "  mtry  ROC        Sens       Spec     \n",
              "   2    0.9230870  1.0000000  0.0000000\n",
              "  46    0.9331832  0.9523256  0.5369841\n",
              "  91    0.9313800  0.9499447  0.5400000\n",
              "\n",
              "ROC was used to select the optimal model using the largest value.\n",
              "The final value used for the model was mtry = 46."
            ]
          },
          "metadata": {
            "tags": []
          }
        }
      ]
    },
    {
      "cell_type": "code",
      "metadata": {
        "id": "PI5Nj3zo_h-q",
        "colab_type": "code",
        "colab": {}
      },
      "source": [
        "# Score do Modelo\n",
        "df2_rf_pred <- predict(df2_rf, newdata = df2_test)"
      ],
      "execution_count": 0,
      "outputs": []
    },
    {
      "cell_type": "code",
      "metadata": {
        "id": "dOuaE1Dc_h-t",
        "colab_type": "code",
        "outputId": "d561503d-d79f-4515-a2f9-64f11bebb968",
        "colab": {
          "base_uri": "https://localhost:8080/",
          "height": 476
        }
      },
      "source": [
        "# Matriz de confusão\n",
        "cm_rf <- confusionMatrix(df2_rf_pred, df2_test$SUBSCRIBED,  positive = \"yes\")\n",
        "cm_rf\n",
        "cm_rf_Sensitivity <- data.frame(cm_rf$byClass)[1, ]\n",
        "cm_rf_Specificity <- data.frame(cm_rf$byClass)[2, ]\n",
        "cm_rf_Accuracy <- data.frame(cm_rf$overall)[1, ]"
      ],
      "execution_count": 0,
      "outputs": [
        {
          "output_type": "display_data",
          "data": {
            "text/plain": [
              "Confusion Matrix and Statistics\n",
              "\n",
              "          Reference\n",
              "Prediction   no  yes\n",
              "       no  1036   75\n",
              "       yes   42   76\n",
              "                                         \n",
              "               Accuracy : 0.9048         \n",
              "                 95% CI : (0.887, 0.9206)\n",
              "    No Information Rate : 0.8771         \n",
              "    P-Value [Acc > NIR] : 0.001340       \n",
              "                                         \n",
              "                  Kappa : 0.5125         \n",
              "                                         \n",
              " Mcnemar's Test P-Value : 0.003092       \n",
              "                                         \n",
              "            Sensitivity : 0.50331        \n",
              "            Specificity : 0.96104        \n",
              "         Pos Pred Value : 0.64407        \n",
              "         Neg Pred Value : 0.93249        \n",
              "             Prevalence : 0.12286        \n",
              "         Detection Rate : 0.06184        \n",
              "   Detection Prevalence : 0.09601        \n",
              "      Balanced Accuracy : 0.73218        \n",
              "                                         \n",
              "       'Positive' Class : yes            \n",
              "                                         "
            ]
          },
          "metadata": {
            "tags": []
          }
        }
      ]
    },
    {
      "cell_type": "code",
      "metadata": {
        "id": "pLRf0HvD_h-x",
        "colab_type": "code",
        "outputId": "ba9b9438-3a26-405c-b8df-2b9678e00d0c",
        "colab": {
          "base_uri": "https://localhost:8080/",
          "height": 51
        }
      },
      "source": [
        "# Curva ROC\n",
        "df2_rf_pred_prob <- predict(df2_rf, newdata = df2_test, type=\"prob\")\n",
        "rf_roc <- roc(predictor = df2_rf_pred_prob$yes,\n",
        "               response = df2_test$SUBSCRIBED,\n",
        "               levels = rev(levels(df2_test$SUBSCRIBED)))"
      ],
      "execution_count": 0,
      "outputs": [
        {
          "output_type": "stream",
          "text": [
            "Setting direction: controls > cases\n",
            "\n"
          ],
          "name": "stderr"
        }
      ]
    },
    {
      "cell_type": "markdown",
      "metadata": {
        "id": "d2uvxyJM_h-z",
        "colab_type": "text"
      },
      "source": [
        "### Support Vector Machine (SVM)"
      ]
    },
    {
      "cell_type": "markdown",
      "metadata": {
        "id": "YkpBeqIK_h-z",
        "colab_type": "text"
      },
      "source": [
        "#### Linear Kernel"
      ]
    },
    {
      "cell_type": "code",
      "metadata": {
        "id": "KvYVHL39_h-z",
        "colab_type": "code",
        "colab": {}
      },
      "source": [
        "#Parametrizando o Cross Validation\n",
        "set.seed(314)\n",
        "cv_svm <- trainControl(method = \"repeatedcv\", number = 10, classProbs = TRUE)"
      ],
      "execution_count": 0,
      "outputs": []
    },
    {
      "cell_type": "code",
      "metadata": {
        "id": "A6lG3MmS_h-1",
        "colab_type": "code",
        "outputId": "178e28e4-127f-479a-937c-41cfa534af69",
        "colab": {
          "base_uri": "https://localhost:8080/",
          "height": 272
        }
      },
      "source": [
        "# Treinando o Modelo\n",
        "options(warn=-1)\n",
        "df2_svm_lk <- train(SUBSCRIBED ~ ., data = df2_train,  \n",
        "                       method = \"svmLinear\", trControl = cv_svm, \n",
        "                       preProcess = c(\"center\", \"scale\"))\n",
        "df2_svm_lk"
      ],
      "execution_count": 0,
      "outputs": [
        {
          "output_type": "display_data",
          "data": {
            "text/plain": [
              "Support Vector Machines with Linear Kernel \n",
              "\n",
              "2871 samples\n",
              "  18 predictor\n",
              "   2 classes: 'no', 'yes' \n",
              "\n",
              "Pre-processing: centered (91), scaled (91) \n",
              "Resampling: Cross-Validated (10 fold, repeated 1 times) \n",
              "Summary of sample sizes: 2584, 2585, 2585, 2583, 2583, 2583, ... \n",
              "Resampling results:\n",
              "\n",
              "  Accuracy  Kappa    \n",
              "  0.894111  0.3548607\n",
              "\n",
              "Tuning parameter 'C' was held constant at a value of 1"
            ]
          },
          "metadata": {
            "tags": []
          }
        }
      ]
    },
    {
      "cell_type": "code",
      "metadata": {
        "id": "ia18egHM_h-3",
        "colab_type": "code",
        "colab": {}
      },
      "source": [
        "# Score do Modelo\n",
        "df2_svm_lk_pred <- predict(df2_svm_lk, newdata=df2_test)"
      ],
      "execution_count": 0,
      "outputs": []
    },
    {
      "cell_type": "code",
      "metadata": {
        "id": "qYNR5WxI_h-4",
        "colab_type": "code",
        "outputId": "b89023cc-0e27-46e0-d17c-5e5292698a5a",
        "colab": {
          "base_uri": "https://localhost:8080/",
          "height": 476
        }
      },
      "source": [
        "# Matriz de confusão\n",
        "cm_svm_lk <- confusionMatrix(df2_svm_lk_pred, df2_test$SUBSCRIBED,  positive = \"yes\")\n",
        "cm_svm_lk\n",
        "cm_svm_lk_Sensitivity <- data.frame(cm_svm_lk$byClass)[1, ]\n",
        "cm_svm_lk_Specificity <- data.frame(cm_svm_lk$byClass)[2, ]\n",
        "cm_svm_lk_Accuracy <- data.frame(cm_svm_lk$overall)[1, ]"
      ],
      "execution_count": 0,
      "outputs": [
        {
          "output_type": "display_data",
          "data": {
            "text/plain": [
              "Confusion Matrix and Statistics\n",
              "\n",
              "          Reference\n",
              "Prediction   no  yes\n",
              "       no  1059  106\n",
              "       yes   19   45\n",
              "                                        \n",
              "               Accuracy : 0.8983        \n",
              "                 95% CI : (0.88, 0.9146)\n",
              "    No Information Rate : 0.8771        \n",
              "    P-Value [Acc > NIR] : 0.01184       \n",
              "                                        \n",
              "                  Kappa : 0.3727        \n",
              "                                        \n",
              " Mcnemar's Test P-Value : 1.448e-14     \n",
              "                                        \n",
              "            Sensitivity : 0.29801       \n",
              "            Specificity : 0.98237       \n",
              "         Pos Pred Value : 0.70312       \n",
              "         Neg Pred Value : 0.90901       \n",
              "             Prevalence : 0.12286       \n",
              "         Detection Rate : 0.03662       \n",
              "   Detection Prevalence : 0.05207       \n",
              "      Balanced Accuracy : 0.64019       \n",
              "                                        \n",
              "       'Positive' Class : yes           \n",
              "                                        "
            ]
          },
          "metadata": {
            "tags": []
          }
        }
      ]
    },
    {
      "cell_type": "code",
      "metadata": {
        "id": "TUCiUIma_h-7",
        "colab_type": "code",
        "outputId": "8f47ff99-089c-4853-9d09-68d19d3d9f4a",
        "colab": {
          "base_uri": "https://localhost:8080/",
          "height": 51
        }
      },
      "source": [
        "# Curva ROC\n",
        "df2_svm_lk_prob <- predict(df2_svm_lk, newdata = df2_test, type=\"prob\")\n",
        "\n",
        "df2_svm_lk_roc <- roc(predictor = df2_svm_lk_prob$yes,\n",
        "               response = df2_test$SUBSCRIBED,\n",
        "               levels = rev(levels(df2_test$SUBSCRIBED)))"
      ],
      "execution_count": 0,
      "outputs": [
        {
          "output_type": "stream",
          "text": [
            "Setting direction: controls > cases\n",
            "\n"
          ],
          "name": "stderr"
        }
      ]
    },
    {
      "cell_type": "markdown",
      "metadata": {
        "id": "XR_5Gysl_h-8",
        "colab_type": "text"
      },
      "source": [
        "#### RFB Kernel"
      ]
    },
    {
      "cell_type": "code",
      "metadata": {
        "id": "a_--ZS3B_h-9",
        "colab_type": "code",
        "outputId": "17fa63d6-c2f0-4510-c2d4-13943e686627",
        "colab": {
          "base_uri": "https://localhost:8080/",
          "height": 340
        }
      },
      "source": [
        "# Treinando o modelo\n",
        "options=(warn=-1)\n",
        "df2_rfb <- train(SUBSCRIBED ~ .,data=df2_train,\n",
        "                 method=\"svmRadial\",\n",
        "                 trControl=cv_svm,\n",
        "                preProcess= c(\"center\", \"scale\"),\n",
        "                metric=\"ROC\")\n",
        "df2_rfb"
      ],
      "execution_count": 0,
      "outputs": [
        {
          "output_type": "display_data",
          "data": {
            "text/plain": [
              "Support Vector Machines with Radial Basis Function Kernel \n",
              "\n",
              "2871 samples\n",
              "  18 predictor\n",
              "   2 classes: 'no', 'yes' \n",
              "\n",
              "Pre-processing: centered (91), scaled (91) \n",
              "Resampling: Cross-Validated (10 fold, repeated 1 times) \n",
              "Summary of sample sizes: 2584, 2585, 2583, 2584, 2584, 2584, ... \n",
              "Resampling results across tuning parameters:\n",
              "\n",
              "  C     Accuracy   Kappa    \n",
              "  0.25  0.8892331  0.3095441\n",
              "  0.50  0.8864433  0.3078966\n",
              "  1.00  0.8881854  0.3681378\n",
              "\n",
              "Tuning parameter 'sigma' was held constant at a value of 0.01119384\n",
              "Accuracy was used to select the optimal model using the largest value.\n",
              "The final values used for the model were sigma = 0.01119384 and C = 0.25."
            ]
          },
          "metadata": {
            "tags": []
          }
        }
      ]
    },
    {
      "cell_type": "code",
      "metadata": {
        "id": "FuCNfWtC_h--",
        "colab_type": "code",
        "colab": {}
      },
      "source": [
        "# Score do modelo\n",
        "df2_rfb_pred <- predict(df2_rfb, newdata = df2_test)"
      ],
      "execution_count": 0,
      "outputs": []
    },
    {
      "cell_type": "code",
      "metadata": {
        "id": "6UMxT4rI_h_C",
        "colab_type": "code",
        "outputId": "7489839c-5b98-458a-b6c2-ea886fa39208",
        "colab": {
          "base_uri": "https://localhost:8080/",
          "height": 476
        }
      },
      "source": [
        "# Matriz de confusão\n",
        "cm_rfb <- confusionMatrix(df2_rfb_pred, df2_test$SUBSCRIBED,  positive = \"yes\")\n",
        "cm_rfb\n",
        "cm_rfb_Sensitivity <- data.frame(cm_rfb$byClass)[1, ]\n",
        "cm_rfb_Specificity <- data.frame(cm_rfb$byClass)[2, ]\n",
        "cm_rfb_Accuracy <- data.frame(cm_rfb$overall)[1, ]"
      ],
      "execution_count": 0,
      "outputs": [
        {
          "output_type": "display_data",
          "data": {
            "text/plain": [
              "Confusion Matrix and Statistics\n",
              "\n",
              "          Reference\n",
              "Prediction   no  yes\n",
              "       no  1053  115\n",
              "       yes   25   36\n",
              "                                         \n",
              "               Accuracy : 0.8861         \n",
              "                 95% CI : (0.867, 0.9033)\n",
              "    No Information Rate : 0.8771         \n",
              "    P-Value [Acc > NIR] : 0.1812         \n",
              "                                         \n",
              "                  Kappa : 0.2894         \n",
              "                                         \n",
              " Mcnemar's Test P-Value : 5.4e-14        \n",
              "                                         \n",
              "            Sensitivity : 0.23841        \n",
              "            Specificity : 0.97681        \n",
              "         Pos Pred Value : 0.59016        \n",
              "         Neg Pred Value : 0.90154        \n",
              "             Prevalence : 0.12286        \n",
              "         Detection Rate : 0.02929        \n",
              "   Detection Prevalence : 0.04963        \n",
              "      Balanced Accuracy : 0.60761        \n",
              "                                         \n",
              "       'Positive' Class : yes            \n",
              "                                         "
            ]
          },
          "metadata": {
            "tags": []
          }
        }
      ]
    },
    {
      "cell_type": "code",
      "metadata": {
        "id": "iyCGoLoy_h_E",
        "colab_type": "code",
        "outputId": "509a1195-6615-4004-8dd4-377818b28584",
        "colab": {
          "base_uri": "https://localhost:8080/",
          "height": 51
        }
      },
      "source": [
        "# Curva ROC\n",
        "df2_rfb_prob <- predict(df2_rfb, newdata = df2_test, type=\"prob\")\n",
        "\n",
        "df2_rfb_roc <- roc(predictor = df2_rfb_prob$yes,\n",
        "               response = df2_test$SUBSCRIBED,\n",
        "               levels = rev(levels(df2_test$SUBSCRIBED)))"
      ],
      "execution_count": 0,
      "outputs": [
        {
          "output_type": "stream",
          "text": [
            "Setting direction: controls > cases\n",
            "\n"
          ],
          "name": "stderr"
        }
      ]
    },
    {
      "cell_type": "markdown",
      "metadata": {
        "id": "64AegwN5_h_G",
        "colab_type": "text"
      },
      "source": [
        "### Rede Neural"
      ]
    },
    {
      "cell_type": "code",
      "metadata": {
        "id": "08n9O5t9_h_G",
        "colab_type": "code",
        "colab": {}
      },
      "source": [
        "# Treinando o Modelo\n",
        "df2_rn <- train(SUBSCRIBED ~.,\n",
        "                data=df2_train,\n",
        "               method=\"nnet\",\n",
        "               trace=FALSE,\n",
        "               preProc=c(\"center\", \"scale\"))"
      ],
      "execution_count": 0,
      "outputs": []
    },
    {
      "cell_type": "code",
      "metadata": {
        "id": "QKrJ95Mt_h_I",
        "colab_type": "code",
        "outputId": "ac7c40da-39e6-4d79-87b3-16f50e0a51e7",
        "colab": {
          "base_uri": "https://localhost:8080/",
          "height": 425
        }
      },
      "source": [
        "df2_rn"
      ],
      "execution_count": 0,
      "outputs": [
        {
          "output_type": "display_data",
          "data": {
            "text/plain": [
              "Neural Network \n",
              "\n",
              "2871 samples\n",
              "  18 predictor\n",
              "   2 classes: 'no', 'yes' \n",
              "\n",
              "Pre-processing: centered (91), scaled (91) \n",
              "Resampling: Bootstrapped (25 reps) \n",
              "Summary of sample sizes: 2871, 2871, 2871, 2871, 2871, 2871, ... \n",
              "Resampling results across tuning parameters:\n",
              "\n",
              "  size  decay  Accuracy   Kappa    \n",
              "  1     0e+00  0.8641945  0.4964168\n",
              "  1     1e-04  0.8632215  0.4876096\n",
              "  1     1e-01  0.8831684  0.5374741\n",
              "  3     0e+00  0.8827931  0.4767196\n",
              "  3     1e-04  0.8813946  0.4785259\n",
              "  3     1e-01  0.8840579  0.4795583\n",
              "  5     0e+00  0.8849727  0.4794035\n",
              "  5     1e-04  0.8817674  0.4571363\n",
              "  5     1e-01  0.8838033  0.4496485\n",
              "\n",
              "Accuracy was used to select the optimal model using the largest value.\n",
              "The final values used for the model were size = 5 and decay = 0."
            ]
          },
          "metadata": {
            "tags": []
          }
        }
      ]
    },
    {
      "cell_type": "code",
      "metadata": {
        "id": "94dEgSH__h_L",
        "colab_type": "code",
        "colab": {}
      },
      "source": [
        "# Score do Modelo\n",
        "df2_rn_pred <- predict(df2_rn, newdata=df2_test)"
      ],
      "execution_count": 0,
      "outputs": []
    },
    {
      "cell_type": "code",
      "metadata": {
        "id": "BEHYBpPP_h_N",
        "colab_type": "code",
        "outputId": "57d352df-b1d8-4a01-9e87-e450dced0692",
        "colab": {
          "base_uri": "https://localhost:8080/",
          "height": 476
        }
      },
      "source": [
        "# Matriz de Confusão\n",
        "cm_rn <- confusionMatrix(df2_rn_pred, df2_test$SUBSCRIBED,  positive = \"yes\")\n",
        "cm_rn\n",
        "cm_rn_Sensitivity <- data.frame(cm_rn$byClass)[1, ]\n",
        "cm_rn_Specificity <- data.frame(cm_rn$byClass)[2, ]\n",
        "cm_rn_Accuracy <- data.frame(cm_rn$overall)[1, ]"
      ],
      "execution_count": 0,
      "outputs": [
        {
          "output_type": "display_data",
          "data": {
            "text/plain": [
              "Confusion Matrix and Statistics\n",
              "\n",
              "          Reference\n",
              "Prediction   no  yes\n",
              "       no  1016   71\n",
              "       yes   62   80\n",
              "                                          \n",
              "               Accuracy : 0.8918          \n",
              "                 95% CI : (0.8731, 0.9086)\n",
              "    No Information Rate : 0.8771          \n",
              "    P-Value [Acc > NIR] : 0.06227         \n",
              "                                          \n",
              "                  Kappa : 0.4847          \n",
              "                                          \n",
              " Mcnemar's Test P-Value : 0.48788         \n",
              "                                          \n",
              "            Sensitivity : 0.52980         \n",
              "            Specificity : 0.94249         \n",
              "         Pos Pred Value : 0.56338         \n",
              "         Neg Pred Value : 0.93468         \n",
              "             Prevalence : 0.12286         \n",
              "         Detection Rate : 0.06509         \n",
              "   Detection Prevalence : 0.11554         \n",
              "      Balanced Accuracy : 0.73614         \n",
              "                                          \n",
              "       'Positive' Class : yes             \n",
              "                                          "
            ]
          },
          "metadata": {
            "tags": []
          }
        }
      ]
    },
    {
      "cell_type": "code",
      "metadata": {
        "id": "EB3tUR4t_h_P",
        "colab_type": "code",
        "outputId": "68db59e3-ab06-4cee-d2b8-4a4a9854cb6c",
        "colab": {
          "base_uri": "https://localhost:8080/",
          "height": 51
        }
      },
      "source": [
        "# Curva ROC\n",
        "df2_rn_prob <- predict(df2_rn, newdata = df2_test , type = \"prob\")\n",
        "df2_rn_prob_roc <- roc(predictor = df2_rn_prob$yes,\n",
        "                       response = df2_test$SUBSCRIBED,\n",
        "                       levels = rev(levels(df2_test$SUBSCRIBED)))"
      ],
      "execution_count": 0,
      "outputs": [
        {
          "output_type": "stream",
          "text": [
            "Setting direction: controls > cases\n",
            "\n"
          ],
          "name": "stderr"
        }
      ]
    },
    {
      "cell_type": "markdown",
      "metadata": {
        "id": "DJI6ieAvQdY7",
        "colab_type": "text"
      },
      "source": [
        "## Comparando os modelos"
      ]
    },
    {
      "cell_type": "markdown",
      "metadata": {
        "id": "siyleu_lROwn",
        "colab_type": "text"
      },
      "source": [
        "##### Importância das variáveis"
      ]
    },
    {
      "cell_type": "code",
      "metadata": {
        "id": "J4A2ufnaQjPm",
        "colab_type": "code",
        "colab": {}
      },
      "source": [
        "imp_glm <- varImp(df2_glm, useModel = FALSE, scale = FALSE)\n",
        "imp_bst2 <- varImp(df2_boosting, useModel = FALSE, scale = FALSE)\n",
        "imp_bag2 <- varImp(df2_bagging, useModel = FALSE, scale = FALSE)\n",
        "imp_rf2 <- varImp(df2_rf, useModel = FALSE, scale = FALSE)\n",
        "imp_svm_lin <- varImp(df2_svm_lk, useModel = FALSE, scale = FALSE)\n",
        "imp_svm_rad <- varImp(df2_rfb, useModel = FALSE, scale = FALSE)\n",
        "imp_rn2 <- varImp(df2_rn, useModel = FALSE, scale = FALSE)"
      ],
      "execution_count": 0,
      "outputs": []
    },
    {
      "cell_type": "code",
      "metadata": {
        "id": "pi1Mfk07QtNk",
        "colab_type": "code",
        "outputId": "a98bbd0e-f923-4339-bbfa-3b0b8213b91d",
        "colab": {
          "base_uri": "https://localhost:8080/",
          "height": 617
        }
      },
      "source": [
        "options(repr.plot.width = 20, repr.plot.height = 10)\n",
        "par(mfrow = c(1,7))\n",
        "pl1 <- plot(imp_glm, main = \"Logistic Regression\")\n",
        "pl2 <- plot(imp_bst2, main = \"Boosting\")\n",
        "pl3 <- plot(imp_bag2, main = \"Bagging\")\n",
        "pl4 <- plot(imp_rf2, main = \"Random Forest\")\n",
        "pl5 <- plot(imp_svm_lin, main = \"SVM Linear\")\n",
        "pl6 <- plot(imp_svm_rad, main = \"SVM RBF\")\n",
        "pl7 <- plot(imp_rn2, main = \"Neural Network\")\n",
        "grid.arrange(pl1, pl2, pl3, pl4, pl5, pl6, pl7, ncol = 4)\n",
        "par(mfrow = c(1,1))"
      ],
      "execution_count": 0,
      "outputs": [
        {
          "output_type": "display_data",
          "data": {
            "image/png": "[encoded data removed]",
            "text/plain": [
              "plot without title"
            ]
          },
          "metadata": {
            "tags": [],
            "image/png": {
              "width": 1200,
              "height": 600
            },
            "text/plain": {
              "width": 1200,
              "height": 600
            }
          }
        }
      ]
    },
    {
      "cell_type": "markdown",
      "metadata": {
        "id": "LFZ8E4G41As5",
        "colab_type": "text"
      },
      "source": [
        "#####Os modelos de classificação testados apresentaram a mesma escala de importância para as variáveis preditoras, com destaque para as variáveis que envolvem o relacionamento interpessoal (meio de contato, duração do contato e se houve contato prévio), a taxa de sesemprego e o IGPM. A ordem de importância das variáveis também apresenta coerência com os aspectos do negócio."
      ]
    },
    {
      "cell_type": "markdown",
      "metadata": {
        "id": "Y6QSn8MvQ9z_",
        "colab_type": "text"
      },
      "source": [
        "##### Curva ROC"
      ]
    },
    {
      "cell_type": "code",
      "metadata": {
        "id": "bnpkN-jKRHBv",
        "colab_type": "code",
        "outputId": "c2487ec8-d31a-4467-cae4-95aaed17f195",
        "colab": {
          "base_uri": "https://localhost:8080/",
          "height": 197
        }
      },
      "source": [
        "options(repr.plot.width = 20, repr.plot.height = 3)\n",
        "par(mfrow = c(1,7))\n",
        "plot(glm_roc, main=\"Curva ROC - Logistic Regression\", print.auc = TRUE)\n",
        "plot(boosting_roc, main=\"Curva ROC - Boosting\", print.auc = TRUE)\n",
        "plot(bagging_roc, main=\"Curva ROC - Bagging\", print.auc = TRUE)\n",
        "plot(rf_roc, main=\"Curva ROC - Random Forest\", print.auc = TRUE)\n",
        "plot(df2_svm_lk_roc, main=\"Curva ROC - SVM Linear Kernel\", print.auc = TRUE)\n",
        "plot(df2_rfb_roc, main=\"Curva ROC - SVM RBF Kernel\", print.auc = TRUE)\n",
        "plot(df2_rn_prob_roc, main=\"Curva ROC - Neural Network\", print.auc = TRUE)\n",
        "par(mfrow = c(1,1))"
      ],
      "execution_count": 0,
      "outputs": [
        {
          "output_type": "display_data",
          "data": {
            "image/png": "[encoded data removed]",
            "text/plain": [
              "Plot with title “Curva ROC - Neural Network”"
            ]
          },
          "metadata": {
            "tags": [],
            "image/png": {
              "width": 1200,
              "height": 180
            },
            "text/plain": {
              "width": 1200,
              "height": 180
            }
          }
        }
      ]
    },
    {
      "cell_type": "markdown",
      "metadata": {
        "id": "I6rwAA1h0R3Z",
        "colab_type": "text"
      },
      "source": [
        "##### AUC"
      ]
    },
    {
      "cell_type": "code",
      "metadata": {
        "id": "l9xb2i-gRJGd",
        "colab_type": "code",
        "outputId": "73a81d31-5e49-4d4b-856a-225bd3bf7d04",
        "colab": {
          "base_uri": "https://localhost:8080/",
          "height": 102
        }
      },
      "source": [
        "md_auc <- data.frame(\"Logistic Regression\" = max(glm_roc$auc),\n",
        "                             \"Boosting\" = max(boosting_roc$auc),\n",
        "                             \"Bagging\" = max(bagging_roc$auc),\n",
        "                             \"Random Forest\" = max(rf_roc$auc),\n",
        "                             \"SVM Linear\" = max(df2_svm_lk_roc$auc),\n",
        "                             \"SVM RFB\"= max(df2_rfb_roc$auc),\n",
        "                             \"Rede Neural\" = max(df2_rn_prob_roc$auc))\n",
        "rownames(md_auc) <- (\"AUC\")\n",
        "md_auc %>% head() %>% knitr::kable()"
      ],
      "execution_count": 0,
      "outputs": [
        {
          "output_type": "display_data",
          "data": {
            "text/plain": [
              "\n",
              "\n",
              "|    | Logistic.Regression|  Boosting|   Bagging| Random.Forest| SVM.Linear|   SVM.RFB| Rede.Neural|\n",
              "|:---|-------------------:|---------:|---------:|-------------:|----------:|---------:|-----------:|\n",
              "|AUC |           0.9156889| 0.9395465| 0.9136339|     0.9350649|  0.9101844| 0.9059762|   0.9036848|"
            ]
          },
          "metadata": {
            "tags": []
          }
        }
      ]
    },
    {
      "cell_type": "markdown",
      "metadata": {
        "id": "u1OczlKL6aQi",
        "colab_type": "text"
      },
      "source": [
        "#####Todos os modelos performaram AUC acima de 0.9, mesmo utilizando uma amostra reduzida da população."
      ]
    },
    {
      "cell_type": "code",
      "metadata": {
        "id": "9APoFMEG9r6H",
        "colab_type": "code",
        "outputId": "aefe0c87-6da3-4fcb-f7f5-deebf69a7816",
        "colab": {
          "base_uri": "https://localhost:8080/",
          "height": 272
        }
      },
      "source": [
        "# Sensitivity\n",
        "models_Sensitivity <- data.frame(\"Logistic Regression\" = cm_glm_Sensitivity, \"Boosting\" = cm_boosting_Sensitivity,\n",
        "\"Bagging\" = cm_bagging_Sensitivity, \"Random Forest\" = cm_rf_Sensitivity, \"SVM Linear\" = cm_svm_lk_Sensitivity, \n",
        "\"SVM RFB\" = cm_rfb_Sensitivity, \"Rede Neural\" = cm_rn_Sensitivity)\n",
        "rownames(models_Sensitivity) <- (\"SENSIBILIDADE. \")\n",
        "models_Sensitivity %>% head() %>% knitr::kable()\n",
        "\n",
        "# Specificity\n",
        "models_Specificity <- data.frame(\"Logistic Regression\" = cm_glm_Specificity, \"Boosting\" = cm_boosting_Specificity,\n",
        "\"Bagging\" = cm_bagging_Specificity, \"Random Forest\" = cm_rf_Specificity, \"SVM Linear\" = cm_svm_lk_Specificity, \n",
        "\"SVM RFB\" = cm_rfb_Specificity, \"Rede Neural\" = cm_rn_Specificity)\n",
        "rownames(models_Specificity) <- (\"ESPECIFICIDADE\")\n",
        "models_Specificity %>% head() %>% knitr::kable()\n",
        "\n",
        "# Accuracy\n",
        "models_Accuracy <- data.frame(\"Logistic Regression\" = cm_glm_Accuracy, \"Boosting\" = cm_boosting_Accuracy,\n",
        "\"Bagging\" = cm_bagging_Accuracy, \"Random Forest\" = cm_rf_Accuracy, \"SVM Linear\" = cm_svm_lk_Accuracy, \n",
        "\"SVM RFB\" = cm_rfb_Accuracy, \"Rede Neural\" = cm_rn_Accuracy)\n",
        "rownames(models_Accuracy) <- (\"ACCURACY......\")\n",
        "models_Accuracy %>% head() %>% knitr::kable()"
      ],
      "execution_count": 0,
      "outputs": [
        {
          "output_type": "display_data",
          "data": {
            "text/plain": [
              "\n",
              "\n",
              "|               | Logistic.Regression|  Boosting|   Bagging| Random.Forest| SVM.Linear|   SVM.RFB| Rede.Neural|\n",
              "|:--------------|-------------------:|---------:|---------:|-------------:|----------:|---------:|-----------:|\n",
              "|SENSIBILIDADE. |            0.410596| 0.4834437| 0.4966887|     0.5033113|  0.2980132| 0.2384106|   0.5298013|"
            ]
          },
          "metadata": {
            "tags": []
          }
        },
        {
          "output_type": "display_data",
          "data": {
            "text/plain": [
              "\n",
              "\n",
              "|               | Logistic.Regression|  Boosting|   Bagging| Random.Forest| SVM.Linear|   SVM.RFB| Rede.Neural|\n",
              "|:--------------|-------------------:|---------:|---------:|-------------:|----------:|---------:|-----------:|\n",
              "|ESPECIFICIDADE |           0.9749536| 0.9619666| 0.9591837|      0.961039|  0.9823748| 0.9768089|   0.9424861|"
            ]
          },
          "metadata": {
            "tags": []
          }
        },
        {
          "output_type": "display_data",
          "data": {
            "text/plain": [
              "\n",
              "\n",
              "|               | Logistic.Regression|  Boosting|   Bagging| Random.Forest| SVM.Linear|   SVM.RFB| Rede.Neural|\n",
              "|:--------------|-------------------:|---------:|---------:|-------------:|----------:|---------:|-----------:|\n",
              "|ACCURACY...... |           0.9056143| 0.9031733| 0.9023596|     0.9048007|  0.8982913| 0.8860862|   0.8917819|"
            ]
          },
          "metadata": {
            "tags": []
          }
        }
      ]
    },
    {
      "cell_type": "markdown",
      "metadata": {
        "id": "E15jYYqE96rF",
        "colab_type": "text"
      },
      "source": [
        "### Considerações sobre os modelos para Targeted Advertising"
      ]
    },
    {
      "cell_type": "markdown",
      "metadata": {
        "id": "nD_N8HdT_GSU",
        "colab_type": "text"
      },
      "source": [
        "##### Todos os modelos se comportaram de forma semelhante em acurácia e especificidade, com pequena variação na sensibilidade. A alta acurácia indica a boa assertividade geral dos modelos, a alta epecificidade indica boa capacidade em identificar os *verdadeiros negativos*. Apesar da Sensibilidade geral dos modelos não ser muito alta, consideramos que na abordagem do público predito como \"yes\", o custo da soma de todos os *falsos positivos* será muito menor do que a abordagem aleatória de toda a base, incluindo-se aí, os preditos como *verdadeiros negativos*. Em resumo, na população apresentada, foram abordados 41188 pessoas para se conseguir 4640 assinaturas. Utilizando uma abordagem direcionada pelo nosso modelo de Rede Neural com sensibilidae de 52,98%, contatando os preditos como \"yes\", a empresa abordaria apenas 8758 clientes para conseguir as mesmas 4640 assinaturas, o que representaria uma enorme redução no custo de aquisição dos clientes."
      ]
    }
  ]
}